{
 "cells": [
  {
   "cell_type": "code",
   "execution_count": 10,
   "metadata": {},
   "outputs": [],
   "source": [
    "\"\"\"\n",
    "This code automatically downloads the MNIST dataset and creates a custom dataset with colorized images.\n",
    "A ResNet18 model is used to extract features from the images, which are then saved to disk.\n",
    "\"\"\"\n",
    "\n",
    "import os.path\n",
    "import os\n",
    "import torch\n",
    "from torch.utils.data import DataLoader\n",
    "from torchvision import datasets, transforms, models\n",
    "import numpy as np\n",
    "from tqdm import tqdm\n",
    "\n",
    "\n",
    "# Helper function to convert grayscale image to red or green\n",
    "def colorize(image, color):\n",
    "    colored_image = torch.zeros(3, 28, 28)  # Create an image with 3 channels (RGB)\n",
    "    if color == 'red':\n",
    "        colored_image[0] = image  # Red channel\n",
    "    elif color == 'green':\n",
    "        colored_image[1] = image  # Green channel\n",
    "    else:\n",
    "        colored_image[2] = image\n",
    "    return colored_image\n",
    "\n",
    "\n",
    "# Creating the custom dataset\n",
    "class CustomMNISTDataset(torch.utils.data.Dataset):\n",
    "    def __init__(self, mnist_dataset):\n",
    "        self.mnist_dataset = mnist_dataset\n",
    "\n",
    "    def __len__(self):\n",
    "        return len(self.mnist_dataset)\n",
    "\n",
    "    def __getitem__(self, idx):\n",
    "        image, digit = self.mnist_dataset[idx]\n",
    "\n",
    "        # Colorize the image\n",
    "        color_random = np.random.rand()\n",
    "        if color_random < 0.3:\n",
    "            color = 'red'\n",
    "        elif color_random < 0.6:\n",
    "            color = 'green'\n",
    "        else:\n",
    "            color = 'blue'\n",
    "        colored_image = colorize(image.squeeze(), color)  # Remove channel dimension of the grayscale image\n",
    "        # colored_image = image\n",
    "        # Create the concept label\n",
    "        concept_label = np.zeros(12)  # 10 digits + 2 colors\n",
    "        concept_label[digit] = 1\n",
    "        concept_label[10] = 1 if color == 'red' else 0\n",
    "        concept_label[11] = 1 if color == 'green' else 0\n",
    "\n",
    "        # Create the target label\n",
    "        target_label = 1 if digit % 2 == 0 else 0\n",
    "\n",
    "        return colored_image, torch.tensor(concept_label, dtype=torch.float32), torch.tensor(target_label, dtype=torch.float32)\n",
    "\n",
    "def main():\n",
    "    # Step 1: Prepare the MNIST dataset\n",
    "    # [Include the CustomMNISTDataset class from the previous code snippet here]\n",
    "\n",
    "    # Load MNIST data\n",
    "    mnist_train = datasets.MNIST(root='./data', train=True, download=True, transform=transforms.ToTensor())\n",
    "    mnist_test = datasets.MNIST(root='./data', train=False, download=True, transform=transforms.ToTensor())\n",
    "\n",
    "\n",
    "    # Create custom datasets\n",
    "    custom_train_dataset = CustomMNISTDataset(mnist_train)\n",
    "    custom_test_dataset = CustomMNISTDataset(mnist_test)\n",
    "\n",
    "    # DataLoaders\n",
    "    train_loader = DataLoader(custom_train_dataset, batch_size=64, shuffle=True)\n",
    "    test_loader = DataLoader(custom_test_dataset, batch_size=64, shuffle=False)\n",
    "\n",
    "    # Step 2: Prepare ResNet18 model for feature extraction\n",
    "    model = models.resnet18(pretrained=True)\n",
    "    model.eval()  # Set the model to evaluation mode\n",
    "\n",
    "    # Use GPU if available\n",
    "    device = torch.device(\"cuda\" if torch.cuda.is_available() else \"mps\")\n",
    "    model = model.to(device)\n",
    "\n",
    "    # Step 3: Extract features\n",
    "    def extract_features(data_loader):\n",
    "        features = []\n",
    "        concept_labels = []\n",
    "        task_labels = []\n",
    "\n",
    "        with torch.no_grad():\n",
    "            for imgs, concepts, tasks in tqdm(data_loader):\n",
    "                imgs = imgs.to(device)\n",
    "                out = model(imgs)\n",
    "                features.append(out.cpu().numpy())\n",
    "                concept_labels.append(concepts.numpy())\n",
    "                task_labels.append(tasks.numpy())\n",
    "\n",
    "        return np.concatenate(features), np.concatenate(task_labels)\n",
    "\n",
    "    train_features, train_tasks = extract_features(train_loader)\n",
    "    test_features, test_tasks = extract_features(test_loader)\n",
    "    return train_features, train_tasks, test_features, test_tasks\n",
    "\n",
    "\n",
    "\n"
   ]
  },
  {
   "cell_type": "code",
   "execution_count": 11,
   "metadata": {},
   "outputs": [
    {
     "name": "stderr",
     "output_type": "stream",
     "text": [
      "100%|██████████| 938/938 [00:15<00:00, 61.57it/s]\n",
      "100%|██████████| 157/157 [00:02<00:00, 65.20it/s]\n"
     ]
    }
   ],
   "source": [
    "main()"
   ]
  },
  {
   "cell_type": "code",
   "execution_count": 12,
   "metadata": {},
   "outputs": [],
   "source": [
    "    # Load MNIST data\n",
    "    mnist_train = datasets.MNIST(root='./data', train=True, download=True, transform=transforms.ToTensor())\n",
    "    mnist_test = datasets.MNIST(root='./data', train=False, download=True, transform=transforms.ToTensor())\n",
    "\n",
    "\n",
    "    # Create custom datasets\n",
    "    custom_train_dataset = CustomMNISTDataset(mnist_train)\n",
    "    custom_test_dataset = CustomMNISTDataset(mnist_test)"
   ]
  },
  {
   "cell_type": "code",
   "execution_count": 13,
   "metadata": {},
   "outputs": [
    {
     "data": {
      "text/plain": [
       "<matplotlib.image.AxesImage at 0x382382720>"
      ]
     },
     "execution_count": 13,
     "metadata": {},
     "output_type": "execute_result"
    },
    {
     "data": {
      "image/png": "[encoded data removed]",
      "text/plain": [
       "<Figure size 640x480 with 1 Axes>"
      ]
     },
     "metadata": {},
     "output_type": "display_data"
    }
   ],
   "source": [
    "# show one image\n",
    "import matplotlib.pyplot as plt\n",
    "image, concept, target = custom_train_dataset[0]\n",
    "plt.imshow(image.permute(1, 2, 0))\n"
   ]
  }
 ],
 "metadata": {
  "kernelspec": {
   "display_name": "CF_FL",
   "language": "python",
   "name": "python3"
  },
  "language_info": {
   "codemirror_mode": {
    "name": "ipython",
    "version": 3
   },
   "file_extension": ".py",
   "mimetype": "text/x-python",
   "name": "python",
   "nbconvert_exporter": "python",
   "pygments_lexer": "ipython3",
   "version": "3.1.undefined"
  }
 },
 "nbformat": 4,
 "nbformat_minor": 2
}
