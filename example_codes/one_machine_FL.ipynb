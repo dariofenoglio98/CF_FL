{
 "cells": [
  {
   "cell_type": "markdown",
   "metadata": {},
   "source": [
    "# One-machines Federated Learning\n",
    "Run like an idiot all the cells, but first create a conda environment ```conda env create -f environment.yml``` (or manually and then run ```pip install -r requirements.txt```).\n"
   ]
  },
  {
   "cell_type": "markdown",
   "metadata": {},
   "source": [
    "## Data creation"
   ]
  },
  {
   "cell_type": "code",
   "execution_count": null,
   "metadata": {},
   "outputs": [],
   "source": [
    "import os\n",
    " \n",
    "# Get the current working directory, remove last, and change the current working directory to the parent directory\n",
    "current_path = os.getcwd()\n",
    "parent_path = os.path.dirname(current_path) +'/data'\n",
    "os.chdir(parent_path)\n",
    " \n",
    "# Create CIFAR-10 dataset\n",
    "print(\"\\033[93m Create CIFAR-10\\033[00m\")\n",
    "script_path = os.path.join(parent_path, 'cifar_creation.py')\n",
    "!python $script_path\n",
    " \n",
    "# Create MNIST dataset\n",
    "print(\"\\033[93m Create MNIST\\033[00m\")\n",
    "script_path = os.path.join(parent_path, 'mnist_creation.py')\n",
    "!python $script_path\n",
    " \n",
    "# Split client datasets\n",
    "parent_path = os.path.dirname(current_path)\n",
    "os.chdir(parent_path)\n",
    "print(\"\\033[93m Split client datasets\\033[00m\")\n",
    "script_path = os.path.join(parent_path, 'data/client_split.py')\n",
    "!python $script_path --seed 1 --n_clients 5"
   ]
  },
  {
   "cell_type": "markdown",
   "metadata": {},
   "source": [
    "## Training"
   ]
  },
  {
   "cell_type": "code",
   "execution_count": 2,
   "metadata": {},
   "outputs": [],
   "source": [
    "# Parameters\n",
    "n_clients = 5\n",
    "n_attackers = 1\n",
    "attack_type = \"DP_flip\" # Choose between: 'DP_flip', 'DP_inverted_loss', 'MP_noise', 'MP_gradient'\n",
    "n_rounds = 20\n",
    "data_type = \"2cluster\" # Choose between: '2cluster', 'random', (i.e., non-IID and IID)\n",
    "dataset = \"diabetes\" # Choose between 'diabetes', 'breast', 'synthetic', 'mnist', 'cifar10'"
   ]
  },
  {
   "cell_type": "code",
   "execution_count": null,
   "metadata": {},
   "outputs": [],
   "source": [
    "import subprocess\n",
    "import time\n",
    "\n",
    "# Fixed parameters for this example\n",
    "model = \"net\"\n",
    "pers = \"0\"\n",
    "client_id = \"2\"\n",
    "\n",
    "# Start server process\n",
    "server_command = [\n",
    "    \"python\", \"server_FBPs.py\", \n",
    "    \"--rounds\", str(n_rounds), \n",
    "    \"--data_type\", data_type, \n",
    "    \"--dataset\", dataset, \n",
    "    \"--model\", model, \n",
    "    \"--pers\", pers, \n",
    "    \"--n_clients\", str(n_clients), \n",
    "    \"--n_attackers\", str(n_attackers), \n",
    "    \"--attack_type\", attack_type\n",
    "]\n",
    "server_process = subprocess.Popen(server_command)\n",
    "time.sleep(2)\n",
    "\n",
    "client_processes = []\n",
    "for i in range(n_clients):\n",
    "    print(\"Start Client\", i+1)\n",
    "    # Start client process\n",
    "    client_command = [\n",
    "        \"python\", \"client.py\", \n",
    "        \"--id\", str(i+1), \n",
    "        \"--data_type\", data_type, \n",
    "        \"--model\", model, \n",
    "        \"--dataset\", dataset\n",
    "    ]\n",
    "    client_processes.append(subprocess.Popen(client_command))\n",
    "    \n",
    "    \n",
    "client_malicious_processes = []\n",
    "for i in range(n_attackers):\n",
    "    print(\"Start Attacker\", i+1)\n",
    "    # Start client process\n",
    "    client_command = [\n",
    "        \"python\", \"malicious_client.py\", \n",
    "        \"--id\", str(i+1), \n",
    "        \"--data_type\", data_type, \n",
    "        \"--model\", model, \n",
    "        \"--dataset\", dataset, \n",
    "        \"--attack_type\", attack_type\n",
    "    ]\n",
    "    client_malicious_processes.append(subprocess.Popen(client_command))\n",
    "    \n",
    "\n",
    "server_process.wait()\n",
    "for p in client_processes:\n",
    "    p.wait()\n",
    "for p in client_malicious_processes:\n",
    "    p.wait()\n"
   ]
  }
 ],
 "metadata": {
  "kernelspec": {
   "display_name": "CF_FL",
   "language": "python",
   "name": "python3"
  },
  "language_info": {
   "codemirror_mode": {
    "name": "ipython",
    "version": 3
   },
   "file_extension": ".py",
   "mimetype": "text/x-python",
   "name": "python",
   "nbconvert_exporter": "python",
   "pygments_lexer": "ipython3",
   "version": "3.12.1"
  }
 },
 "nbformat": 4,
 "nbformat_minor": 2
}
