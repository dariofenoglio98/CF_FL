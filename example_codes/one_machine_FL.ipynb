{
 "cells": [
  {
   "cell_type": "markdown",
   "metadata": {},
   "source": [
    "# One-machines Federated Learning\n",
    "Run all the cells, but first create a conda environment ```conda env create -f environment.yml``` (or manually and then run ```pip install -r requirements.txt```).\n"
   ]
  },
  {
   "cell_type": "code",
   "execution_count": null,
   "metadata": {},
   "outputs": [],
   "source": [
    "# Parameters\n",
    "n_clients = 10\n",
    "n_attackers = 1\n",
    "attack_type = \"DP_inverted_loss\" # Choose between: 'DP_flip', 'DP_inverted_loss', 'MP_noise', 'MP_gradient'\n",
    "n_rounds = 50\n",
    "data_type = \"random\" # Choose between: '2cluster', 'random', (i.e., non-IID and IID) -- synthetic can only go with random (already non-IID)\n",
    "dataset = \"synthetic\" # Choose between 'diabetes', 'breast', 'synthetic', 'mnist', 'cifar10'"
   ]
  },
  {
   "cell_type": "markdown",
   "metadata": {},
   "source": [
    "## Data creation"
   ]
  },
  {
   "cell_type": "code",
   "execution_count": 1,
   "metadata": {},
   "outputs": [
    {
     "name": "stdout",
     "output_type": "stream",
     "text": [
      "\u001b[93m Create CIFAR-10\u001b[00m\n",
      "Files already downloaded and verified\n",
      "Using device: mps\n",
      "100%|█████████████████████████████████████████| 782/782 [01:06<00:00, 11.72it/s]\n",
      "\u001b[93m Create MNIST\u001b[00m\n",
      "/Users/dariofenoglio/miniforge3/envs/CF_FL/lib/python3.12/site-packages/torchvision/models/_utils.py:208: UserWarning: The parameter 'pretrained' is deprecated since 0.13 and may be removed in the future, please use 'weights' instead.\n",
      "  warnings.warn(\n",
      "/Users/dariofenoglio/miniforge3/envs/CF_FL/lib/python3.12/site-packages/torchvision/models/_utils.py:223: UserWarning: Arguments other than a weight enum or `None` for 'weights' are deprecated since 0.13 and may be removed in the future. The current behavior is equivalent to passing `weights=ResNet18_Weights.IMAGENET1K_V1`. You can also use `weights=ResNet18_Weights.DEFAULT` to get the most up-to-date weights.\n",
      "  warnings.warn(msg)\n",
      "Using device: mps\n",
      "100%|█████████████████████████████████████████| 938/938 [00:13<00:00, 70.54it/s]\n",
      "100%|█████████████████████████████████████████| 157/157 [00:02<00:00, 76.24it/s]\n",
      "\u001b[93m Split client datasets\u001b[00m\n",
      "\n",
      "\n",
      "\u001b[33mData creation\u001b[0m\n",
      "Number of clients: 5\n",
      "Random seed: 2\n",
      "Diabetes dataset: (70692, 22)\n",
      "Breast cancer dataset: (569, 32)\n",
      "MNIST dataset: (10000, 1001)\n",
      "CIFAR10 dataset: (10000, 1001)\n",
      "Min values diabetes: [ 0.  0.  0. 12.  0.  0.  0.  0.  0.  0.  0.  0.  0.  1.  0.  0.  0.  0.\n",
      "  1.  1.  1.]\n",
      "Max values diabetes: [ 1.  1.  1. 98.  1.  1.  1.  1.  1.  1.  1.  1.  1.  5. 30. 30.  1.  1.\n",
      " 13.  6.  8.]\n",
      "Min values breast: [6.981e+00 9.710e+00 4.379e+01 1.435e+02 5.263e-02 1.938e-02 0.000e+00\n",
      " 0.000e+00 1.060e-01 4.996e-02 1.115e-01 3.602e-01 7.570e-01 6.802e+00\n",
      " 1.713e-03 2.252e-03 0.000e+00 0.000e+00 7.882e-03 8.948e-04 7.930e+00\n",
      " 1.202e+01 5.041e+01 1.852e+02 7.117e-02 2.729e-02 0.000e+00 0.000e+00\n",
      " 1.565e-01 5.504e-02]\n",
      "Max values breast: [2.811e+01 3.928e+01 1.885e+02 2.501e+03 1.634e-01 3.454e-01 4.268e-01\n",
      " 2.012e-01 3.040e-01 9.744e-02 2.873e+00 4.885e+00 2.198e+01 5.422e+02\n",
      " 3.113e-02 1.354e-01 3.960e-01 5.279e-02 7.895e-02 2.984e-02 3.604e+01\n",
      " 4.954e+01 2.512e+02 4.254e+03 2.226e-01 1.058e+00 1.252e+00 2.910e-01\n",
      " 6.638e-01 2.075e-01]\n",
      "Min values MNIST: -5.581305980682373\n",
      "Max values MNIST: 9.94077205657959\n",
      "Min values CIFAR10: -11.886337280273438\n",
      "Max values CIFAR10: 23.155174255371094\n",
      "Saved: data/df_diabetes_random_test_1.csv of shape (2121, 22)\n",
      "Saved: data/df_diabetes_random_1.csv of shape (12018, 22)\n",
      "Saved: data/df_diabetes_random_test_2.csv of shape (2121, 22)\n",
      "Saved: data/df_diabetes_random_2.csv of shape (12018, 22)\n",
      "Saved: data/df_diabetes_random_test_3.csv of shape (2121, 22)\n",
      "Saved: data/df_diabetes_random_3.csv of shape (12017, 22)\n",
      "Saved: data/df_diabetes_random_test_4.csv of shape (2121, 22)\n",
      "Saved: data/df_diabetes_random_4.csv of shape (12017, 22)\n",
      "Saved: data/df_diabetes_random_test_5.csv of shape (2121, 22)\n",
      "Saved: data/df_diabetes_random_5.csv of shape (12017, 22)\n",
      "Saved: data/df_diabetes_random_test.csv of shape (10605, 22)\n",
      "\n",
      "Saved: data/df_breast_random_test_1.csv of shape (18, 32)\n",
      "Saved: data/df_breast_random_1.csv of shape (96, 32)\n",
      "Saved: data/df_breast_random_test_2.csv of shape (18, 32)\n",
      "Saved: data/df_breast_random_2.csv of shape (96, 32)\n",
      "Saved: data/df_breast_random_test_3.csv of shape (18, 32)\n",
      "Saved: data/df_breast_random_3.csv of shape (96, 32)\n",
      "Saved: data/df_breast_random_test_4.csv of shape (18, 32)\n",
      "Saved: data/df_breast_random_4.csv of shape (96, 32)\n",
      "Saved: data/df_breast_random_test_5.csv of shape (17, 32)\n",
      "Saved: data/df_breast_random_5.csv of shape (96, 32)\n",
      "Saved: data/df_breast_random_test.csv of shape (89, 32)\n",
      "\n",
      "Saved: data/df_mnist_random_test_1.csv of shape (300, 1001)\n",
      "Saved: data/df_mnist_random_1.csv of shape (1700, 1001)\n",
      "Saved: data/df_mnist_random_test_2.csv of shape (300, 1001)\n",
      "Saved: data/df_mnist_random_2.csv of shape (1700, 1001)\n",
      "Saved: data/df_mnist_random_test_3.csv of shape (300, 1001)\n",
      "Saved: data/df_mnist_random_3.csv of shape (1700, 1001)\n",
      "Saved: data/df_mnist_random_test_4.csv of shape (300, 1001)\n",
      "Saved: data/df_mnist_random_4.csv of shape (1700, 1001)\n",
      "Saved: data/df_mnist_random_test_5.csv of shape (300, 1001)\n",
      "Saved: data/df_mnist_random_5.csv of shape (1700, 1001)\n",
      "Saved: data/df_mnist_random_test.csv of shape (1500, 1001)\n",
      "\n",
      "Saved: data/df_cifar10_random_test_1.csv of shape (300, 1001)\n",
      "Saved: data/df_cifar10_random_1.csv of shape (1700, 1001)\n",
      "Saved: data/df_cifar10_random_test_2.csv of shape (300, 1001)\n",
      "Saved: data/df_cifar10_random_2.csv of shape (1700, 1001)\n",
      "Saved: data/df_cifar10_random_test_3.csv of shape (300, 1001)\n",
      "Saved: data/df_cifar10_random_3.csv of shape (1700, 1001)\n",
      "Saved: data/df_cifar10_random_test_4.csv of shape (300, 1001)\n",
      "Saved: data/df_cifar10_random_4.csv of shape (1700, 1001)\n",
      "Saved: data/df_cifar10_random_test_5.csv of shape (300, 1001)\n",
      "Saved: data/df_cifar10_random_5.csv of shape (1700, 1001)\n",
      "Saved: data/df_cifar10_random_test.csv of shape (1500, 1001)\n",
      "\n",
      "Saved: data/df_diabetes_2cluster_test_1.csv of shape (1143, 22)\n",
      "Saved: data/df_diabetes_2cluster_1.csv of shape (6474, 22) pairs: 0 and 4\n",
      "Saved: data/df_diabetes_2cluster_test_2.csv of shape (1658, 22)\n",
      "Saved: data/df_diabetes_2cluster_2.csv of shape (9390, 22) pairs: 1 and 3\n",
      "Saved: data/df_diabetes_2cluster_test_3.csv of shape (4134, 22)\n",
      "Saved: data/df_diabetes_2cluster_3.csv of shape (23420, 22) pairs: 4 and 2\n",
      "Saved: data/df_diabetes_2cluster_test_4.csv of shape (808, 22)\n",
      "Saved: data/df_diabetes_2cluster_4.csv of shape (4576, 22) pairs: 2 and 1\n",
      "Saved: data/df_diabetes_2cluster_test_5.csv of shape (2864, 22)\n",
      "Saved: data/df_diabetes_2cluster_5.csv of shape (16225, 22) pairs: 3 and 0\n",
      "Saved: data/df_diabetes_2cluster_test.csv of shape (10607, 22)\n",
      "\n",
      "Saved: data/df_breast_2cluster_test_1.csv of shape (10, 32)\n",
      "Saved: data/df_breast_2cluster_1.csv of shape (52, 32) pairs: 2 and 1\n",
      "Saved: data/df_breast_2cluster_test_2.csv of shape (17, 32)\n",
      "Saved: data/df_breast_2cluster_2.csv of shape (92, 32) pairs: 4 and 2\n",
      "Saved: data/df_breast_2cluster_test_3.csv of shape (24, 32)\n",
      "Saved: data/df_breast_2cluster_3.csv of shape (136, 32) pairs: 3 and 3\n",
      "Saved: data/df_breast_2cluster_test_4.csv of shape (15, 32)\n",
      "Saved: data/df_breast_2cluster_4.csv of shape (80, 32) pairs: 0 and 0\n",
      "Saved: data/df_breast_2cluster_test_5.csv of shape (22, 32)\n",
      "Saved: data/df_breast_2cluster_5.csv of shape (121, 32) pairs: 1 and 4\n",
      "Saved: data/df_breast_2cluster_test.csv of shape (88, 32)\n",
      "\n",
      "Saved: data/df_mnist_2cluster_test_1.csv of shape (317, 1001)\n",
      "Saved: data/df_mnist_2cluster_1.csv of shape (1791, 1001) pairs: 1 and 2\n",
      "Saved: data/df_mnist_2cluster_test_2.csv of shape (308, 1001)\n",
      "Saved: data/df_mnist_2cluster_2.csv of shape (1741, 1001) pairs: 3 and 1\n",
      "Saved: data/df_mnist_2cluster_test_3.csv of shape (336, 1001)\n",
      "Saved: data/df_mnist_2cluster_3.csv of shape (1903, 1001) pairs: 2 and 4\n",
      "Saved: data/df_mnist_2cluster_test_4.csv of shape (270, 1001)\n",
      "Saved: data/df_mnist_2cluster_4.csv of shape (1524, 1001) pairs: 4 and 3\n",
      "Saved: data/df_mnist_2cluster_test_5.csv of shape (272, 1001)\n",
      "Saved: data/df_mnist_2cluster_5.csv of shape (1538, 1001) pairs: 0 and 0\n",
      "Saved: data/df_mnist_2cluster_test.csv of shape (1503, 1001)\n",
      "\n",
      "Saved: data/df_cifar10_2cluster_test_1.csv of shape (65, 1001)\n",
      "Saved: data/df_cifar10_2cluster_1.csv of shape (363, 1001) pairs: 4 and 2\n",
      "Saved: data/df_cifar10_2cluster_test_2.csv of shape (70, 1001)\n",
      "Saved: data/df_cifar10_2cluster_2.csv of shape (396, 1001) pairs: 3 and 3\n",
      "Saved: data/df_cifar10_2cluster_test_3.csv of shape (57, 1001)\n",
      "Saved: data/df_cifar10_2cluster_3.csv of shape (321, 1001) pairs: 0 and 4\n",
      "Saved: data/df_cifar10_2cluster_test_4.csv of shape (50, 1001)\n",
      "Saved: data/df_cifar10_2cluster_4.csv of shape (283, 1001) pairs: 2 and 0\n",
      "Saved: data/df_cifar10_2cluster_test_5.csv of shape (62, 1001)\n",
      "Saved: data/df_cifar10_2cluster_5.csv of shape (348, 1001) pairs: 1 and 1\n",
      "Saved: data/df_cifar10_2cluster_test.csv of shape (304, 1001)\n",
      "\n",
      "Saved: data/df_diabetes_cluster_test_1.csv of shape (2133, 22)\n",
      "Saved: data/df_diabetes_cluster_1.csv of shape (12085, 22)\n",
      "Saved: data/df_diabetes_cluster_test_2.csv of shape (5992, 22)\n",
      "Saved: data/df_diabetes_cluster_2.csv of shape (33949, 22)\n",
      "Saved: data/df_diabetes_cluster_test_3.csv of shape (655, 22)\n",
      "Saved: data/df_diabetes_cluster_3.csv of shape (3710, 22)\n",
      "Saved: data/df_diabetes_cluster_test_4.csv of shape (587, 22)\n",
      "Saved: data/df_diabetes_cluster_4.csv of shape (3325, 22)\n",
      "Saved: data/df_diabetes_cluster_test_5.csv of shape (1239, 22)\n",
      "Saved: data/df_diabetes_cluster_5.csv of shape (7017, 22)\n",
      "Saved: data/df_diabetes_cluster_test.csv of shape (10606, 22)\n",
      "\n",
      "Saved: data/df_breast_cluster_test_1.csv of shape (36, 32)\n",
      "Saved: data/df_breast_cluster_1.csv of shape (198, 32)\n",
      "Saved: data/df_breast_cluster_test_2.csv of shape (11, 32)\n",
      "Saved: data/df_breast_cluster_2.csv of shape (60, 32)\n",
      "Saved: data/df_breast_cluster_test_3.csv of shape (11, 32)\n",
      "Saved: data/df_breast_cluster_3.csv of shape (59, 32)\n",
      "Saved: data/df_breast_cluster_test_4.csv of shape (2, 32)\n",
      "Saved: data/df_breast_cluster_4.csv of shape (11, 32)\n",
      "Saved: data/df_breast_cluster_test_5.csv of shape (28, 32)\n",
      "Saved: data/df_breast_cluster_5.csv of shape (153, 32)\n",
      "Saved: data/df_breast_cluster_test.csv of shape (88, 32)\n",
      "\n",
      "Saved: data/df_mnist_cluster_test_1.csv of shape (255, 1001)\n",
      "Saved: data/df_mnist_cluster_1.csv of shape (1444, 1001)\n",
      "Saved: data/df_mnist_cluster_test_2.csv of shape (483, 1001)\n",
      "Saved: data/df_mnist_cluster_2.csv of shape (2737, 1001)\n",
      "Saved: data/df_mnist_cluster_test_3.csv of shape (405, 1001)\n",
      "Saved: data/df_mnist_cluster_3.csv of shape (2293, 1001)\n",
      "Saved: data/df_mnist_cluster_test_4.csv of shape (162, 1001)\n",
      "Saved: data/df_mnist_cluster_4.csv of shape (914, 1001)\n",
      "Saved: data/df_mnist_cluster_test_5.csv of shape (197, 1001)\n",
      "Saved: data/df_mnist_cluster_5.csv of shape (1110, 1001)\n",
      "Saved: data/df_mnist_cluster_test.csv of shape (1502, 1001)\n",
      "\n",
      "Saved: data/df_cifar10_cluster_test_1.csv of shape (300, 1001)\n",
      "Saved: data/df_cifar10_cluster_1.csv of shape (1697, 1001)\n",
      "Saved: data/df_cifar10_cluster_test_2.csv of shape (322, 1001)\n",
      "Saved: data/df_cifar10_cluster_2.csv of shape (1820, 1001)\n",
      "Saved: data/df_cifar10_cluster_test_3.csv of shape (293, 1001)\n",
      "Saved: data/df_cifar10_cluster_3.csv of shape (1660, 1001)\n",
      "Saved: data/df_cifar10_cluster_test_4.csv of shape (321, 1001)\n",
      "Saved: data/df_cifar10_cluster_4.csv of shape (1819, 1001)\n",
      "Saved: data/df_cifar10_cluster_test_5.csv of shape (266, 1001)\n",
      "Saved: data/df_cifar10_cluster_5.csv of shape (1502, 1001)\n",
      "Saved: data/df_cifar10_cluster_test.csv of shape (1502, 1001)\n",
      "\n",
      "Saved: data/df_diabetes_random_DP_random_1.csv of shape (12018, 22)\n",
      "Saved: data/df_diabetes_random_DP_random_2.csv of shape (12018, 22)\n",
      "Saved: data/df_breast_random_DP_random_1.csv of shape (96, 32)\n",
      "Saved: data/df_breast_random_DP_random_2.csv of shape (96, 32)\n",
      "Saved: data/df_mnist_random_DP_random_1.csv of shape (1700, 1001)\n",
      "Saved: data/df_mnist_random_DP_random_2.csv of shape (1700, 1001)\n",
      "Saved: data/df_cifar10_random_DP_random_1.csv of shape (1700, 1001)\n",
      "Saved: data/df_cifar10_random_DP_random_2.csv of shape (1700, 1001)\n",
      "Saved: data/df_breast_random_DP_flip_1.csv of shape (96, 32)\n",
      "Saved: data/df_breast_random_DP_flip_2.csv of shape (96, 32)\n",
      "Saved: data/df_diabetes_random_DP_flip_1.csv of shape (12018, 22)\n",
      "Saved: data/df_diabetes_random_DP_flip_2.csv of shape (12018, 22)\n",
      "Saved: data/df_mnist_random_DP_flip_1.csv of shape (1700, 1001)\n",
      "Saved: data/df_mnist_random_DP_flip_2.csv of shape (1700, 1001)\n",
      "Saved: data/df_cifar10_random_DP_flip_1.csv of shape (1700, 1001)\n",
      "Saved: data/df_cifar10_random_DP_flip_2.csv of shape (1700, 1001)\n",
      "Saved: data/df_breast_2cluster_DP_flip_1.csv of shape (52, 32)\n",
      "Saved: data/df_breast_2cluster_DP_flip_2.csv of shape (92, 32)\n",
      "Saved: data/df_diabetes_2cluster_DP_flip_1.csv of shape (6474, 22)\n",
      "Saved: data/df_diabetes_2cluster_DP_flip_2.csv of shape (9390, 22)\n",
      "Saved: data/df_mnist_2cluster_DP_flip_1.csv of shape (1791, 1001)\n",
      "Saved: data/df_mnist_2cluster_DP_flip_2.csv of shape (1741, 1001)\n",
      "Saved: data/df_cifar10_2cluster_DP_flip_1.csv of shape (363, 1001)\n",
      "Saved: data/df_cifar10_2cluster_DP_flip_2.csv of shape (396, 1001)\n",
      "Saved: data/df_breast_cluster_DP_flip_1.csv of shape (198, 32)\n",
      "Saved: data/df_breast_cluster_DP_flip_2.csv of shape (60, 32)\n",
      "Saved: data/df_diabetes_cluster_DP_flip_1.csv of shape (12085, 22)\n",
      "Saved: data/df_diabetes_cluster_DP_flip_2.csv of shape (33949, 22)\n",
      "Saved: data/df_mnist_cluster_DP_flip_1.csv of shape (1444, 1001)\n",
      "Saved: data/df_mnist_cluster_DP_flip_2.csv of shape (2737, 1001)\n",
      "Saved: data/df_cifar10_cluster_DP_flip_1.csv of shape (1697, 1001)\n",
      "Saved: data/df_cifar10_cluster_DP_flip_2.csv of shape (1820, 1001)\n",
      "Saved: data/df_breast_random_DP_inverted_loss_1.csv of shape (96, 32)\n",
      "Saved: data/df_breast_random_DP_inverted_loss_2.csv of shape (96, 32)\n",
      "Saved: data/df_diabetes_random_DP_inverted_loss_1.csv of shape (12018, 22)\n",
      "Saved: data/df_diabetes_random_DP_inverted_loss_2.csv of shape (12018, 22)\n",
      "Saved: data/df_mnist_random_DP_inverted_loss_1.csv of shape (1700, 1001)\n",
      "Saved: data/df_mnist_random_DP_inverted_loss_2.csv of shape (1700, 1001)\n",
      "Saved: data/df_cifar10_random_DP_inverted_loss_1.csv of shape (1700, 1001)\n",
      "Saved: data/df_cifar10_random_DP_inverted_loss_2.csv of shape (1700, 1001)\n",
      "Saved: data/df_breast_2cluster_DP_inverted_loss_1.csv of shape (52, 32)\n",
      "Saved: data/df_breast_2cluster_DP_inverted_loss_2.csv of shape (92, 32)\n",
      "Saved: data/df_diabetes_2cluster_DP_inverted_loss_1.csv of shape (6474, 22)\n",
      "Saved: data/df_diabetes_2cluster_DP_inverted_loss_2.csv of shape (9390, 22)\n",
      "Saved: data/df_mnist_2cluster_DP_inverted_loss_1.csv of shape (1791, 1001)\n",
      "Saved: data/df_mnist_2cluster_DP_inverted_loss_2.csv of shape (1741, 1001)\n",
      "Saved: data/df_cifar10_2cluster_DP_inverted_loss_1.csv of shape (363, 1001)\n",
      "Saved: data/df_cifar10_2cluster_DP_inverted_loss_2.csv of shape (396, 1001)\n",
      "Saved: data/df_breast_cluster_DP_inverted_loss_1.csv of shape (198, 32)\n",
      "Saved: data/df_breast_cluster_DP_inverted_loss_2.csv of shape (60, 32)\n",
      "Saved: data/df_diabetes_cluster_DP_inverted_loss_1.csv of shape (12085, 22)\n",
      "Saved: data/df_diabetes_cluster_DP_inverted_loss_2.csv of shape (33949, 22)\n",
      "Saved: data/df_mnist_cluster_DP_inverted_loss_1.csv of shape (1444, 1001)\n",
      "Saved: data/df_mnist_cluster_DP_inverted_loss_2.csv of shape (2737, 1001)\n",
      "Saved: data/df_cifar10_cluster_DP_inverted_loss_1.csv of shape (1697, 1001)\n",
      "Saved: data/df_cifar10_cluster_DP_inverted_loss_2.csv of shape (1820, 1001)\n",
      "Saved: data/df_breast_random_DP_inverted_loss_cf_1.csv of shape (96, 32)\n",
      "Saved: data/df_breast_random_DP_inverted_loss_cf_2.csv of shape (96, 32)\n",
      "Saved: data/df_diabetes_random_DP_inverted_loss_cf_1.csv of shape (12018, 22)\n",
      "Saved: data/df_diabetes_random_DP_inverted_loss_cf_2.csv of shape (12018, 22)\n",
      "Saved: data/df_mnist_random_DP_inverted_loss_cf_1.csv of shape (1700, 1001)\n",
      "Saved: data/df_mnist_random_DP_inverted_loss_cf_2.csv of shape (1700, 1001)\n",
      "Saved: data/df_cifar10_random_DP_inverted_loss_cf_1.csv of shape (1700, 1001)\n",
      "Saved: data/df_cifar10_random_DP_inverted_loss_cf_2.csv of shape (1700, 1001)\n",
      "Saved: data/df_breast_2cluster_DP_inverted_loss_cf_1.csv of shape (52, 32)\n",
      "Saved: data/df_breast_2cluster_DP_inverted_loss_cf_2.csv of shape (92, 32)\n",
      "Saved: data/df_diabetes_2cluster_DP_inverted_loss_cf_1.csv of shape (6474, 22)\n",
      "Saved: data/df_diabetes_2cluster_DP_inverted_loss_cf_2.csv of shape (9390, 22)\n",
      "Saved: data/df_mnist_2cluster_DP_inverted_loss_cf_1.csv of shape (1791, 1001)\n",
      "Saved: data/df_mnist_2cluster_DP_inverted_loss_cf_2.csv of shape (1741, 1001)\n",
      "Saved: data/df_cifar10_2cluster_DP_inverted_loss_cf_1.csv of shape (363, 1001)\n",
      "Saved: data/df_cifar10_2cluster_DP_inverted_loss_cf_2.csv of shape (396, 1001)\n",
      "Saved: data/df_breast_cluster_DP_inverted_loss_cf_1.csv of shape (198, 32)\n",
      "Saved: data/df_breast_cluster_DP_inverted_loss_cf_2.csv of shape (60, 32)\n",
      "Saved: data/df_diabetes_cluster_DP_inverted_loss_cf_1.csv of shape (12085, 22)\n",
      "Saved: data/df_diabetes_cluster_DP_inverted_loss_cf_2.csv of shape (33949, 22)\n",
      "Saved: data/df_mnist_cluster_DP_inverted_loss_cf_1.csv of shape (1444, 1001)\n",
      "Saved: data/df_mnist_cluster_DP_inverted_loss_cf_2.csv of shape (2737, 1001)\n",
      "Saved: data/df_cifar10_cluster_DP_inverted_loss_cf_1.csv of shape (1697, 1001)\n",
      "Saved: data/df_cifar10_cluster_DP_inverted_loss_cf_2.csv of shape (1820, 1001)\n",
      "[3.07768354]\n",
      "[3.07768354]\n"
     ]
    }
   ],
   "source": [
    "import os\n",
    " \n",
    "# Get the current working directory, remove last, and change the current working directory to the parent directory\n",
    "current_path = os.getcwd()\n",
    "parent_path = os.path.dirname(current_path) +'/data'\n",
    "os.chdir(parent_path)\n",
    " \n",
    "# Create CIFAR-10 dataset\n",
    "print(\"\\033[93m Create CIFAR-10\\033[00m\")\n",
    "script_path = os.path.join(parent_path, 'cifar_creation.py')\n",
    "!python $script_path\n",
    " \n",
    "# Create MNIST dataset\n",
    "print(\"\\033[93m Create MNIST\\033[00m\")\n",
    "script_path = os.path.join(parent_path, 'mnist_creation.py')\n",
    "!python $script_path\n",
    " \n",
    "# Split client datasets\n",
    "parent_path = os.path.dirname(current_path)\n",
    "os.chdir(parent_path)\n",
    "print(\"\\033[93m Split client datasets\\033[00m\")\n",
    "script_path = os.path.join(parent_path, 'data/client_split.py')\n",
    "!python $script_path --seed 2 --n_clients $n_clients"
   ]
  },
  {
   "cell_type": "markdown",
   "metadata": {},
   "source": [
    "## Training"
   ]
  },
  {
   "cell_type": "code",
   "execution_count": 3,
   "metadata": {},
   "outputs": [
    {
     "name": "stdout",
     "output_type": "stream",
     "text": [
      "\n",
      "\u001b[1;32m------- Federated Behavioural Planes (FBPs) -------\u001b[0m\n",
      "\n",
      "Used Size Server-Test Set: torch.Size([300, 2])\n"
     ]
    },
    {
     "name": "stderr",
     "output_type": "stream",
     "text": [
      "INFO flwr 2024-08-29 10:14:32,737 | app.py:163 | Starting Flower server, config: ServerConfig(num_rounds=50, round_timeout=None)\n",
      "INFO flwr 2024-08-29 10:14:32,753 | app.py:176 | Flower ECE: gRPC server running (50 rounds), SSL is disabled\n",
      "INFO flwr 2024-08-29 10:14:32,753 | server.py:89 | Initializing global parameters\n",
      "INFO flwr 2024-08-29 10:14:32,753 | server.py:276 | Requesting initial parameters from one random client\n"
     ]
    },
    {
     "name": "stdout",
     "output_type": "stream",
     "text": [
      "Start Client 1\n",
      "Start Client 2\n",
      "Start Client 3\n",
      "Start Client 4\n",
      "Start Client 5\n",
      "Start Attacker 1\n",
      "The file 'metrics.csv' has been deleted.\n",
      "The file 'metrics.csv' has been deleted.\n",
      "The file 'metrics.csv' has been deleted.\n",
      "The file 'metrics.csv' has been deleted.\n",
      "The file 'metrics.csv' has been deleted.\n",
      "MPS is available\n",
      "MPS is available\n",
      "MPS is available\n",
      "MPS is available\n",
      "MPS is available\n",
      "MPS is available\n"
     ]
    },
    {
     "name": "stderr",
     "output_type": "stream",
     "text": [
      "INFO flwr 2024-08-29 10:14:36,178 | grpc.py:52 | Opened insecure gRPC connection (no certificates were passed)\n",
      "INFO flwr 2024-08-29 10:14:36,178 | grpc.py:52 | Opened insecure gRPC connection (no certificates were passed)\n",
      "INFO flwr 2024-08-29 10:14:36,178 | grpc.py:52 | Opened insecure gRPC connection (no certificates were passed)\n",
      "INFO flwr 2024-08-29 10:14:36,178 | grpc.py:52 | Opened insecure gRPC connection (no certificates were passed)\n",
      "DEBUG flwr 2024-08-29 10:14:36,179 | connection.py:42 | ChannelConnectivity.IDLE\n",
      "INFO flwr 2024-08-29 10:14:36,179 | grpc.py:52 | Opened insecure gRPC connection (no certificates were passed)\n",
      "DEBUG flwr 2024-08-29 10:14:36,179 | connection.py:42 | ChannelConnectivity.IDLE\n",
      "DEBUG flwr 2024-08-29 10:14:36,179 | connection.py:42 | ChannelConnectivity.IDLE\n",
      "INFO flwr 2024-08-29 10:14:36,179 | grpc.py:52 | Opened insecure gRPC connection (no certificates were passed)\n",
      "DEBUG flwr 2024-08-29 10:14:36,179 | connection.py:42 | ChannelConnectivity.IDLE\n",
      "DEBUG flwr 2024-08-29 10:14:36,179 | connection.py:42 | ChannelConnectivity.IDLE\n",
      "DEBUG flwr 2024-08-29 10:14:36,180 | connection.py:42 | ChannelConnectivity.CONNECTING\n",
      "DEBUG flwr 2024-08-29 10:14:36,180 | connection.py:42 | ChannelConnectivity.READY\n",
      "DEBUG flwr 2024-08-29 10:14:36,185 | connection.py:42 | ChannelConnectivity.CONNECTING\n",
      "DEBUG flwr 2024-08-29 10:14:36,185 | connection.py:42 | ChannelConnectivity.READY\n",
      "DEBUG flwr 2024-08-29 10:14:36,185 | connection.py:42 | ChannelConnectivity.READY\n",
      "DEBUG flwr 2024-08-29 10:14:36,186 | connection.py:42 | ChannelConnectivity.READY\n",
      "DEBUG flwr 2024-08-29 10:14:36,186 | connection.py:42 | ChannelConnectivity.CONNECTING\n",
      "DEBUG flwr 2024-08-29 10:14:36,186 | connection.py:42 | ChannelConnectivity.READY\n",
      "DEBUG flwr 2024-08-29 10:14:36,187 | connection.py:42 | ChannelConnectivity.IDLE\n",
      "DEBUG flwr 2024-08-29 10:14:36,187 | connection.py:42 | ChannelConnectivity.CONNECTING\n",
      "DEBUG flwr 2024-08-29 10:14:36,187 | connection.py:42 | ChannelConnectivity.READY\n",
      "INFO flwr 2024-08-29 10:14:36,218 | server.py:280 | Received initial parameters from one random client\n",
      "INFO flwr 2024-08-29 10:14:36,218 | server.py:91 | Evaluating initial parameters\n",
      "INFO flwr 2024-08-29 10:14:36,218 | server.py:104 | FL starting\n",
      "DEBUG flwr 2024-08-29 10:14:36,218 | server.py:222 | fit_round 1: strategy sampled 6 clients (out of 6)\n",
      "DEBUG flwr 2024-08-29 10:14:38,026 | server.py:236 | fit_round 1 received 6 results and 0 failures\n",
      "WARNING flwr 2024-08-29 10:14:38,287 | fedavg.py:242 | No fit_metrics_aggregation_fn provided\n"
     ]
    },
    {
     "name": "stdout",
     "output_type": "stream",
     "text": [
      "Saving round 1 aggregated_parameters...\n"
     ]
    },
    {
     "name": "stderr",
     "output_type": "stream",
     "text": [
      "DEBUG flwr 2024-08-29 10:14:38,634 | server.py:173 | evaluate_round 1: strategy sampled 6 clients (out of 6)\n",
      "DEBUG flwr 2024-08-29 10:14:38,664 | server.py:187 | evaluate_round 1 received 6 results and 0 failures\n",
      "DEBUG flwr 2024-08-29 10:14:38,664 | server.py:222 | fit_round 2: strategy sampled 6 clients (out of 6)\n",
      "DEBUG flwr 2024-08-29 10:14:38,746 | server.py:236 | fit_round 2 received 6 results and 0 failures\n"
     ]
    },
    {
     "name": "stdout",
     "output_type": "stream",
     "text": [
      "Saving round 2 aggregated_parameters...\n"
     ]
    },
    {
     "name": "stderr",
     "output_type": "stream",
     "text": [
      "DEBUG flwr 2024-08-29 10:14:39,190 | server.py:173 | evaluate_round 2: strategy sampled 6 clients (out of 6)\n",
      "DEBUG flwr 2024-08-29 10:14:39,215 | server.py:187 | evaluate_round 2 received 6 results and 0 failures\n",
      "DEBUG flwr 2024-08-29 10:14:39,215 | server.py:222 | fit_round 3: strategy sampled 6 clients (out of 6)\n",
      "DEBUG flwr 2024-08-29 10:14:39,298 | server.py:236 | fit_round 3 received 6 results and 0 failures\n"
     ]
    },
    {
     "name": "stdout",
     "output_type": "stream",
     "text": [
      "Saving round 3 aggregated_parameters...\n"
     ]
    },
    {
     "name": "stderr",
     "output_type": "stream",
     "text": [
      "DEBUG flwr 2024-08-29 10:14:39,743 | server.py:173 | evaluate_round 3: strategy sampled 6 clients (out of 6)\n",
      "DEBUG flwr 2024-08-29 10:14:39,767 | server.py:187 | evaluate_round 3 received 6 results and 0 failures\n",
      "DEBUG flwr 2024-08-29 10:14:39,767 | server.py:222 | fit_round 4: strategy sampled 6 clients (out of 6)\n",
      "DEBUG flwr 2024-08-29 10:14:39,846 | server.py:236 | fit_round 4 received 6 results and 0 failures\n"
     ]
    },
    {
     "name": "stdout",
     "output_type": "stream",
     "text": [
      "Saving round 4 aggregated_parameters...\n"
     ]
    },
    {
     "name": "stderr",
     "output_type": "stream",
     "text": [
      "DEBUG flwr 2024-08-29 10:14:40,305 | server.py:173 | evaluate_round 4: strategy sampled 6 clients (out of 6)\n",
      "DEBUG flwr 2024-08-29 10:14:40,333 | server.py:187 | evaluate_round 4 received 6 results and 0 failures\n",
      "DEBUG flwr 2024-08-29 10:14:40,333 | server.py:222 | fit_round 5: strategy sampled 6 clients (out of 6)\n",
      "DEBUG flwr 2024-08-29 10:14:40,412 | server.py:236 | fit_round 5 received 6 results and 0 failures\n"
     ]
    },
    {
     "name": "stdout",
     "output_type": "stream",
     "text": [
      "Saving round 5 aggregated_parameters...\n"
     ]
    },
    {
     "name": "stderr",
     "output_type": "stream",
     "text": [
      "DEBUG flwr 2024-08-29 10:14:40,866 | server.py:173 | evaluate_round 5: strategy sampled 6 clients (out of 6)\n",
      "DEBUG flwr 2024-08-29 10:14:40,890 | server.py:187 | evaluate_round 5 received 6 results and 0 failures\n",
      "DEBUG flwr 2024-08-29 10:14:40,890 | server.py:222 | fit_round 6: strategy sampled 6 clients (out of 6)\n",
      "DEBUG flwr 2024-08-29 10:14:40,972 | server.py:236 | fit_round 6 received 6 results and 0 failures\n"
     ]
    },
    {
     "name": "stdout",
     "output_type": "stream",
     "text": [
      "Saving round 6 aggregated_parameters...\n"
     ]
    },
    {
     "name": "stderr",
     "output_type": "stream",
     "text": [
      "DEBUG flwr 2024-08-29 10:14:41,457 | server.py:173 | evaluate_round 6: strategy sampled 6 clients (out of 6)\n",
      "DEBUG flwr 2024-08-29 10:14:41,483 | server.py:187 | evaluate_round 6 received 6 results and 0 failures\n",
      "DEBUG flwr 2024-08-29 10:14:41,483 | server.py:222 | fit_round 7: strategy sampled 6 clients (out of 6)\n",
      "DEBUG flwr 2024-08-29 10:14:41,567 | server.py:236 | fit_round 7 received 6 results and 0 failures\n"
     ]
    },
    {
     "name": "stdout",
     "output_type": "stream",
     "text": [
      "Saving round 7 aggregated_parameters...\n"
     ]
    },
    {
     "name": "stderr",
     "output_type": "stream",
     "text": [
      "DEBUG flwr 2024-08-29 10:14:42,022 | server.py:173 | evaluate_round 7: strategy sampled 6 clients (out of 6)\n",
      "DEBUG flwr 2024-08-29 10:14:42,048 | server.py:187 | evaluate_round 7 received 6 results and 0 failures\n",
      "DEBUG flwr 2024-08-29 10:14:42,049 | server.py:222 | fit_round 8: strategy sampled 6 clients (out of 6)\n",
      "DEBUG flwr 2024-08-29 10:14:42,128 | server.py:236 | fit_round 8 received 6 results and 0 failures\n"
     ]
    },
    {
     "name": "stdout",
     "output_type": "stream",
     "text": [
      "Saving round 8 aggregated_parameters...\n"
     ]
    },
    {
     "name": "stderr",
     "output_type": "stream",
     "text": [
      "DEBUG flwr 2024-08-29 10:14:42,578 | server.py:173 | evaluate_round 8: strategy sampled 6 clients (out of 6)\n",
      "DEBUG flwr 2024-08-29 10:14:42,602 | server.py:187 | evaluate_round 8 received 6 results and 0 failures\n",
      "DEBUG flwr 2024-08-29 10:14:42,602 | server.py:222 | fit_round 9: strategy sampled 6 clients (out of 6)\n",
      "DEBUG flwr 2024-08-29 10:14:42,679 | server.py:236 | fit_round 9 received 6 results and 0 failures\n"
     ]
    },
    {
     "name": "stdout",
     "output_type": "stream",
     "text": [
      "Saving round 9 aggregated_parameters...\n"
     ]
    },
    {
     "name": "stderr",
     "output_type": "stream",
     "text": [
      "DEBUG flwr 2024-08-29 10:14:43,150 | server.py:173 | evaluate_round 9: strategy sampled 6 clients (out of 6)\n",
      "DEBUG flwr 2024-08-29 10:14:43,172 | server.py:187 | evaluate_round 9 received 6 results and 0 failures\n",
      "DEBUG flwr 2024-08-29 10:14:43,172 | server.py:222 | fit_round 10: strategy sampled 6 clients (out of 6)\n",
      "DEBUG flwr 2024-08-29 10:14:43,253 | server.py:236 | fit_round 10 received 6 results and 0 failures\n"
     ]
    },
    {
     "name": "stdout",
     "output_type": "stream",
     "text": [
      "Saving round 10 aggregated_parameters...\n"
     ]
    },
    {
     "name": "stderr",
     "output_type": "stream",
     "text": [
      "DEBUG flwr 2024-08-29 10:14:43,698 | server.py:173 | evaluate_round 10: strategy sampled 6 clients (out of 6)\n",
      "DEBUG flwr 2024-08-29 10:14:43,727 | server.py:187 | evaluate_round 10 received 6 results and 0 failures\n",
      "DEBUG flwr 2024-08-29 10:14:43,728 | server.py:222 | fit_round 11: strategy sampled 6 clients (out of 6)\n",
      "DEBUG flwr 2024-08-29 10:14:43,808 | server.py:236 | fit_round 11 received 6 results and 0 failures\n"
     ]
    },
    {
     "name": "stdout",
     "output_type": "stream",
     "text": [
      "Saving round 11 aggregated_parameters...\n"
     ]
    },
    {
     "name": "stderr",
     "output_type": "stream",
     "text": [
      "DEBUG flwr 2024-08-29 10:14:44,269 | server.py:173 | evaluate_round 11: strategy sampled 6 clients (out of 6)\n",
      "DEBUG flwr 2024-08-29 10:14:44,293 | server.py:187 | evaluate_round 11 received 6 results and 0 failures\n",
      "DEBUG flwr 2024-08-29 10:14:44,293 | server.py:222 | fit_round 12: strategy sampled 6 clients (out of 6)\n",
      "DEBUG flwr 2024-08-29 10:14:44,374 | server.py:236 | fit_round 12 received 6 results and 0 failures\n"
     ]
    },
    {
     "name": "stdout",
     "output_type": "stream",
     "text": [
      "Saving round 12 aggregated_parameters...\n"
     ]
    },
    {
     "name": "stderr",
     "output_type": "stream",
     "text": [
      "DEBUG flwr 2024-08-29 10:14:44,835 | server.py:173 | evaluate_round 12: strategy sampled 6 clients (out of 6)\n",
      "DEBUG flwr 2024-08-29 10:14:44,863 | server.py:187 | evaluate_round 12 received 6 results and 0 failures\n",
      "DEBUG flwr 2024-08-29 10:14:44,864 | server.py:222 | fit_round 13: strategy sampled 6 clients (out of 6)\n",
      "DEBUG flwr 2024-08-29 10:14:44,943 | server.py:236 | fit_round 13 received 6 results and 0 failures\n"
     ]
    },
    {
     "name": "stdout",
     "output_type": "stream",
     "text": [
      "Saving round 13 aggregated_parameters...\n"
     ]
    },
    {
     "name": "stderr",
     "output_type": "stream",
     "text": [
      "DEBUG flwr 2024-08-29 10:14:45,407 | server.py:173 | evaluate_round 13: strategy sampled 6 clients (out of 6)\n",
      "DEBUG flwr 2024-08-29 10:14:45,434 | server.py:187 | evaluate_round 13 received 6 results and 0 failures\n",
      "DEBUG flwr 2024-08-29 10:14:45,434 | server.py:222 | fit_round 14: strategy sampled 6 clients (out of 6)\n",
      "DEBUG flwr 2024-08-29 10:14:45,513 | server.py:236 | fit_round 14 received 6 results and 0 failures\n"
     ]
    },
    {
     "name": "stdout",
     "output_type": "stream",
     "text": [
      "Saving round 14 aggregated_parameters...\n"
     ]
    },
    {
     "name": "stderr",
     "output_type": "stream",
     "text": [
      "DEBUG flwr 2024-08-29 10:14:45,980 | server.py:173 | evaluate_round 14: strategy sampled 6 clients (out of 6)\n",
      "DEBUG flwr 2024-08-29 10:14:46,005 | server.py:187 | evaluate_round 14 received 6 results and 0 failures\n",
      "DEBUG flwr 2024-08-29 10:14:46,006 | server.py:222 | fit_round 15: strategy sampled 6 clients (out of 6)\n",
      "DEBUG flwr 2024-08-29 10:14:46,084 | server.py:236 | fit_round 15 received 6 results and 0 failures\n"
     ]
    },
    {
     "name": "stdout",
     "output_type": "stream",
     "text": [
      "Saving round 15 aggregated_parameters...\n"
     ]
    },
    {
     "name": "stderr",
     "output_type": "stream",
     "text": [
      "DEBUG flwr 2024-08-29 10:14:46,534 | server.py:173 | evaluate_round 15: strategy sampled 6 clients (out of 6)\n",
      "DEBUG flwr 2024-08-29 10:14:46,559 | server.py:187 | evaluate_round 15 received 6 results and 0 failures\n",
      "DEBUG flwr 2024-08-29 10:14:46,559 | server.py:222 | fit_round 16: strategy sampled 6 clients (out of 6)\n",
      "DEBUG flwr 2024-08-29 10:14:46,644 | server.py:236 | fit_round 16 received 6 results and 0 failures\n"
     ]
    },
    {
     "name": "stdout",
     "output_type": "stream",
     "text": [
      "Saving round 16 aggregated_parameters...\n"
     ]
    },
    {
     "name": "stderr",
     "output_type": "stream",
     "text": [
      "DEBUG flwr 2024-08-29 10:14:47,092 | server.py:173 | evaluate_round 16: strategy sampled 6 clients (out of 6)\n",
      "DEBUG flwr 2024-08-29 10:14:47,118 | server.py:187 | evaluate_round 16 received 6 results and 0 failures\n",
      "DEBUG flwr 2024-08-29 10:14:47,118 | server.py:222 | fit_round 17: strategy sampled 6 clients (out of 6)\n",
      "DEBUG flwr 2024-08-29 10:14:47,196 | server.py:236 | fit_round 17 received 6 results and 0 failures\n"
     ]
    },
    {
     "name": "stdout",
     "output_type": "stream",
     "text": [
      "Saving round 17 aggregated_parameters...\n"
     ]
    },
    {
     "name": "stderr",
     "output_type": "stream",
     "text": [
      "DEBUG flwr 2024-08-29 10:14:47,644 | server.py:173 | evaluate_round 17: strategy sampled 6 clients (out of 6)\n",
      "DEBUG flwr 2024-08-29 10:14:47,673 | server.py:187 | evaluate_round 17 received 6 results and 0 failures\n",
      "DEBUG flwr 2024-08-29 10:14:47,673 | server.py:222 | fit_round 18: strategy sampled 6 clients (out of 6)\n",
      "DEBUG flwr 2024-08-29 10:14:47,755 | server.py:236 | fit_round 18 received 6 results and 0 failures\n"
     ]
    },
    {
     "name": "stdout",
     "output_type": "stream",
     "text": [
      "Saving round 18 aggregated_parameters...\n"
     ]
    },
    {
     "name": "stderr",
     "output_type": "stream",
     "text": [
      "DEBUG flwr 2024-08-29 10:14:48,217 | server.py:173 | evaluate_round 18: strategy sampled 6 clients (out of 6)\n",
      "DEBUG flwr 2024-08-29 10:14:48,241 | server.py:187 | evaluate_round 18 received 6 results and 0 failures\n",
      "DEBUG flwr 2024-08-29 10:14:48,241 | server.py:222 | fit_round 19: strategy sampled 6 clients (out of 6)\n",
      "DEBUG flwr 2024-08-29 10:14:48,325 | server.py:236 | fit_round 19 received 6 results and 0 failures\n"
     ]
    },
    {
     "name": "stdout",
     "output_type": "stream",
     "text": [
      "Saving round 19 aggregated_parameters...\n"
     ]
    },
    {
     "name": "stderr",
     "output_type": "stream",
     "text": [
      "DEBUG flwr 2024-08-29 10:14:48,784 | server.py:173 | evaluate_round 19: strategy sampled 6 clients (out of 6)\n",
      "DEBUG flwr 2024-08-29 10:14:48,808 | server.py:187 | evaluate_round 19 received 6 results and 0 failures\n",
      "DEBUG flwr 2024-08-29 10:14:48,808 | server.py:222 | fit_round 20: strategy sampled 6 clients (out of 6)\n",
      "DEBUG flwr 2024-08-29 10:14:48,894 | server.py:236 | fit_round 20 received 6 results and 0 failures\n"
     ]
    },
    {
     "name": "stdout",
     "output_type": "stream",
     "text": [
      "Saving round 20 aggregated_parameters...\n"
     ]
    },
    {
     "name": "stderr",
     "output_type": "stream",
     "text": [
      "DEBUG flwr 2024-08-29 10:14:49,358 | server.py:173 | evaluate_round 20: strategy sampled 6 clients (out of 6)\n",
      "DEBUG flwr 2024-08-29 10:14:49,384 | server.py:187 | evaluate_round 20 received 6 results and 0 failures\n",
      "DEBUG flwr 2024-08-29 10:14:49,384 | server.py:222 | fit_round 21: strategy sampled 6 clients (out of 6)\n",
      "DEBUG flwr 2024-08-29 10:14:49,463 | server.py:236 | fit_round 21 received 6 results and 0 failures\n"
     ]
    },
    {
     "name": "stdout",
     "output_type": "stream",
     "text": [
      "Saving round 21 aggregated_parameters...\n"
     ]
    },
    {
     "name": "stderr",
     "output_type": "stream",
     "text": [
      "DEBUG flwr 2024-08-29 10:14:49,934 | server.py:173 | evaluate_round 21: strategy sampled 6 clients (out of 6)\n",
      "DEBUG flwr 2024-08-29 10:14:49,960 | server.py:187 | evaluate_round 21 received 6 results and 0 failures\n",
      "DEBUG flwr 2024-08-29 10:14:49,960 | server.py:222 | fit_round 22: strategy sampled 6 clients (out of 6)\n",
      "DEBUG flwr 2024-08-29 10:14:50,043 | server.py:236 | fit_round 22 received 6 results and 0 failures\n"
     ]
    },
    {
     "name": "stdout",
     "output_type": "stream",
     "text": [
      "Saving round 22 aggregated_parameters...\n"
     ]
    },
    {
     "name": "stderr",
     "output_type": "stream",
     "text": [
      "DEBUG flwr 2024-08-29 10:14:50,496 | server.py:173 | evaluate_round 22: strategy sampled 6 clients (out of 6)\n",
      "DEBUG flwr 2024-08-29 10:14:50,523 | server.py:187 | evaluate_round 22 received 6 results and 0 failures\n",
      "DEBUG flwr 2024-08-29 10:14:50,524 | server.py:222 | fit_round 23: strategy sampled 6 clients (out of 6)\n",
      "DEBUG flwr 2024-08-29 10:14:50,602 | server.py:236 | fit_round 23 received 6 results and 0 failures\n"
     ]
    },
    {
     "name": "stdout",
     "output_type": "stream",
     "text": [
      "Saving round 23 aggregated_parameters...\n"
     ]
    },
    {
     "name": "stderr",
     "output_type": "stream",
     "text": [
      "DEBUG flwr 2024-08-29 10:14:51,051 | server.py:173 | evaluate_round 23: strategy sampled 6 clients (out of 6)\n",
      "DEBUG flwr 2024-08-29 10:14:51,074 | server.py:187 | evaluate_round 23 received 6 results and 0 failures\n",
      "DEBUG flwr 2024-08-29 10:14:51,074 | server.py:222 | fit_round 24: strategy sampled 6 clients (out of 6)\n",
      "DEBUG flwr 2024-08-29 10:14:51,152 | server.py:236 | fit_round 24 received 6 results and 0 failures\n"
     ]
    },
    {
     "name": "stdout",
     "output_type": "stream",
     "text": [
      "Saving round 24 aggregated_parameters...\n"
     ]
    },
    {
     "name": "stderr",
     "output_type": "stream",
     "text": [
      "DEBUG flwr 2024-08-29 10:14:51,607 | server.py:173 | evaluate_round 24: strategy sampled 6 clients (out of 6)\n",
      "DEBUG flwr 2024-08-29 10:14:51,632 | server.py:187 | evaluate_round 24 received 6 results and 0 failures\n",
      "DEBUG flwr 2024-08-29 10:14:51,632 | server.py:222 | fit_round 25: strategy sampled 6 clients (out of 6)\n",
      "DEBUG flwr 2024-08-29 10:14:51,712 | server.py:236 | fit_round 25 received 6 results and 0 failures\n"
     ]
    },
    {
     "name": "stdout",
     "output_type": "stream",
     "text": [
      "Saving round 25 aggregated_parameters...\n"
     ]
    },
    {
     "name": "stderr",
     "output_type": "stream",
     "text": [
      "DEBUG flwr 2024-08-29 10:14:52,171 | server.py:173 | evaluate_round 25: strategy sampled 6 clients (out of 6)\n",
      "DEBUG flwr 2024-08-29 10:14:52,196 | server.py:187 | evaluate_round 25 received 6 results and 0 failures\n",
      "DEBUG flwr 2024-08-29 10:14:52,196 | server.py:222 | fit_round 26: strategy sampled 6 clients (out of 6)\n",
      "DEBUG flwr 2024-08-29 10:14:52,278 | server.py:236 | fit_round 26 received 6 results and 0 failures\n"
     ]
    },
    {
     "name": "stdout",
     "output_type": "stream",
     "text": [
      "Saving round 26 aggregated_parameters...\n"
     ]
    },
    {
     "name": "stderr",
     "output_type": "stream",
     "text": [
      "DEBUG flwr 2024-08-29 10:14:52,721 | server.py:173 | evaluate_round 26: strategy sampled 6 clients (out of 6)\n",
      "DEBUG flwr 2024-08-29 10:14:52,747 | server.py:187 | evaluate_round 26 received 6 results and 0 failures\n",
      "DEBUG flwr 2024-08-29 10:14:52,747 | server.py:222 | fit_round 27: strategy sampled 6 clients (out of 6)\n",
      "DEBUG flwr 2024-08-29 10:14:52,827 | server.py:236 | fit_round 27 received 6 results and 0 failures\n"
     ]
    },
    {
     "name": "stdout",
     "output_type": "stream",
     "text": [
      "Saving round 27 aggregated_parameters...\n"
     ]
    },
    {
     "name": "stderr",
     "output_type": "stream",
     "text": [
      "DEBUG flwr 2024-08-29 10:14:53,284 | server.py:173 | evaluate_round 27: strategy sampled 6 clients (out of 6)\n",
      "DEBUG flwr 2024-08-29 10:14:53,308 | server.py:187 | evaluate_round 27 received 6 results and 0 failures\n",
      "DEBUG flwr 2024-08-29 10:14:53,308 | server.py:222 | fit_round 28: strategy sampled 6 clients (out of 6)\n",
      "DEBUG flwr 2024-08-29 10:14:53,385 | server.py:236 | fit_round 28 received 6 results and 0 failures\n"
     ]
    },
    {
     "name": "stdout",
     "output_type": "stream",
     "text": [
      "Saving round 28 aggregated_parameters...\n"
     ]
    },
    {
     "name": "stderr",
     "output_type": "stream",
     "text": [
      "DEBUG flwr 2024-08-29 10:14:53,840 | server.py:173 | evaluate_round 28: strategy sampled 6 clients (out of 6)\n",
      "DEBUG flwr 2024-08-29 10:14:53,867 | server.py:187 | evaluate_round 28 received 6 results and 0 failures\n",
      "DEBUG flwr 2024-08-29 10:14:53,868 | server.py:222 | fit_round 29: strategy sampled 6 clients (out of 6)\n",
      "DEBUG flwr 2024-08-29 10:14:53,943 | server.py:236 | fit_round 29 received 6 results and 0 failures\n"
     ]
    },
    {
     "name": "stdout",
     "output_type": "stream",
     "text": [
      "Saving round 29 aggregated_parameters...\n"
     ]
    },
    {
     "name": "stderr",
     "output_type": "stream",
     "text": [
      "DEBUG flwr 2024-08-29 10:14:54,392 | server.py:173 | evaluate_round 29: strategy sampled 6 clients (out of 6)\n",
      "DEBUG flwr 2024-08-29 10:14:54,419 | server.py:187 | evaluate_round 29 received 6 results and 0 failures\n",
      "DEBUG flwr 2024-08-29 10:14:54,419 | server.py:222 | fit_round 30: strategy sampled 6 clients (out of 6)\n",
      "DEBUG flwr 2024-08-29 10:14:54,496 | server.py:236 | fit_round 30 received 6 results and 0 failures\n"
     ]
    },
    {
     "name": "stdout",
     "output_type": "stream",
     "text": [
      "Saving round 30 aggregated_parameters...\n"
     ]
    },
    {
     "name": "stderr",
     "output_type": "stream",
     "text": [
      "DEBUG flwr 2024-08-29 10:14:54,939 | server.py:173 | evaluate_round 30: strategy sampled 6 clients (out of 6)\n",
      "DEBUG flwr 2024-08-29 10:14:54,964 | server.py:187 | evaluate_round 30 received 6 results and 0 failures\n",
      "DEBUG flwr 2024-08-29 10:14:54,964 | server.py:222 | fit_round 31: strategy sampled 6 clients (out of 6)\n",
      "DEBUG flwr 2024-08-29 10:14:55,043 | server.py:236 | fit_round 31 received 6 results and 0 failures\n"
     ]
    },
    {
     "name": "stdout",
     "output_type": "stream",
     "text": [
      "Saving round 31 aggregated_parameters...\n"
     ]
    },
    {
     "name": "stderr",
     "output_type": "stream",
     "text": [
      "DEBUG flwr 2024-08-29 10:14:55,504 | server.py:173 | evaluate_round 31: strategy sampled 6 clients (out of 6)\n",
      "DEBUG flwr 2024-08-29 10:14:55,530 | server.py:187 | evaluate_round 31 received 6 results and 0 failures\n",
      "DEBUG flwr 2024-08-29 10:14:55,530 | server.py:222 | fit_round 32: strategy sampled 6 clients (out of 6)\n",
      "DEBUG flwr 2024-08-29 10:14:55,609 | server.py:236 | fit_round 32 received 6 results and 0 failures\n"
     ]
    },
    {
     "name": "stdout",
     "output_type": "stream",
     "text": [
      "Saving round 32 aggregated_parameters...\n"
     ]
    },
    {
     "name": "stderr",
     "output_type": "stream",
     "text": [
      "DEBUG flwr 2024-08-29 10:14:56,070 | server.py:173 | evaluate_round 32: strategy sampled 6 clients (out of 6)\n",
      "DEBUG flwr 2024-08-29 10:14:56,098 | server.py:187 | evaluate_round 32 received 6 results and 0 failures\n",
      "DEBUG flwr 2024-08-29 10:14:56,098 | server.py:222 | fit_round 33: strategy sampled 6 clients (out of 6)\n",
      "DEBUG flwr 2024-08-29 10:14:56,177 | server.py:236 | fit_round 33 received 6 results and 0 failures\n"
     ]
    },
    {
     "name": "stdout",
     "output_type": "stream",
     "text": [
      "Saving round 33 aggregated_parameters...\n"
     ]
    },
    {
     "name": "stderr",
     "output_type": "stream",
     "text": [
      "DEBUG flwr 2024-08-29 10:14:56,638 | server.py:173 | evaluate_round 33: strategy sampled 6 clients (out of 6)\n",
      "DEBUG flwr 2024-08-29 10:14:56,666 | server.py:187 | evaluate_round 33 received 6 results and 0 failures\n",
      "DEBUG flwr 2024-08-29 10:14:56,666 | server.py:222 | fit_round 34: strategy sampled 6 clients (out of 6)\n",
      "DEBUG flwr 2024-08-29 10:14:56,744 | server.py:236 | fit_round 34 received 6 results and 0 failures\n"
     ]
    },
    {
     "name": "stdout",
     "output_type": "stream",
     "text": [
      "Saving round 34 aggregated_parameters...\n"
     ]
    },
    {
     "name": "stderr",
     "output_type": "stream",
     "text": [
      "DEBUG flwr 2024-08-29 10:14:57,191 | server.py:173 | evaluate_round 34: strategy sampled 6 clients (out of 6)\n",
      "DEBUG flwr 2024-08-29 10:14:57,218 | server.py:187 | evaluate_round 34 received 6 results and 0 failures\n",
      "DEBUG flwr 2024-08-29 10:14:57,218 | server.py:222 | fit_round 35: strategy sampled 6 clients (out of 6)\n",
      "DEBUG flwr 2024-08-29 10:14:57,297 | server.py:236 | fit_round 35 received 6 results and 0 failures\n"
     ]
    },
    {
     "name": "stdout",
     "output_type": "stream",
     "text": [
      "Saving round 35 aggregated_parameters...\n"
     ]
    },
    {
     "name": "stderr",
     "output_type": "stream",
     "text": [
      "DEBUG flwr 2024-08-29 10:14:57,765 | server.py:173 | evaluate_round 35: strategy sampled 6 clients (out of 6)\n",
      "DEBUG flwr 2024-08-29 10:14:57,791 | server.py:187 | evaluate_round 35 received 6 results and 0 failures\n",
      "DEBUG flwr 2024-08-29 10:14:57,791 | server.py:222 | fit_round 36: strategy sampled 6 clients (out of 6)\n",
      "DEBUG flwr 2024-08-29 10:14:57,876 | server.py:236 | fit_round 36 received 6 results and 0 failures\n"
     ]
    },
    {
     "name": "stdout",
     "output_type": "stream",
     "text": [
      "Saving round 36 aggregated_parameters...\n"
     ]
    },
    {
     "name": "stderr",
     "output_type": "stream",
     "text": [
      "DEBUG flwr 2024-08-29 10:14:58,344 | server.py:173 | evaluate_round 36: strategy sampled 6 clients (out of 6)\n",
      "DEBUG flwr 2024-08-29 10:14:58,370 | server.py:187 | evaluate_round 36 received 6 results and 0 failures\n",
      "DEBUG flwr 2024-08-29 10:14:58,370 | server.py:222 | fit_round 37: strategy sampled 6 clients (out of 6)\n",
      "DEBUG flwr 2024-08-29 10:14:58,449 | server.py:236 | fit_round 37 received 6 results and 0 failures\n"
     ]
    },
    {
     "name": "stdout",
     "output_type": "stream",
     "text": [
      "Saving round 37 aggregated_parameters...\n"
     ]
    },
    {
     "name": "stderr",
     "output_type": "stream",
     "text": [
      "DEBUG flwr 2024-08-29 10:14:58,899 | server.py:173 | evaluate_round 37: strategy sampled 6 clients (out of 6)\n",
      "DEBUG flwr 2024-08-29 10:14:58,922 | server.py:187 | evaluate_round 37 received 6 results and 0 failures\n",
      "DEBUG flwr 2024-08-29 10:14:58,923 | server.py:222 | fit_round 38: strategy sampled 6 clients (out of 6)\n",
      "DEBUG flwr 2024-08-29 10:14:59,000 | server.py:236 | fit_round 38 received 6 results and 0 failures\n"
     ]
    },
    {
     "name": "stdout",
     "output_type": "stream",
     "text": [
      "Saving round 38 aggregated_parameters...\n"
     ]
    },
    {
     "name": "stderr",
     "output_type": "stream",
     "text": [
      "DEBUG flwr 2024-08-29 10:14:59,456 | server.py:173 | evaluate_round 38: strategy sampled 6 clients (out of 6)\n",
      "DEBUG flwr 2024-08-29 10:14:59,482 | server.py:187 | evaluate_round 38 received 6 results and 0 failures\n",
      "DEBUG flwr 2024-08-29 10:14:59,482 | server.py:222 | fit_round 39: strategy sampled 6 clients (out of 6)\n",
      "DEBUG flwr 2024-08-29 10:14:59,563 | server.py:236 | fit_round 39 received 6 results and 0 failures\n"
     ]
    },
    {
     "name": "stdout",
     "output_type": "stream",
     "text": [
      "Saving round 39 aggregated_parameters...\n"
     ]
    },
    {
     "name": "stderr",
     "output_type": "stream",
     "text": [
      "DEBUG flwr 2024-08-29 10:15:00,012 | server.py:173 | evaluate_round 39: strategy sampled 6 clients (out of 6)\n",
      "DEBUG flwr 2024-08-29 10:15:00,042 | server.py:187 | evaluate_round 39 received 6 results and 0 failures\n",
      "DEBUG flwr 2024-08-29 10:15:00,042 | server.py:222 | fit_round 40: strategy sampled 6 clients (out of 6)\n",
      "DEBUG flwr 2024-08-29 10:15:00,123 | server.py:236 | fit_round 40 received 6 results and 0 failures\n"
     ]
    },
    {
     "name": "stdout",
     "output_type": "stream",
     "text": [
      "Saving round 40 aggregated_parameters...\n"
     ]
    },
    {
     "name": "stderr",
     "output_type": "stream",
     "text": [
      "DEBUG flwr 2024-08-29 10:15:00,570 | server.py:173 | evaluate_round 40: strategy sampled 6 clients (out of 6)\n",
      "DEBUG flwr 2024-08-29 10:15:00,595 | server.py:187 | evaluate_round 40 received 6 results and 0 failures\n",
      "DEBUG flwr 2024-08-29 10:15:00,595 | server.py:222 | fit_round 41: strategy sampled 6 clients (out of 6)\n",
      "DEBUG flwr 2024-08-29 10:15:00,676 | server.py:236 | fit_round 41 received 6 results and 0 failures\n"
     ]
    },
    {
     "name": "stdout",
     "output_type": "stream",
     "text": [
      "Saving round 41 aggregated_parameters...\n"
     ]
    },
    {
     "name": "stderr",
     "output_type": "stream",
     "text": [
      "DEBUG flwr 2024-08-29 10:15:01,131 | server.py:173 | evaluate_round 41: strategy sampled 6 clients (out of 6)\n",
      "DEBUG flwr 2024-08-29 10:15:01,156 | server.py:187 | evaluate_round 41 received 6 results and 0 failures\n",
      "DEBUG flwr 2024-08-29 10:15:01,156 | server.py:222 | fit_round 42: strategy sampled 6 clients (out of 6)\n",
      "DEBUG flwr 2024-08-29 10:15:01,236 | server.py:236 | fit_round 42 received 6 results and 0 failures\n"
     ]
    },
    {
     "name": "stdout",
     "output_type": "stream",
     "text": [
      "Saving round 42 aggregated_parameters...\n"
     ]
    },
    {
     "name": "stderr",
     "output_type": "stream",
     "text": [
      "DEBUG flwr 2024-08-29 10:15:01,703 | server.py:173 | evaluate_round 42: strategy sampled 6 clients (out of 6)\n",
      "DEBUG flwr 2024-08-29 10:15:01,728 | server.py:187 | evaluate_round 42 received 6 results and 0 failures\n",
      "DEBUG flwr 2024-08-29 10:15:01,728 | server.py:222 | fit_round 43: strategy sampled 6 clients (out of 6)\n",
      "DEBUG flwr 2024-08-29 10:15:01,810 | server.py:236 | fit_round 43 received 6 results and 0 failures\n"
     ]
    },
    {
     "name": "stdout",
     "output_type": "stream",
     "text": [
      "Saving round 43 aggregated_parameters...\n"
     ]
    },
    {
     "name": "stderr",
     "output_type": "stream",
     "text": [
      "DEBUG flwr 2024-08-29 10:15:02,266 | server.py:173 | evaluate_round 43: strategy sampled 6 clients (out of 6)\n",
      "DEBUG flwr 2024-08-29 10:15:02,294 | server.py:187 | evaluate_round 43 received 6 results and 0 failures\n",
      "DEBUG flwr 2024-08-29 10:15:02,294 | server.py:222 | fit_round 44: strategy sampled 6 clients (out of 6)\n",
      "DEBUG flwr 2024-08-29 10:15:02,377 | server.py:236 | fit_round 44 received 6 results and 0 failures\n"
     ]
    },
    {
     "name": "stdout",
     "output_type": "stream",
     "text": [
      "Saving round 44 aggregated_parameters...\n"
     ]
    },
    {
     "name": "stderr",
     "output_type": "stream",
     "text": [
      "DEBUG flwr 2024-08-29 10:15:02,834 | server.py:173 | evaluate_round 44: strategy sampled 6 clients (out of 6)\n",
      "DEBUG flwr 2024-08-29 10:15:02,859 | server.py:187 | evaluate_round 44 received 6 results and 0 failures\n",
      "DEBUG flwr 2024-08-29 10:15:02,859 | server.py:222 | fit_round 45: strategy sampled 6 clients (out of 6)\n",
      "DEBUG flwr 2024-08-29 10:15:02,936 | server.py:236 | fit_round 45 received 6 results and 0 failures\n"
     ]
    },
    {
     "name": "stdout",
     "output_type": "stream",
     "text": [
      "Saving round 45 aggregated_parameters...\n"
     ]
    },
    {
     "name": "stderr",
     "output_type": "stream",
     "text": [
      "DEBUG flwr 2024-08-29 10:15:03,390 | server.py:173 | evaluate_round 45: strategy sampled 6 clients (out of 6)\n",
      "DEBUG flwr 2024-08-29 10:15:03,416 | server.py:187 | evaluate_round 45 received 6 results and 0 failures\n",
      "DEBUG flwr 2024-08-29 10:15:03,417 | server.py:222 | fit_round 46: strategy sampled 6 clients (out of 6)\n",
      "DEBUG flwr 2024-08-29 10:15:03,496 | server.py:236 | fit_round 46 received 6 results and 0 failures\n"
     ]
    },
    {
     "name": "stdout",
     "output_type": "stream",
     "text": [
      "Saving round 46 aggregated_parameters...\n"
     ]
    },
    {
     "name": "stderr",
     "output_type": "stream",
     "text": [
      "DEBUG flwr 2024-08-29 10:15:03,970 | server.py:173 | evaluate_round 46: strategy sampled 6 clients (out of 6)\n",
      "DEBUG flwr 2024-08-29 10:15:03,996 | server.py:187 | evaluate_round 46 received 6 results and 0 failures\n",
      "DEBUG flwr 2024-08-29 10:15:03,996 | server.py:222 | fit_round 47: strategy sampled 6 clients (out of 6)\n",
      "DEBUG flwr 2024-08-29 10:15:04,077 | server.py:236 | fit_round 47 received 6 results and 0 failures\n"
     ]
    },
    {
     "name": "stdout",
     "output_type": "stream",
     "text": [
      "Saving round 47 aggregated_parameters...\n"
     ]
    },
    {
     "name": "stderr",
     "output_type": "stream",
     "text": [
      "DEBUG flwr 2024-08-29 10:15:04,558 | server.py:173 | evaluate_round 47: strategy sampled 6 clients (out of 6)\n",
      "DEBUG flwr 2024-08-29 10:15:04,584 | server.py:187 | evaluate_round 47 received 6 results and 0 failures\n",
      "DEBUG flwr 2024-08-29 10:15:04,584 | server.py:222 | fit_round 48: strategy sampled 6 clients (out of 6)\n",
      "DEBUG flwr 2024-08-29 10:15:04,663 | server.py:236 | fit_round 48 received 6 results and 0 failures\n"
     ]
    },
    {
     "name": "stdout",
     "output_type": "stream",
     "text": [
      "Saving round 48 aggregated_parameters...\n"
     ]
    },
    {
     "name": "stderr",
     "output_type": "stream",
     "text": [
      "DEBUG flwr 2024-08-29 10:15:05,117 | server.py:173 | evaluate_round 48: strategy sampled 6 clients (out of 6)\n",
      "DEBUG flwr 2024-08-29 10:15:05,143 | server.py:187 | evaluate_round 48 received 6 results and 0 failures\n",
      "DEBUG flwr 2024-08-29 10:15:05,143 | server.py:222 | fit_round 49: strategy sampled 6 clients (out of 6)\n",
      "DEBUG flwr 2024-08-29 10:15:05,226 | server.py:236 | fit_round 49 received 6 results and 0 failures\n"
     ]
    },
    {
     "name": "stdout",
     "output_type": "stream",
     "text": [
      "Saving round 49 aggregated_parameters...\n"
     ]
    },
    {
     "name": "stderr",
     "output_type": "stream",
     "text": [
      "DEBUG flwr 2024-08-29 10:15:05,693 | server.py:173 | evaluate_round 49: strategy sampled 6 clients (out of 6)\n",
      "DEBUG flwr 2024-08-29 10:15:05,720 | server.py:187 | evaluate_round 49 received 6 results and 0 failures\n",
      "DEBUG flwr 2024-08-29 10:15:05,720 | server.py:222 | fit_round 50: strategy sampled 6 clients (out of 6)\n",
      "DEBUG flwr 2024-08-29 10:15:05,796 | server.py:236 | fit_round 50 received 6 results and 0 failures\n"
     ]
    },
    {
     "name": "stdout",
     "output_type": "stream",
     "text": [
      "Saving round 50 aggregated_parameters...\n",
      "\u001b[90mTraining time: 0.56 minutes\u001b[0m\n"
     ]
    },
    {
     "name": "stderr",
     "output_type": "stream",
     "text": [
      "DEBUG flwr 2024-08-29 10:15:06,262 | server.py:173 | evaluate_round 50: strategy sampled 6 clients (out of 6)\n",
      "DEBUG flwr 2024-08-29 10:15:06,286 | server.py:187 | evaluate_round 50 received 6 results and 0 failures\n",
      "INFO flwr 2024-08-29 10:15:06,286 | server.py:153 | FL finished in 30.067417416954413\n",
      "INFO flwr 2024-08-29 10:15:06,286 | app.py:226 | app_fit: losses_distributed [(1, 0.8437466347592106), (2, 0.8621650466681302), (3, 0.8744808284329696), (4, 0.8716141648049732), (5, 0.8625439542990464), (6, 0.8519806848962025), (7, 0.8420288720988504), (8, 0.839792576345049), (9, 0.8362894898375349), (10, 0.8355348378193856), (11, 0.8352424563720967), (12, 0.8346208196419936), (13, 0.8344809516925337), (14, 0.835017722192849), (15, 0.831198361557974), (16, 0.8310036095482815), (17, 0.8294625602589915), (18, 0.832388522888444), (19, 0.8306674177830036), (20, 0.826729229379966), (21, 0.8233526945114136), (22, 0.8261288310827956), (23, 0.8178512347480716), (24, 0.8193627296909609), (25, 0.8157855404030334), (26, 0.8126700167278814), (27, 0.8023510113568373), (28, 0.7994021668723449), (29, 0.8014037282986088), (30, 0.7987954256206525), (31, 0.7934558785491233), (32, 0.7865847347875329), (33, 0.7790470486214205), (34, 0.775935717613183), (35, 0.7761979004931218), (36, 0.7643082504153639), (37, 0.7618427489715692), (38, 0.7519325870346533), (39, 0.7428282976537975), (40, 0.7339693453175017), (41, 0.7293388689197156), (42, 0.7324193152291286), (43, 0.7216080592487124), (44, 0.719881714746469), (45, 0.7073601404223127), (46, 0.6970513034874285), (47, 0.6918550264473726), (48, 0.6893849833298349), (49, 0.6789498323027775), (50, 0.6698091350746052)]\n",
      "INFO flwr 2024-08-29 10:15:06,286 | app.py:227 | app_fit: metrics_distributed_fit {}\n",
      "INFO flwr 2024-08-29 10:15:06,286 | app.py:228 | app_fit: metrics_distributed {'accuracy': [(1, 0.45395451148049676), (2, 0.45395451148049676), (3, 0.45395451148049676), (4, 0.45395451148049676), (5, 0.45395451148049676), (6, 0.45395451148049676), (7, 0.45395451148049676), (8, 0.45395451148049676), (9, 0.45395451148049676), (10, 0.45395451148049676), (11, 0.45395451148049676), (12, 0.45395451148049676), (13, 0.45395451148049676), (14, 0.45395451148049676), (15, 0.45395451148049676), (16, 0.45395451148049676), (17, 0.45395451148049676), (18, 0.45395451148049676), (19, 0.45395451148049676), (20, 0.45395451148049676), (21, 0.45395451148049676), (22, 0.45395451148049676), (23, 0.45395451148049676), (24, 0.45395451148049676), (25, 0.45395451148049676), (26, 0.45395451148049676), (27, 0.45395451148049676), (28, 0.45395451148049676), (29, 0.45395451148049676), (30, 0.45395451148049676), (31, 0.45395451148049676), (32, 0.45395451148049676), (33, 0.45720477923670155), (34, 0.48104009148488197), (35, 0.5113759591352126), (36, 0.5178764969723971), (37, 0.5092091062151598), (38, 0.6814734614812411), (39, 0.6446370498266147), (40, 0.6229685806181939), (41, 0.61971832080497), (42, 0.5752979523117855), (43, 0.6468039048454227), (44, 0.6663055442200968), (45, 0.647887327592267), (46, 0.6262188556070317), (47, 0.6359696594568399), (48, 0.6966413891392953), (49, 0.6478873277859982), (50, 0.6598049858151123)], 'validity': [(1, 0.0), (2, 0.0), (3, 0.0), (4, 0.0), (5, 0.0), (6, 0.0), (7, 0.0), (8, 0.0), (9, 0.0), (10, 0.0), (11, 0.0), (12, 0.0), (13, 0.0), (14, 0.0), (15, 0.0), (16, 0.0), (17, 0.0), (18, 0.0), (19, 0.0), (20, 0.0), (21, 0.0), (22, 0.0), (23, 0.0), (24, 0.0), (25, 0.0), (26, 0.0), (27, 0.0), (28, 0.0), (29, 0.0), (30, 0.0), (31, 0.0), (32, 0.0), (33, 0.0032502709527702785), (34, 0.02708559111971509), (35, 0.06175514638377505), (36, 0.06608884209284674), (37, 0.05525460637468171), (38, 0.2589382466296075), (39, 0.26543878940693866), (40, 0.20693391454955998), (41, 0.18959913386046112), (42, 0.1224268693577817), (43, 0.2307692337962814), (44, 0.2394366247795385), (45, 0.3196099760860431), (46, 0.2546045542376788), (47, 0.25568797266593085), (48, 0.34019502031971033), (49, 0.27193932994021625), (50, 0.37269773213989943)]}\n",
      "INFO flwr 2024-08-29 10:15:06,286 | app.py:229 | app_fit: losses_centralized []\n",
      "INFO flwr 2024-08-29 10:15:06,286 | app.py:230 | app_fit: metrics_centralized {}\n",
      "DEBUG flwr 2024-08-29 10:15:06,289 | connection.py:141 | gRPC channel closed\n",
      "DEBUG flwr 2024-08-29 10:15:06,289 | connection.py:141 | gRPC channel closed\n",
      "DEBUG flwr 2024-08-29 10:15:06,289 | connection.py:141 | gRPC channel closed\n",
      "DEBUG flwr 2024-08-29 10:15:06,289 | connection.py:141 | gRPC channel closed\n",
      "DEBUG flwr 2024-08-29 10:15:06,289 | connection.py:141 | gRPC channel closed\n",
      "DEBUG flwr 2024-08-29 10:15:06,289 | connection.py:141 | gRPC channel closed\n",
      "INFO flwr 2024-08-29 10:15:06,289 | app.py:304 | Disconnect and shut down\n",
      "INFO flwr 2024-08-29 10:15:06,289 | app.py:304 | Disconnect and shut down\n",
      "INFO flwr 2024-08-29 10:15:06,289 | app.py:304 | Disconnect and shut down\n",
      "INFO flwr 2024-08-29 10:15:06,289 | app.py:304 | Disconnect and shut down\n",
      "INFO flwr 2024-08-29 10:15:06,289 | app.py:304 | Disconnect and shut down\n",
      "INFO flwr 2024-08-29 10:15:06,289 | app.py:304 | Disconnect and shut down\n"
     ]
    },
    {
     "name": "stdout",
     "output_type": "stream",
     "text": [
      "\n",
      "\u001b[1;33mClient 4\u001b[0m \n",
      "Minimum Loss occurred at round 50 with a loss value of 0.3727591633796692 \n",
      "Maximum Accuracy occurred at round 48 with an accuracy value of 1.0 \n",
      "Validity occurred at round 47 with a validity value of 0.4595959484577179\n",
      "\n",
      "\n",
      "\u001b[1;33mClient 1\u001b[0m \n",
      "Minimum Loss occurred at round 48 with a loss value of 0.606674075126648 \n",
      "Maximum Accuracy occurred at round 48 with an accuracy value of 0.7348484992980957 \n",
      "Validity occurred at round 50 with a validity value of 0.439393937587738\n",
      "\n",
      "\n",
      "\u001b[1;33mClient 5\u001b[0m \n",
      "Minimum Loss occurred at round 50 with a loss value of 0.3918327987194061 \n",
      "Maximum Accuracy occurred at round 48 with an accuracy value of 0.9769230484962464 \n",
      "Validity occurred at round 50 with a validity value of 0.4384615421295166\n",
      "\n",
      "\n",
      "\u001b[1;33mClient 3\u001b[0m \n",
      "Minimum Loss occurred at round 50 with a loss value of 0.4406557977199554 \n",
      "Maximum Accuracy occurred at round 48 with an accuracy value of 1.0 \n",
      "Validity occurred at round 45 with a validity value of 0.4455445408821106\n",
      "\n",
      "\n",
      "\u001b[1;33mClient 2\u001b[0m \n",
      "Minimum Loss occurred at round 1 with a loss value of 0.7212028503417969 \n",
      "Maximum Accuracy occurred at round 1 with an accuracy value of 0.430939257144928 \n",
      "Validity occurred at round 50 with a validity value of 0.3314917385578155\n",
      "\n",
      "Saving metrics to as .json in histories folder...\n",
      "\n",
      "\u001b[1;34mServer Side\u001b[0m \n",
      "Minimum Loss occurred at round 50 with a loss value of 0.6698091350746052 \n",
      "Maximum Accuracy occurred at round 48 with an accuracy value of 0.6966413891392953 \n",
      "Maximum Validity occurred at round 50 with a validity value of 0.37269773213989943\n",
      "\n",
      "\n",
      "\n",
      "\u001b[95mVisualizing the results of the best model (random) on the test set (synthetic)...\u001b[0m\n",
      "--------------------------\n",
      "Patient 1: Diabetes level = 0\n",
      "Features to change to make the Diabetes level = 1\n",
      "Feature: x1 from 1.9820 to 0.2847\n",
      "Feature: x2 from 1.2579 to 2.4992\n",
      "--------------------------\n",
      "Patient 2: Diabetes level = 0\n",
      "Features to change to make the Diabetes level = 1\n",
      "Feature: x1 from -1.7560 to -2.6554\n",
      "Feature: x2 from -0.3023 to 1.1363\n",
      "--------------------------\n",
      "Patient 3: Diabetes level = 1\n",
      "Features to change to make the Diabetes level = 0\n",
      "Feature: x1 from -2.9390 to -2.7964\n",
      "Feature: x2 from -0.3579 to -1.0978\n",
      "--------------------------\n",
      "Patient 4: Diabetes level = 0\n",
      "Features to change to make the Diabetes level = 1\n",
      "Feature: x1 from -1.5654 to -2.1039\n",
      "Feature: x2 from -0.5017 to 0.1896\n",
      "--------------------------\n",
      "Patient 5: Diabetes level = 0\n",
      "Features to change to make the Diabetes level = 1\n",
      "Feature: x1 from -4.6026 to -1.3894\n",
      "Feature: x2 from -3.0199 to 1.4353\n",
      "--------------------------\n",
      "Patient 6: Diabetes level = 1\n",
      "Features to change to make the Diabetes level = 0\n",
      "Feature: x1 from -3.2820 to -2.7863\n",
      "Feature: x2 from -0.2040 to -2.8804\n",
      "\n",
      "\u001b[1;91mEvaluation on General Testing Set - Server\u001b[0m\n",
      "Counterfactual validity: 0.3134\n",
      "Counterfactual accuracy: 0.7783\n",
      "Counterfactual loss: 8.9735\n",
      "\u001b[1;32mDistance Evaluation - Counterfactual: Training Set\u001b[0m\n",
      "Mean distance with all training sets (proximity, hamming proximity, relative proximity): 0.6597, 2.0000, 0.1321\n",
      "Mean distance with training set 1 (proximity, hamming proximity, relative proximity): 2.5358, 2.0000, 0.5693\n",
      "Mean distance with training set 2 (proximity, hamming proximity, relative proximity): 2.3866, 2.0000, 0.5023\n",
      "Mean distance with training set 3 (proximity, hamming proximity, relative proximity): 1.6349, 2.0000, 0.5735\n",
      "Mean distance with training set 4 (proximity, hamming proximity, relative proximity): 1.7296, 2.0000, 0.3540\n",
      "Mean distance with training set 5 (proximity, hamming proximity, relative proximity): 2.2599, 2.0000, 0.5370\n",
      "\u001b[1;32mExtra metrics Evaluation - Counterfactual: Training Set\u001b[0m\n",
      "Hamming Distance: 2.00\n",
      "Euclidean Distance: 3.76\n",
      "Relative Distance: 0.75\n",
      "Intersection over Union: 0.00\n",
      "Variability: 1.00 \n",
      "\n"
     ]
    },
    {
     "name": "stderr",
     "output_type": "stream",
     "text": [
      "100%|██████████| 50/50 [00:06<00:00,  8.27it/s]\n",
      "100%|██████████| 50/50 [00:08<00:00,  5.70it/s]\n",
      "100%|██████████| 50/50 [00:05<00:00,  8.73it/s]\n",
      "100%|██████████| 50/50 [00:08<00:00,  5.92it/s]\n",
      "100%|██████████| 50/50 [00:05<00:00,  9.98it/s]\n"
     ]
    }
   ],
   "source": [
    "import subprocess\n",
    "import time\n",
    "\n",
    "# Fixed parameters for this example\n",
    "model = \"net\"\n",
    "pers = \"0\"\n",
    "\n",
    "# Start server process\n",
    "server_command = [\n",
    "    \"python\", \"server_FBPs.py\", \n",
    "    \"--rounds\", str(n_rounds), \n",
    "    \"--data_type\", data_type, \n",
    "    \"--dataset\", dataset, \n",
    "    \"--model\", model, \n",
    "    \"--pers\", pers, \n",
    "    \"--n_clients\", str(n_clients), \n",
    "    \"--n_attackers\", str(n_attackers), \n",
    "    \"--attack_type\", attack_type\n",
    "]\n",
    "server_process = subprocess.Popen(server_command)\n",
    "time.sleep(2)\n",
    "\n",
    "client_processes = []\n",
    "for i in range(n_clients):\n",
    "    print(\"Start Client\", i+1)\n",
    "    # Start client process\n",
    "    client_command = [\n",
    "        \"python\", \"client.py\", \n",
    "        \"--id\", str(i+1), \n",
    "        \"--data_type\", data_type, \n",
    "        \"--model\", model, \n",
    "        \"--dataset\", dataset\n",
    "    ]\n",
    "    client_processes.append(subprocess.Popen(client_command))\n",
    "    \n",
    "    \n",
    "client_malicious_processes = []\n",
    "for i in range(n_attackers):\n",
    "    print(\"Start Attacker\", i+1)\n",
    "    # Start client process\n",
    "    client_command = [\n",
    "        \"python\", \"malicious_client.py\", \n",
    "        \"--id\", str(i+1), \n",
    "        \"--data_type\", data_type, \n",
    "        \"--model\", model, \n",
    "        \"--dataset\", dataset, \n",
    "        \"--attack_type\", attack_type\n",
    "    ]\n",
    "    client_malicious_processes.append(subprocess.Popen(client_command))\n",
    "    \n",
    "\n",
    "server_process.wait()\n",
    "for p in client_processes:\n",
    "    p.wait()\n",
    "for p in client_malicious_processes:\n",
    "    p.wait()\n"
   ]
  }
 ],
 "metadata": {
  "kernelspec": {
   "display_name": "CF_FL",
   "language": "python",
   "name": "python3"
  },
  "language_info": {
   "codemirror_mode": {
    "name": "ipython",
    "version": 3
   },
   "file_extension": ".py",
   "mimetype": "text/x-python",
   "name": "python",
   "nbconvert_exporter": "python",
   "pygments_lexer": "ipython3",
   "version": "3.12.1"
  }
 },
 "nbformat": 4,
 "nbformat_minor": 2
}
