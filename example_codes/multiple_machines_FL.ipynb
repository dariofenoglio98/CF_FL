{
 "cells": [
  {
   "cell_type": "markdown",
   "metadata": {},
   "source": [
    "# Multiple-machines Federated Learning\n",
    "Choose your role! We need one server, one/two malicious clients, and several honest clients.\n",
    "\n",
    "To do:\n",
    "- Create a conda environment ```conda env create -f environment.yml``` (or manually and then run ```pip install -r requirements.txt```)\n",
    "- Run ```ifconfig``` to find your IP address, and check under en0 (for Wi-Fi) or en7 (for Ethernet/cable)"
   ]
  },
  {
   "cell_type": "code",
   "execution_count": 10,
   "metadata": {},
   "outputs": [],
   "source": [
    "# Setup arguments and initialize strategy\n",
    "server_ip_address = \"10.21.13.79\"\n",
    "\n",
    "class Args:\n",
    "    rounds = 50\n",
    "    data_type = 'random' # Choose between: '2cluster', 'random' (i.e., non-IID and IID)  -- synthetic can go with only random (already non-IID)\n",
    "    dataset = 'synthetic' # Choose between: 'diabetes', 'breast', 'synthetic', 'mnist', 'cifar10'\n",
    "    model = 'net' # Choose between: 'net', 'vcnet'\n",
    "    pers = 0 \n",
    "    n_clients = 2\n",
    "    n_attackers = 0\n",
    "    attack_type = 'DP_inverted_loss' # Choose between: 'DP_flip', 'DP_inverted_loss', 'MP_noise', 'MP_gradient'\n",
    "    fold = 0\n",
    "\n",
    "args = Args()"
   ]
  },
  {
   "cell_type": "markdown",
   "metadata": {},
   "source": [
    "### Data Creation"
   ]
  },
  {
   "cell_type": "code",
   "execution_count": null,
   "metadata": {},
   "outputs": [],
   "source": [
    "import os\n",
    " \n",
    "# Get the current working directory, remove last, and change the current working directory to the parent directory\n",
    "current_path = os.getcwd()\n",
    "parent_path = os.path.dirname(current_path) +'/data'\n",
    "os.chdir(parent_path)\n",
    " \n",
    "# Create CIFAR-10 dataset\n",
    "print(\"\\033[93m Create CIFAR-10\\033[00m\")\n",
    "script_path = os.path.join(parent_path, 'cifar_creation.py')\n",
    "!python $script_path\n",
    " \n",
    "# Create MNIST dataset\n",
    "print(\"\\033[93m Create MNIST\\033[00m\")\n",
    "script_path = os.path.join(parent_path, 'mnist_creation.py')\n",
    "!python $script_path\n",
    " \n",
    "# Split client datasets\n",
    "parent_path = os.path.dirname(current_path)\n",
    "os.chdir(parent_path)\n",
    "print(\"\\033[93m Split client datasets\\033[00m\")\n",
    "script_path = os.path.join(parent_path, 'data/client_split.py')\n",
    "!python $script_path --seed 2 --n_clients $args.n_clients"
   ]
  },
  {
   "cell_type": "markdown",
   "metadata": {},
   "source": [
    "## **Server** - Federated Behavioural Planes\n",
    "Otherwise from terminal: ```python server_FBPs.py --rounds \"50\" --data_type \"2cluster\" --dataset \"diabetes\" --model \"net\" --pers \"0\" --n_clients \"3\" --n_attackers \"0\" --attack_type \"DP_flip\"```"
   ]
  },
  {
   "cell_type": "code",
   "execution_count": 5,
   "metadata": {},
   "outputs": [],
   "source": [
    "# Libraries and functions\n",
    "import flwr as fl\n",
    "import numpy as np\n",
    "from typing import List, Tuple, Union, Optional, Dict\n",
    "from flwr.common import Parameters, Scalar, Metrics\n",
    "from flwr.server.client_proxy import ClientProxy\n",
    "from flwr.common import FitRes\n",
    "import argparse\n",
    "import torch\n",
    "import utils\n",
    "import os\n",
    "from collections import OrderedDict\n",
    "import json\n",
    "import time\n",
    "import pandas as pd\n",
    "\n",
    "# Config_client\n",
    "def fit_config(server_round: int):\n",
    "    \"\"\"Return training configuration dict for each round.\"\"\"\n",
    "    config = {\n",
    "        \"current_round\": server_round,\n",
    "        \"local_epochs\": 2,\n",
    "        \"tot_rounds\": 20,\n",
    "    }\n",
    "    return config\n",
    "\n",
    "# Custom weighted average function\n",
    "def weighted_average(metrics: List[Tuple[int, Metrics]]) -> Metrics:\n",
    "    # Multiply accuracy of each client by number of examples used\n",
    "    accuracies = [num_examples * m[\"accuracy\"] for num_examples, m in metrics]\n",
    "    validities = [num_examples * m[\"validity\"] for num_examples, m in metrics]\n",
    "    examples = [num_examples for num_examples, _ in metrics]\n",
    "    # Aggregate and return custom metric (weighted average)\n",
    "    return {\"accuracy\": sum(accuracies) / sum(examples), \"validity\": sum(validities) / sum(examples)}\n",
    "\n",
    "# Custom strategy to save model after each round\n",
    "class SaveModelStrategy(fl.server.strategy.FedAvg):\n",
    "    def __init__(self, model, data_type, checkpoint_folder, dataset, fold, model_config, *args, **kwargs):\n",
    "        super().__init__(*args, **kwargs)\n",
    "        self.model = model\n",
    "        self.data_type = data_type\n",
    "        self.checkpoint_folder = checkpoint_folder\n",
    "        self.dataset = dataset\n",
    "        self.model_config = model_config\n",
    "        self.fold = fold\n",
    "\n",
    "        # read data for testing\n",
    "        self.X_test, self.y_test = utils.load_data_test(data_type=self.data_type, dataset=self.dataset)\n",
    "\n",
    "        if self.dataset == 'diabetes':\n",
    "            # randomly pick N samples <= 10605\n",
    "            idx = np.random.choice(len(self.X_test), 300, replace=False)\n",
    "            self.X_test = self.X_test[idx]\n",
    "            self.y_test = self.y_test[idx]\n",
    "        elif self.dataset == 'breast':\n",
    "            # randomly pick N samples <= 89\n",
    "            idx = np.random.choice(len(self.X_test), 88, replace=False)\n",
    "            self.X_test = self.X_test[idx]\n",
    "            self.y_test = self.y_test[idx] \n",
    "        elif self.dataset == 'synthetic':\n",
    "            # randomly pick N samples <= 938\n",
    "            idx = np.random.choice(len(self.X_test), 300, replace=False)\n",
    "            self.X_test = self.X_test[idx]\n",
    "            self.y_test = self.y_test[idx]\n",
    "        elif self.dataset == 'mnist':\n",
    "            # randomly pick N samples <= 938\n",
    "            idx = np.random.choice(len(self.X_test), 300, replace=False)\n",
    "            self.X_test = self.X_test[idx]\n",
    "            self.y_test = self.y_test[idx] \n",
    "        elif self.dataset == 'cifar10':\n",
    "            # randomly pick N samples <= 938\n",
    "            idx = np.random.choice(len(self.X_test), 280, replace=False)\n",
    "            self.X_test = self.X_test[idx]\n",
    "            self.y_test = self.y_test[idx]      \n",
    "        \n",
    "        print(f\"Used Size Server-Test Set: {self.X_test.shape}\")\n",
    "\n",
    "        # create folder if not exists\n",
    "        if not os.path.exists(self.checkpoint_folder + f\"{self.data_type}\"):\n",
    "            os.makedirs(self.checkpoint_folder + f\"{self.data_type}\")\n",
    "\n",
    "    # Override aggregate_fit method to add saving functionality\n",
    "    def aggregate_fit(\n",
    "        self,\n",
    "        server_round: int,\n",
    "        results: List[Tuple[fl.server.client_proxy.ClientProxy, fl.common.FitRes]],\n",
    "        failures: List[Union[Tuple[ClientProxy, FitRes], BaseException]],\n",
    "    ) -> Tuple[Optional[Parameters], Dict[str, Scalar]]:\n",
    "        \"\"\"Aggregate model weights using weighted average and store checkpoint\"\"\"\n",
    "\n",
    "        # Perform evaluation on the server side on each single client after local training for each clients evaluate the model\n",
    "        client_data = {}\n",
    "        for client, fit_res in results:\n",
    "            # Load model\n",
    "            params = fl.common.parameters_to_ndarrays(fit_res.parameters)\n",
    "            params_dict = zip(self.model.state_dict().keys(), params)\n",
    "            state_dict = OrderedDict({k: torch.tensor(v) for k, v in params_dict})\n",
    "            cid = int(np.round(state_dict['cid'].item()))\n",
    "            self.model.load_state_dict(state_dict, strict=True)\n",
    "            # Evaluate the model\n",
    "            try:\n",
    "                client_metrics = utils.server_side_evaluation(self.X_test, self.y_test, model=self.model, config=self.model_config)\n",
    "                client_data[cid] = client_metrics\n",
    "            except Exception as e:\n",
    "                print(f\"An error occurred during server-side evaluation of client {cid}: {e}, returning zero metrics\") \n",
    "\n",
    "        # Original code -----\n",
    "        # # Planes construction\n",
    "        # utils.creation_planes_FBPs(client_data, server_round, self.data_type, self.dataset, self.model_config, self.fold)\n",
    "        \n",
    "        # # Call aggregate_fit from base class (FedAvg) to aggregate parameters and metrics\n",
    "        # aggregated_parameters, aggregated_metrics = super().aggregate_fit(server_round, results, failures) # aggregated_metrics from aggregate_fit is empty except if i pass fit_metrics_aggregation_fn\n",
    "        # -------------------\n",
    "        \n",
    "        # New one -----\n",
    "        # Call aggregate_fit from base class (FedAvg) to aggregate parameters and metrics\n",
    "        aggregated_parameters, aggregated_metrics = super().aggregate_fit(server_round, results, failures) # aggregated_metrics from aggregate_fit is empty except if i pass fit_metrics_aggregation_fn\n",
    "\n",
    "        # evaluate aggregated model\n",
    "        params = fl.common.parameters_to_ndarrays(aggregated_parameters)\n",
    "        params_dict = zip(self.model.state_dict().keys(), params)\n",
    "        state_dict = OrderedDict({k: torch.tensor(v) for k, v in params_dict})\n",
    "        cid = int(1001)\n",
    "        self.model.load_state_dict(state_dict, strict=True)\n",
    "        client_metrics = utils.server_side_evaluation(self.X_test, self.y_test, model=self.model, config=self.model_config)\n",
    "        client_data[cid] = client_metrics\n",
    "\n",
    "        # Planes construction\n",
    "        utils.creation_planes_FBPs(client_data, server_round, self.data_type, self.dataset, self.model_config, self.fold)\n",
    "        # -------------------\n",
    "        \n",
    "        \n",
    "        # Save model\n",
    "        if aggregated_parameters is not None:\n",
    "\n",
    "            print(f\"Saving round {server_round} aggregated_parameters...\")\n",
    "            # Convert `Parameters` to `List[np.ndarray]`\n",
    "            aggregated_ndarrays: List[np.ndarray] = fl.common.parameters_to_ndarrays(aggregated_parameters)\n",
    "            # Convert `List[np.ndarray]` to PyTorch`state_dict`\n",
    "            params_dict = zip(self.model.state_dict().keys(), aggregated_ndarrays)\n",
    "            state_dict = OrderedDict({k: torch.tensor(v) for k, v in params_dict})\n",
    "            self.model.load_state_dict(state_dict, strict=True)\n",
    "            # Save the model\n",
    "            torch.save(self.model.state_dict(), self.checkpoint_folder + f\"{self.data_type}/model_round_{server_round}.pth\")\n",
    "        \n",
    "        return aggregated_parameters, aggregated_metrics"
   ]
  },
  {
   "cell_type": "code",
   "execution_count": 9,
   "metadata": {},
   "outputs": [
    {
     "name": "stderr",
     "output_type": "stream",
     "text": [
      "INFO flwr 2024-08-29 17:22:48,990 | app.py:163 | Starting Flower server, config: ServerConfig(num_rounds=50, round_timeout=None)\n",
      "INFO flwr 2024-08-29 17:22:48,998 | app.py:176 | Flower ECE: gRPC server running (50 rounds), SSL is disabled\n",
      "INFO flwr 2024-08-29 17:22:49,000 | server.py:89 | Initializing global parameters\n",
      "INFO flwr 2024-08-29 17:22:49,000 | server.py:276 | Requesting initial parameters from one random client\n"
     ]
    },
    {
     "name": "stdout",
     "output_type": "stream",
     "text": [
      "Used Size Server-Test Set: torch.Size([300, 2])\n",
      "Num. min fit clients: 2\n"
     ]
    },
    {
     "name": "stderr",
     "output_type": "stream",
     "text": [
      "INFO flwr 2024-08-29 17:23:12,739 | server.py:280 | Received initial parameters from one random client\n",
      "INFO flwr 2024-08-29 17:23:12,740 | server.py:91 | Evaluating initial parameters\n",
      "INFO flwr 2024-08-29 17:23:12,741 | server.py:104 | FL starting\n",
      "DEBUG flwr 2024-08-29 17:25:59,974 | server.py:222 | fit_round 1: strategy sampled 2 clients (out of 2)\n",
      "DEBUG flwr 2024-08-29 17:26:04,046 | server.py:236 | fit_round 1 received 2 results and 0 failures\n",
      "WARNING flwr 2024-08-29 17:26:04,535 | fedavg.py:242 | No fit_metrics_aggregation_fn provided\n",
      "DEBUG flwr 2024-08-29 17:26:04,573 | server.py:173 | evaluate_round 1: strategy sampled 2 clients (out of 2)\n"
     ]
    },
    {
     "name": "stdout",
     "output_type": "stream",
     "text": [
      "Saving round 1 aggregated_parameters...\n"
     ]
    },
    {
     "name": "stderr",
     "output_type": "stream",
     "text": [
      "DEBUG flwr 2024-08-29 17:26:04,766 | server.py:187 | evaluate_round 1 received 2 results and 0 failures\n",
      "DEBUG flwr 2024-08-29 17:26:04,766 | server.py:222 | fit_round 2: strategy sampled 2 clients (out of 2)\n",
      "DEBUG flwr 2024-08-29 17:26:05,575 | server.py:236 | fit_round 2 received 2 results and 0 failures\n",
      "DEBUG flwr 2024-08-29 17:26:05,769 | server.py:173 | evaluate_round 2: strategy sampled 2 clients (out of 2)\n",
      "DEBUG flwr 2024-08-29 17:26:05,906 | server.py:187 | evaluate_round 2 received 2 results and 0 failures\n",
      "DEBUG flwr 2024-08-29 17:26:05,906 | server.py:222 | fit_round 3: strategy sampled 2 clients (out of 2)\n"
     ]
    },
    {
     "name": "stdout",
     "output_type": "stream",
     "text": [
      "Saving round 2 aggregated_parameters...\n"
     ]
    },
    {
     "name": "stderr",
     "output_type": "stream",
     "text": [
      "DEBUG flwr 2024-08-29 17:26:06,231 | server.py:236 | fit_round 3 received 2 results and 0 failures\n",
      "DEBUG flwr 2024-08-29 17:26:06,421 | server.py:173 | evaluate_round 3: strategy sampled 2 clients (out of 2)\n",
      "DEBUG flwr 2024-08-29 17:26:06,560 | server.py:187 | evaluate_round 3 received 2 results and 0 failures\n",
      "DEBUG flwr 2024-08-29 17:26:06,561 | server.py:222 | fit_round 4: strategy sampled 2 clients (out of 2)\n"
     ]
    },
    {
     "name": "stdout",
     "output_type": "stream",
     "text": [
      "Saving round 3 aggregated_parameters...\n"
     ]
    },
    {
     "name": "stderr",
     "output_type": "stream",
     "text": [
      "DEBUG flwr 2024-08-29 17:26:06,884 | server.py:236 | fit_round 4 received 2 results and 0 failures\n",
      "DEBUG flwr 2024-08-29 17:26:07,082 | server.py:173 | evaluate_round 4: strategy sampled 2 clients (out of 2)\n",
      "DEBUG flwr 2024-08-29 17:26:07,226 | server.py:187 | evaluate_round 4 received 2 results and 0 failures\n",
      "DEBUG flwr 2024-08-29 17:26:07,227 | server.py:222 | fit_round 5: strategy sampled 2 clients (out of 2)\n"
     ]
    },
    {
     "name": "stdout",
     "output_type": "stream",
     "text": [
      "Saving round 4 aggregated_parameters...\n"
     ]
    },
    {
     "name": "stderr",
     "output_type": "stream",
     "text": [
      "DEBUG flwr 2024-08-29 17:26:07,527 | server.py:236 | fit_round 5 received 2 results and 0 failures\n",
      "DEBUG flwr 2024-08-29 17:26:07,714 | server.py:173 | evaluate_round 5: strategy sampled 2 clients (out of 2)\n",
      "DEBUG flwr 2024-08-29 17:26:07,851 | server.py:187 | evaluate_round 5 received 2 results and 0 failures\n",
      "DEBUG flwr 2024-08-29 17:26:07,852 | server.py:222 | fit_round 6: strategy sampled 2 clients (out of 2)\n"
     ]
    },
    {
     "name": "stdout",
     "output_type": "stream",
     "text": [
      "Saving round 5 aggregated_parameters...\n"
     ]
    },
    {
     "name": "stderr",
     "output_type": "stream",
     "text": [
      "DEBUG flwr 2024-08-29 17:26:08,124 | server.py:236 | fit_round 6 received 2 results and 0 failures\n",
      "DEBUG flwr 2024-08-29 17:26:08,310 | server.py:173 | evaluate_round 6: strategy sampled 2 clients (out of 2)\n",
      "DEBUG flwr 2024-08-29 17:26:08,450 | server.py:187 | evaluate_round 6 received 2 results and 0 failures\n",
      "DEBUG flwr 2024-08-29 17:26:08,451 | server.py:222 | fit_round 7: strategy sampled 2 clients (out of 2)\n"
     ]
    },
    {
     "name": "stdout",
     "output_type": "stream",
     "text": [
      "Saving round 6 aggregated_parameters...\n"
     ]
    },
    {
     "name": "stderr",
     "output_type": "stream",
     "text": [
      "DEBUG flwr 2024-08-29 17:26:08,724 | server.py:236 | fit_round 7 received 2 results and 0 failures\n",
      "DEBUG flwr 2024-08-29 17:26:08,907 | server.py:173 | evaluate_round 7: strategy sampled 2 clients (out of 2)\n",
      "DEBUG flwr 2024-08-29 17:26:09,060 | server.py:187 | evaluate_round 7 received 2 results and 0 failures\n",
      "DEBUG flwr 2024-08-29 17:26:09,061 | server.py:222 | fit_round 8: strategy sampled 2 clients (out of 2)\n"
     ]
    },
    {
     "name": "stdout",
     "output_type": "stream",
     "text": [
      "Saving round 7 aggregated_parameters...\n"
     ]
    },
    {
     "name": "stderr",
     "output_type": "stream",
     "text": [
      "DEBUG flwr 2024-08-29 17:26:09,328 | server.py:236 | fit_round 8 received 2 results and 0 failures\n",
      "DEBUG flwr 2024-08-29 17:26:09,509 | server.py:173 | evaluate_round 8: strategy sampled 2 clients (out of 2)\n",
      "DEBUG flwr 2024-08-29 17:26:09,655 | server.py:187 | evaluate_round 8 received 2 results and 0 failures\n",
      "DEBUG flwr 2024-08-29 17:26:09,656 | server.py:222 | fit_round 9: strategy sampled 2 clients (out of 2)\n"
     ]
    },
    {
     "name": "stdout",
     "output_type": "stream",
     "text": [
      "Saving round 8 aggregated_parameters...\n"
     ]
    },
    {
     "name": "stderr",
     "output_type": "stream",
     "text": [
      "DEBUG flwr 2024-08-29 17:26:09,942 | server.py:236 | fit_round 9 received 2 results and 0 failures\n",
      "DEBUG flwr 2024-08-29 17:26:10,131 | server.py:173 | evaluate_round 9: strategy sampled 2 clients (out of 2)\n",
      "DEBUG flwr 2024-08-29 17:26:10,285 | server.py:187 | evaluate_round 9 received 2 results and 0 failures\n",
      "DEBUG flwr 2024-08-29 17:26:10,285 | server.py:222 | fit_round 10: strategy sampled 2 clients (out of 2)\n"
     ]
    },
    {
     "name": "stdout",
     "output_type": "stream",
     "text": [
      "Saving round 9 aggregated_parameters...\n"
     ]
    },
    {
     "name": "stderr",
     "output_type": "stream",
     "text": [
      "DEBUG flwr 2024-08-29 17:26:10,561 | server.py:236 | fit_round 10 received 2 results and 0 failures\n",
      "DEBUG flwr 2024-08-29 17:26:10,750 | server.py:173 | evaluate_round 10: strategy sampled 2 clients (out of 2)\n",
      "DEBUG flwr 2024-08-29 17:26:10,900 | server.py:187 | evaluate_round 10 received 2 results and 0 failures\n",
      "DEBUG flwr 2024-08-29 17:26:10,900 | server.py:222 | fit_round 11: strategy sampled 2 clients (out of 2)\n"
     ]
    },
    {
     "name": "stdout",
     "output_type": "stream",
     "text": [
      "Saving round 10 aggregated_parameters...\n"
     ]
    },
    {
     "name": "stderr",
     "output_type": "stream",
     "text": [
      "DEBUG flwr 2024-08-29 17:26:11,164 | server.py:236 | fit_round 11 received 2 results and 0 failures\n",
      "DEBUG flwr 2024-08-29 17:26:11,351 | server.py:173 | evaluate_round 11: strategy sampled 2 clients (out of 2)\n",
      "DEBUG flwr 2024-08-29 17:26:11,476 | server.py:187 | evaluate_round 11 received 2 results and 0 failures\n",
      "DEBUG flwr 2024-08-29 17:26:11,476 | server.py:222 | fit_round 12: strategy sampled 2 clients (out of 2)\n"
     ]
    },
    {
     "name": "stdout",
     "output_type": "stream",
     "text": [
      "Saving round 11 aggregated_parameters...\n"
     ]
    },
    {
     "name": "stderr",
     "output_type": "stream",
     "text": [
      "DEBUG flwr 2024-08-29 17:26:11,731 | server.py:236 | fit_round 12 received 2 results and 0 failures\n",
      "DEBUG flwr 2024-08-29 17:26:11,930 | server.py:173 | evaluate_round 12: strategy sampled 2 clients (out of 2)\n",
      "DEBUG flwr 2024-08-29 17:26:12,078 | server.py:187 | evaluate_round 12 received 2 results and 0 failures\n",
      "DEBUG flwr 2024-08-29 17:26:12,079 | server.py:222 | fit_round 13: strategy sampled 2 clients (out of 2)\n"
     ]
    },
    {
     "name": "stdout",
     "output_type": "stream",
     "text": [
      "Saving round 12 aggregated_parameters...\n"
     ]
    },
    {
     "name": "stderr",
     "output_type": "stream",
     "text": [
      "DEBUG flwr 2024-08-29 17:26:12,354 | server.py:236 | fit_round 13 received 2 results and 0 failures\n",
      "DEBUG flwr 2024-08-29 17:26:12,547 | server.py:173 | evaluate_round 13: strategy sampled 2 clients (out of 2)\n"
     ]
    },
    {
     "name": "stdout",
     "output_type": "stream",
     "text": [
      "Saving round 13 aggregated_parameters...\n"
     ]
    },
    {
     "name": "stderr",
     "output_type": "stream",
     "text": [
      "DEBUG flwr 2024-08-29 17:26:12,718 | server.py:187 | evaluate_round 13 received 2 results and 0 failures\n",
      "DEBUG flwr 2024-08-29 17:26:12,719 | server.py:222 | fit_round 14: strategy sampled 2 clients (out of 2)\n",
      "DEBUG flwr 2024-08-29 17:26:13,001 | server.py:236 | fit_round 14 received 2 results and 0 failures\n",
      "DEBUG flwr 2024-08-29 17:26:13,188 | server.py:173 | evaluate_round 14: strategy sampled 2 clients (out of 2)\n",
      "DEBUG flwr 2024-08-29 17:26:13,341 | server.py:187 | evaluate_round 14 received 2 results and 0 failures\n",
      "DEBUG flwr 2024-08-29 17:26:13,341 | server.py:222 | fit_round 15: strategy sampled 2 clients (out of 2)\n"
     ]
    },
    {
     "name": "stdout",
     "output_type": "stream",
     "text": [
      "Saving round 14 aggregated_parameters...\n"
     ]
    },
    {
     "name": "stderr",
     "output_type": "stream",
     "text": [
      "DEBUG flwr 2024-08-29 17:26:13,600 | server.py:236 | fit_round 15 received 2 results and 0 failures\n",
      "DEBUG flwr 2024-08-29 17:26:13,786 | server.py:173 | evaluate_round 15: strategy sampled 2 clients (out of 2)\n",
      "DEBUG flwr 2024-08-29 17:26:13,922 | server.py:187 | evaluate_round 15 received 2 results and 0 failures\n",
      "DEBUG flwr 2024-08-29 17:26:13,922 | server.py:222 | fit_round 16: strategy sampled 2 clients (out of 2)\n"
     ]
    },
    {
     "name": "stdout",
     "output_type": "stream",
     "text": [
      "Saving round 15 aggregated_parameters...\n"
     ]
    },
    {
     "name": "stderr",
     "output_type": "stream",
     "text": [
      "DEBUG flwr 2024-08-29 17:26:14,196 | server.py:236 | fit_round 16 received 2 results and 0 failures\n",
      "DEBUG flwr 2024-08-29 17:26:14,389 | server.py:173 | evaluate_round 16: strategy sampled 2 clients (out of 2)\n",
      "DEBUG flwr 2024-08-29 17:26:14,530 | server.py:187 | evaluate_round 16 received 2 results and 0 failures\n",
      "DEBUG flwr 2024-08-29 17:26:14,530 | server.py:222 | fit_round 17: strategy sampled 2 clients (out of 2)\n"
     ]
    },
    {
     "name": "stdout",
     "output_type": "stream",
     "text": [
      "Saving round 16 aggregated_parameters...\n"
     ]
    },
    {
     "name": "stderr",
     "output_type": "stream",
     "text": [
      "DEBUG flwr 2024-08-29 17:26:14,802 | server.py:236 | fit_round 17 received 2 results and 0 failures\n",
      "DEBUG flwr 2024-08-29 17:26:15,008 | server.py:173 | evaluate_round 17: strategy sampled 2 clients (out of 2)\n"
     ]
    },
    {
     "name": "stdout",
     "output_type": "stream",
     "text": [
      "Saving round 17 aggregated_parameters...\n"
     ]
    },
    {
     "name": "stderr",
     "output_type": "stream",
     "text": [
      "DEBUG flwr 2024-08-29 17:26:15,182 | server.py:187 | evaluate_round 17 received 2 results and 0 failures\n",
      "DEBUG flwr 2024-08-29 17:26:15,182 | server.py:222 | fit_round 18: strategy sampled 2 clients (out of 2)\n",
      "DEBUG flwr 2024-08-29 17:26:15,449 | server.py:236 | fit_round 18 received 2 results and 0 failures\n",
      "DEBUG flwr 2024-08-29 17:26:15,623 | server.py:173 | evaluate_round 18: strategy sampled 2 clients (out of 2)\n",
      "DEBUG flwr 2024-08-29 17:26:15,747 | server.py:187 | evaluate_round 18 received 2 results and 0 failures\n",
      "DEBUG flwr 2024-08-29 17:26:15,748 | server.py:222 | fit_round 19: strategy sampled 2 clients (out of 2)\n"
     ]
    },
    {
     "name": "stdout",
     "output_type": "stream",
     "text": [
      "Saving round 18 aggregated_parameters...\n"
     ]
    },
    {
     "name": "stderr",
     "output_type": "stream",
     "text": [
      "DEBUG flwr 2024-08-29 17:26:16,024 | server.py:236 | fit_round 19 received 2 results and 0 failures\n",
      "DEBUG flwr 2024-08-29 17:26:16,201 | server.py:173 | evaluate_round 19: strategy sampled 2 clients (out of 2)\n",
      "DEBUG flwr 2024-08-29 17:26:16,350 | server.py:187 | evaluate_round 19 received 2 results and 0 failures\n",
      "DEBUG flwr 2024-08-29 17:26:16,351 | server.py:222 | fit_round 20: strategy sampled 2 clients (out of 2)\n"
     ]
    },
    {
     "name": "stdout",
     "output_type": "stream",
     "text": [
      "Saving round 19 aggregated_parameters...\n"
     ]
    },
    {
     "name": "stderr",
     "output_type": "stream",
     "text": [
      "DEBUG flwr 2024-08-29 17:26:16,588 | server.py:236 | fit_round 20 received 2 results and 0 failures\n",
      "DEBUG flwr 2024-08-29 17:26:16,778 | server.py:173 | evaluate_round 20: strategy sampled 2 clients (out of 2)\n",
      "DEBUG flwr 2024-08-29 17:26:16,912 | server.py:187 | evaluate_round 20 received 2 results and 0 failures\n",
      "DEBUG flwr 2024-08-29 17:26:16,913 | server.py:222 | fit_round 21: strategy sampled 2 clients (out of 2)\n"
     ]
    },
    {
     "name": "stdout",
     "output_type": "stream",
     "text": [
      "Saving round 20 aggregated_parameters...\n"
     ]
    },
    {
     "name": "stderr",
     "output_type": "stream",
     "text": [
      "DEBUG flwr 2024-08-29 17:26:17,191 | server.py:236 | fit_round 21 received 2 results and 0 failures\n",
      "DEBUG flwr 2024-08-29 17:26:17,374 | server.py:173 | evaluate_round 21: strategy sampled 2 clients (out of 2)\n",
      "DEBUG flwr 2024-08-29 17:26:17,539 | server.py:187 | evaluate_round 21 received 2 results and 0 failures\n",
      "DEBUG flwr 2024-08-29 17:26:17,540 | server.py:222 | fit_round 22: strategy sampled 2 clients (out of 2)\n"
     ]
    },
    {
     "name": "stdout",
     "output_type": "stream",
     "text": [
      "Saving round 21 aggregated_parameters...\n"
     ]
    },
    {
     "name": "stderr",
     "output_type": "stream",
     "text": [
      "DEBUG flwr 2024-08-29 17:26:17,813 | server.py:236 | fit_round 22 received 2 results and 0 failures\n",
      "DEBUG flwr 2024-08-29 17:26:18,001 | server.py:173 | evaluate_round 22: strategy sampled 2 clients (out of 2)\n",
      "DEBUG flwr 2024-08-29 17:26:18,154 | server.py:187 | evaluate_round 22 received 2 results and 0 failures\n",
      "DEBUG flwr 2024-08-29 17:26:18,154 | server.py:222 | fit_round 23: strategy sampled 2 clients (out of 2)\n"
     ]
    },
    {
     "name": "stdout",
     "output_type": "stream",
     "text": [
      "Saving round 22 aggregated_parameters...\n"
     ]
    },
    {
     "name": "stderr",
     "output_type": "stream",
     "text": [
      "DEBUG flwr 2024-08-29 17:26:18,425 | server.py:236 | fit_round 23 received 2 results and 0 failures\n",
      "DEBUG flwr 2024-08-29 17:26:18,613 | server.py:173 | evaluate_round 23: strategy sampled 2 clients (out of 2)\n",
      "DEBUG flwr 2024-08-29 17:26:18,770 | server.py:187 | evaluate_round 23 received 2 results and 0 failures\n",
      "DEBUG flwr 2024-08-29 17:26:18,771 | server.py:222 | fit_round 24: strategy sampled 2 clients (out of 2)\n"
     ]
    },
    {
     "name": "stdout",
     "output_type": "stream",
     "text": [
      "Saving round 23 aggregated_parameters...\n"
     ]
    },
    {
     "name": "stderr",
     "output_type": "stream",
     "text": [
      "DEBUG flwr 2024-08-29 17:26:19,072 | server.py:236 | fit_round 24 received 2 results and 0 failures\n",
      "DEBUG flwr 2024-08-29 17:26:19,274 | server.py:173 | evaluate_round 24: strategy sampled 2 clients (out of 2)\n",
      "DEBUG flwr 2024-08-29 17:26:19,431 | server.py:187 | evaluate_round 24 received 2 results and 0 failures\n",
      "DEBUG flwr 2024-08-29 17:26:19,431 | server.py:222 | fit_round 25: strategy sampled 2 clients (out of 2)\n"
     ]
    },
    {
     "name": "stdout",
     "output_type": "stream",
     "text": [
      "Saving round 24 aggregated_parameters...\n"
     ]
    },
    {
     "name": "stderr",
     "output_type": "stream",
     "text": [
      "DEBUG flwr 2024-08-29 17:26:19,699 | server.py:236 | fit_round 25 received 2 results and 0 failures\n",
      "DEBUG flwr 2024-08-29 17:26:19,886 | server.py:173 | evaluate_round 25: strategy sampled 2 clients (out of 2)\n",
      "DEBUG flwr 2024-08-29 17:26:20,046 | server.py:187 | evaluate_round 25 received 2 results and 0 failures\n",
      "DEBUG flwr 2024-08-29 17:26:20,047 | server.py:222 | fit_round 26: strategy sampled 2 clients (out of 2)\n"
     ]
    },
    {
     "name": "stdout",
     "output_type": "stream",
     "text": [
      "Saving round 25 aggregated_parameters...\n"
     ]
    },
    {
     "name": "stderr",
     "output_type": "stream",
     "text": [
      "DEBUG flwr 2024-08-29 17:26:20,298 | server.py:236 | fit_round 26 received 2 results and 0 failures\n",
      "DEBUG flwr 2024-08-29 17:26:20,481 | server.py:173 | evaluate_round 26: strategy sampled 2 clients (out of 2)\n"
     ]
    },
    {
     "name": "stdout",
     "output_type": "stream",
     "text": [
      "Saving round 26 aggregated_parameters...\n"
     ]
    },
    {
     "name": "stderr",
     "output_type": "stream",
     "text": [
      "DEBUG flwr 2024-08-29 17:26:20,709 | server.py:187 | evaluate_round 26 received 2 results and 0 failures\n",
      "DEBUG flwr 2024-08-29 17:26:20,709 | server.py:222 | fit_round 27: strategy sampled 2 clients (out of 2)\n",
      "DEBUG flwr 2024-08-29 17:26:20,989 | server.py:236 | fit_round 27 received 2 results and 0 failures\n",
      "DEBUG flwr 2024-08-29 17:26:21,184 | server.py:173 | evaluate_round 27: strategy sampled 2 clients (out of 2)\n",
      "DEBUG flwr 2024-08-29 17:26:21,322 | server.py:187 | evaluate_round 27 received 2 results and 0 failures\n",
      "DEBUG flwr 2024-08-29 17:26:21,322 | server.py:222 | fit_round 28: strategy sampled 2 clients (out of 2)\n"
     ]
    },
    {
     "name": "stdout",
     "output_type": "stream",
     "text": [
      "Saving round 27 aggregated_parameters...\n"
     ]
    },
    {
     "name": "stderr",
     "output_type": "stream",
     "text": [
      "DEBUG flwr 2024-08-29 17:26:21,590 | server.py:236 | fit_round 28 received 2 results and 0 failures\n",
      "DEBUG flwr 2024-08-29 17:26:21,770 | server.py:173 | evaluate_round 28: strategy sampled 2 clients (out of 2)\n",
      "DEBUG flwr 2024-08-29 17:26:21,926 | server.py:187 | evaluate_round 28 received 2 results and 0 failures\n",
      "DEBUG flwr 2024-08-29 17:26:21,927 | server.py:222 | fit_round 29: strategy sampled 2 clients (out of 2)\n"
     ]
    },
    {
     "name": "stdout",
     "output_type": "stream",
     "text": [
      "Saving round 28 aggregated_parameters...\n"
     ]
    },
    {
     "name": "stderr",
     "output_type": "stream",
     "text": [
      "DEBUG flwr 2024-08-29 17:26:22,235 | server.py:236 | fit_round 29 received 2 results and 0 failures\n",
      "DEBUG flwr 2024-08-29 17:26:22,431 | server.py:173 | evaluate_round 29: strategy sampled 2 clients (out of 2)\n"
     ]
    },
    {
     "name": "stdout",
     "output_type": "stream",
     "text": [
      "Saving round 29 aggregated_parameters...\n"
     ]
    },
    {
     "name": "stderr",
     "output_type": "stream",
     "text": [
      "DEBUG flwr 2024-08-29 17:26:22,629 | server.py:187 | evaluate_round 29 received 2 results and 0 failures\n",
      "DEBUG flwr 2024-08-29 17:26:22,630 | server.py:222 | fit_round 30: strategy sampled 2 clients (out of 2)\n",
      "DEBUG flwr 2024-08-29 17:26:22,974 | server.py:236 | fit_round 30 received 2 results and 0 failures\n",
      "DEBUG flwr 2024-08-29 17:26:23,164 | server.py:173 | evaluate_round 30: strategy sampled 2 clients (out of 2)\n",
      "DEBUG flwr 2024-08-29 17:26:23,315 | server.py:187 | evaluate_round 30 received 2 results and 0 failures\n",
      "DEBUG flwr 2024-08-29 17:26:23,316 | server.py:222 | fit_round 31: strategy sampled 2 clients (out of 2)\n"
     ]
    },
    {
     "name": "stdout",
     "output_type": "stream",
     "text": [
      "Saving round 30 aggregated_parameters...\n"
     ]
    },
    {
     "name": "stderr",
     "output_type": "stream",
     "text": [
      "DEBUG flwr 2024-08-29 17:26:23,655 | server.py:236 | fit_round 31 received 2 results and 0 failures\n",
      "DEBUG flwr 2024-08-29 17:26:23,849 | server.py:173 | evaluate_round 31: strategy sampled 2 clients (out of 2)\n"
     ]
    },
    {
     "name": "stdout",
     "output_type": "stream",
     "text": [
      "Saving round 31 aggregated_parameters...\n"
     ]
    },
    {
     "name": "stderr",
     "output_type": "stream",
     "text": [
      "DEBUG flwr 2024-08-29 17:26:24,034 | server.py:187 | evaluate_round 31 received 2 results and 0 failures\n",
      "DEBUG flwr 2024-08-29 17:26:24,034 | server.py:222 | fit_round 32: strategy sampled 2 clients (out of 2)\n",
      "DEBUG flwr 2024-08-29 17:26:24,330 | server.py:236 | fit_round 32 received 2 results and 0 failures\n",
      "DEBUG flwr 2024-08-29 17:26:24,528 | server.py:173 | evaluate_round 32: strategy sampled 2 clients (out of 2)\n"
     ]
    },
    {
     "name": "stdout",
     "output_type": "stream",
     "text": [
      "Saving round 32 aggregated_parameters...\n"
     ]
    },
    {
     "name": "stderr",
     "output_type": "stream",
     "text": [
      "DEBUG flwr 2024-08-29 17:26:24,705 | server.py:187 | evaluate_round 32 received 2 results and 0 failures\n",
      "DEBUG flwr 2024-08-29 17:26:24,706 | server.py:222 | fit_round 33: strategy sampled 2 clients (out of 2)\n",
      "DEBUG flwr 2024-08-29 17:26:25,024 | server.py:236 | fit_round 33 received 2 results and 0 failures\n",
      "DEBUG flwr 2024-08-29 17:26:25,228 | server.py:173 | evaluate_round 33: strategy sampled 2 clients (out of 2)\n"
     ]
    },
    {
     "name": "stdout",
     "output_type": "stream",
     "text": [
      "Saving round 33 aggregated_parameters...\n"
     ]
    },
    {
     "name": "stderr",
     "output_type": "stream",
     "text": [
      "DEBUG flwr 2024-08-29 17:26:25,466 | server.py:187 | evaluate_round 33 received 2 results and 0 failures\n",
      "DEBUG flwr 2024-08-29 17:26:25,466 | server.py:222 | fit_round 34: strategy sampled 2 clients (out of 2)\n",
      "DEBUG flwr 2024-08-29 17:26:25,747 | server.py:236 | fit_round 34 received 2 results and 0 failures\n",
      "DEBUG flwr 2024-08-29 17:26:25,945 | server.py:173 | evaluate_round 34: strategy sampled 2 clients (out of 2)\n"
     ]
    },
    {
     "name": "stdout",
     "output_type": "stream",
     "text": [
      "Saving round 34 aggregated_parameters...\n"
     ]
    },
    {
     "name": "stderr",
     "output_type": "stream",
     "text": [
      "DEBUG flwr 2024-08-29 17:26:26,144 | server.py:187 | evaluate_round 34 received 2 results and 0 failures\n",
      "DEBUG flwr 2024-08-29 17:26:26,144 | server.py:222 | fit_round 35: strategy sampled 2 clients (out of 2)\n",
      "DEBUG flwr 2024-08-29 17:26:26,441 | server.py:236 | fit_round 35 received 2 results and 0 failures\n",
      "DEBUG flwr 2024-08-29 17:26:26,635 | server.py:173 | evaluate_round 35: strategy sampled 2 clients (out of 2)\n",
      "DEBUG flwr 2024-08-29 17:26:26,791 | server.py:187 | evaluate_round 35 received 2 results and 0 failures\n",
      "DEBUG flwr 2024-08-29 17:26:26,791 | server.py:222 | fit_round 36: strategy sampled 2 clients (out of 2)\n"
     ]
    },
    {
     "name": "stdout",
     "output_type": "stream",
     "text": [
      "Saving round 35 aggregated_parameters...\n"
     ]
    },
    {
     "name": "stderr",
     "output_type": "stream",
     "text": [
      "DEBUG flwr 2024-08-29 17:26:27,082 | server.py:236 | fit_round 36 received 2 results and 0 failures\n",
      "DEBUG flwr 2024-08-29 17:26:27,277 | server.py:173 | evaluate_round 36: strategy sampled 2 clients (out of 2)\n",
      "DEBUG flwr 2024-08-29 17:26:27,410 | server.py:187 | evaluate_round 36 received 2 results and 0 failures\n",
      "DEBUG flwr 2024-08-29 17:26:27,410 | server.py:222 | fit_round 37: strategy sampled 2 clients (out of 2)\n"
     ]
    },
    {
     "name": "stdout",
     "output_type": "stream",
     "text": [
      "Saving round 36 aggregated_parameters...\n"
     ]
    },
    {
     "name": "stderr",
     "output_type": "stream",
     "text": [
      "DEBUG flwr 2024-08-29 17:26:27,703 | server.py:236 | fit_round 37 received 2 results and 0 failures\n",
      "DEBUG flwr 2024-08-29 17:26:27,878 | server.py:173 | evaluate_round 37: strategy sampled 2 clients (out of 2)\n",
      "DEBUG flwr 2024-08-29 17:26:28,043 | server.py:187 | evaluate_round 37 received 2 results and 0 failures\n",
      "DEBUG flwr 2024-08-29 17:26:28,043 | server.py:222 | fit_round 38: strategy sampled 2 clients (out of 2)\n"
     ]
    },
    {
     "name": "stdout",
     "output_type": "stream",
     "text": [
      "Saving round 37 aggregated_parameters...\n"
     ]
    },
    {
     "name": "stderr",
     "output_type": "stream",
     "text": [
      "DEBUG flwr 2024-08-29 17:26:28,359 | server.py:236 | fit_round 38 received 2 results and 0 failures\n",
      "DEBUG flwr 2024-08-29 17:26:28,527 | server.py:173 | evaluate_round 38: strategy sampled 2 clients (out of 2)\n",
      "DEBUG flwr 2024-08-29 17:26:28,671 | server.py:187 | evaluate_round 38 received 2 results and 0 failures\n",
      "DEBUG flwr 2024-08-29 17:26:28,671 | server.py:222 | fit_round 39: strategy sampled 2 clients (out of 2)\n"
     ]
    },
    {
     "name": "stdout",
     "output_type": "stream",
     "text": [
      "Saving round 38 aggregated_parameters...\n"
     ]
    },
    {
     "name": "stderr",
     "output_type": "stream",
     "text": [
      "DEBUG flwr 2024-08-29 17:26:28,952 | server.py:236 | fit_round 39 received 2 results and 0 failures\n",
      "DEBUG flwr 2024-08-29 17:26:29,134 | server.py:173 | evaluate_round 39: strategy sampled 2 clients (out of 2)\n",
      "DEBUG flwr 2024-08-29 17:26:29,279 | server.py:187 | evaluate_round 39 received 2 results and 0 failures\n",
      "DEBUG flwr 2024-08-29 17:26:29,280 | server.py:222 | fit_round 40: strategy sampled 2 clients (out of 2)\n"
     ]
    },
    {
     "name": "stdout",
     "output_type": "stream",
     "text": [
      "Saving round 39 aggregated_parameters...\n"
     ]
    },
    {
     "name": "stderr",
     "output_type": "stream",
     "text": [
      "DEBUG flwr 2024-08-29 17:26:29,561 | server.py:236 | fit_round 40 received 2 results and 0 failures\n",
      "DEBUG flwr 2024-08-29 17:26:29,733 | server.py:173 | evaluate_round 40: strategy sampled 2 clients (out of 2)\n",
      "DEBUG flwr 2024-08-29 17:26:29,886 | server.py:187 | evaluate_round 40 received 2 results and 0 failures\n",
      "DEBUG flwr 2024-08-29 17:26:29,887 | server.py:222 | fit_round 41: strategy sampled 2 clients (out of 2)\n"
     ]
    },
    {
     "name": "stdout",
     "output_type": "stream",
     "text": [
      "Saving round 40 aggregated_parameters...\n"
     ]
    },
    {
     "name": "stderr",
     "output_type": "stream",
     "text": [
      "DEBUG flwr 2024-08-29 17:26:30,158 | server.py:236 | fit_round 41 received 2 results and 0 failures\n",
      "DEBUG flwr 2024-08-29 17:26:30,328 | server.py:173 | evaluate_round 41: strategy sampled 2 clients (out of 2)\n"
     ]
    },
    {
     "name": "stdout",
     "output_type": "stream",
     "text": [
      "Saving round 41 aggregated_parameters...\n"
     ]
    },
    {
     "name": "stderr",
     "output_type": "stream",
     "text": [
      "DEBUG flwr 2024-08-29 17:26:30,516 | server.py:187 | evaluate_round 41 received 2 results and 0 failures\n",
      "DEBUG flwr 2024-08-29 17:26:30,516 | server.py:222 | fit_round 42: strategy sampled 2 clients (out of 2)\n",
      "DEBUG flwr 2024-08-29 17:26:30,809 | server.py:236 | fit_round 42 received 2 results and 0 failures\n",
      "DEBUG flwr 2024-08-29 17:26:31,000 | server.py:173 | evaluate_round 42: strategy sampled 2 clients (out of 2)\n"
     ]
    },
    {
     "name": "stdout",
     "output_type": "stream",
     "text": [
      "Saving round 42 aggregated_parameters...\n"
     ]
    },
    {
     "name": "stderr",
     "output_type": "stream",
     "text": [
      "DEBUG flwr 2024-08-29 17:26:31,174 | server.py:187 | evaluate_round 42 received 2 results and 0 failures\n",
      "DEBUG flwr 2024-08-29 17:26:31,174 | server.py:222 | fit_round 43: strategy sampled 2 clients (out of 2)\n",
      "DEBUG flwr 2024-08-29 17:26:31,485 | server.py:236 | fit_round 43 received 2 results and 0 failures\n",
      "DEBUG flwr 2024-08-29 17:26:31,691 | server.py:173 | evaluate_round 43: strategy sampled 2 clients (out of 2)\n",
      "DEBUG flwr 2024-08-29 17:26:31,847 | server.py:187 | evaluate_round 43 received 2 results and 0 failures\n",
      "DEBUG flwr 2024-08-29 17:26:31,847 | server.py:222 | fit_round 44: strategy sampled 2 clients (out of 2)\n"
     ]
    },
    {
     "name": "stdout",
     "output_type": "stream",
     "text": [
      "Saving round 43 aggregated_parameters...\n"
     ]
    },
    {
     "name": "stderr",
     "output_type": "stream",
     "text": [
      "DEBUG flwr 2024-08-29 17:26:32,150 | server.py:236 | fit_round 44 received 2 results and 0 failures\n",
      "DEBUG flwr 2024-08-29 17:26:32,315 | server.py:173 | evaluate_round 44: strategy sampled 2 clients (out of 2)\n",
      "DEBUG flwr 2024-08-29 17:26:32,466 | server.py:187 | evaluate_round 44 received 2 results and 0 failures\n",
      "DEBUG flwr 2024-08-29 17:26:32,467 | server.py:222 | fit_round 45: strategy sampled 2 clients (out of 2)\n"
     ]
    },
    {
     "name": "stdout",
     "output_type": "stream",
     "text": [
      "Saving round 44 aggregated_parameters...\n"
     ]
    },
    {
     "name": "stderr",
     "output_type": "stream",
     "text": [
      "DEBUG flwr 2024-08-29 17:26:32,762 | server.py:236 | fit_round 45 received 2 results and 0 failures\n",
      "DEBUG flwr 2024-08-29 17:26:32,928 | server.py:173 | evaluate_round 45: strategy sampled 2 clients (out of 2)\n",
      "DEBUG flwr 2024-08-29 17:26:33,082 | server.py:187 | evaluate_round 45 received 2 results and 0 failures\n",
      "DEBUG flwr 2024-08-29 17:26:33,082 | server.py:222 | fit_round 46: strategy sampled 2 clients (out of 2)\n"
     ]
    },
    {
     "name": "stdout",
     "output_type": "stream",
     "text": [
      "Saving round 45 aggregated_parameters...\n"
     ]
    },
    {
     "name": "stderr",
     "output_type": "stream",
     "text": [
      "DEBUG flwr 2024-08-29 17:26:33,348 | server.py:236 | fit_round 46 received 2 results and 0 failures\n",
      "DEBUG flwr 2024-08-29 17:26:33,525 | server.py:173 | evaluate_round 46: strategy sampled 2 clients (out of 2)\n",
      "DEBUG flwr 2024-08-29 17:26:33,660 | server.py:187 | evaluate_round 46 received 2 results and 0 failures\n",
      "DEBUG flwr 2024-08-29 17:26:33,661 | server.py:222 | fit_round 47: strategy sampled 2 clients (out of 2)\n"
     ]
    },
    {
     "name": "stdout",
     "output_type": "stream",
     "text": [
      "Saving round 46 aggregated_parameters...\n"
     ]
    },
    {
     "name": "stderr",
     "output_type": "stream",
     "text": [
      "DEBUG flwr 2024-08-29 17:26:33,951 | server.py:236 | fit_round 47 received 2 results and 0 failures\n",
      "DEBUG flwr 2024-08-29 17:26:34,131 | server.py:173 | evaluate_round 47: strategy sampled 2 clients (out of 2)\n",
      "DEBUG flwr 2024-08-29 17:26:34,284 | server.py:187 | evaluate_round 47 received 2 results and 0 failures\n",
      "DEBUG flwr 2024-08-29 17:26:34,284 | server.py:222 | fit_round 48: strategy sampled 2 clients (out of 2)\n"
     ]
    },
    {
     "name": "stdout",
     "output_type": "stream",
     "text": [
      "Saving round 47 aggregated_parameters...\n"
     ]
    },
    {
     "name": "stderr",
     "output_type": "stream",
     "text": [
      "DEBUG flwr 2024-08-29 17:26:34,578 | server.py:236 | fit_round 48 received 2 results and 0 failures\n",
      "DEBUG flwr 2024-08-29 17:26:34,755 | server.py:173 | evaluate_round 48: strategy sampled 2 clients (out of 2)\n",
      "DEBUG flwr 2024-08-29 17:26:34,885 | server.py:187 | evaluate_round 48 received 2 results and 0 failures\n",
      "DEBUG flwr 2024-08-29 17:26:34,885 | server.py:222 | fit_round 49: strategy sampled 2 clients (out of 2)\n"
     ]
    },
    {
     "name": "stdout",
     "output_type": "stream",
     "text": [
      "Saving round 48 aggregated_parameters...\n"
     ]
    },
    {
     "name": "stderr",
     "output_type": "stream",
     "text": [
      "DEBUG flwr 2024-08-29 17:26:35,157 | server.py:236 | fit_round 49 received 2 results and 0 failures\n",
      "DEBUG flwr 2024-08-29 17:26:35,326 | server.py:173 | evaluate_round 49: strategy sampled 2 clients (out of 2)\n",
      "DEBUG flwr 2024-08-29 17:26:35,461 | server.py:187 | evaluate_round 49 received 2 results and 0 failures\n",
      "DEBUG flwr 2024-08-29 17:26:35,462 | server.py:222 | fit_round 50: strategy sampled 2 clients (out of 2)\n"
     ]
    },
    {
     "name": "stdout",
     "output_type": "stream",
     "text": [
      "Saving round 49 aggregated_parameters...\n"
     ]
    },
    {
     "name": "stderr",
     "output_type": "stream",
     "text": [
      "DEBUG flwr 2024-08-29 17:26:35,722 | server.py:236 | fit_round 50 received 2 results and 0 failures\n",
      "DEBUG flwr 2024-08-29 17:26:35,887 | server.py:173 | evaluate_round 50: strategy sampled 2 clients (out of 2)\n",
      "DEBUG flwr 2024-08-29 17:26:36,017 | server.py:187 | evaluate_round 50 received 2 results and 0 failures\n",
      "INFO flwr 2024-08-29 17:26:36,018 | server.py:153 | FL finished in 203.27614279196132\n",
      "INFO flwr 2024-08-29 17:26:36,018 | app.py:226 | app_fit: losses_distributed [(1, 0.6993722361497605), (2, 0.7002071161239672), (3, 0.682126384002332), (4, 0.6738031068548989), (5, 0.6757878918236437), (6, 0.6710705202989304), (7, 0.6568675625819368), (8, 0.6514543742417528), (9, 0.6471669614886324), (10, 0.6328346491240846), (11, 0.6237980485343324), (12, 0.6192342282864994), (13, 0.6093647912287483), (14, 0.5935568472447867), (15, 0.582490753632384), (16, 0.5637150039307226), (17, 0.5370581410944272), (18, 0.5207946073894684), (19, 0.49018045945670274), (20, 0.465409892721298), (21, 0.4296878116389814), (22, 0.4099358692527198), (23, 0.37464629584988846), (24, 0.35785780528102057), (25, 0.3512940540100439), (26, 0.4081147109357694), (27, 0.4072572740312582), (28, 0.40830493849306443), (29, 0.3088605513397497), (30, 0.30538932231668464), (31, 0.2307934183091782), (32, 0.23343287698757914), (33, 0.17400654793356934), (34, 0.14493851387462678), (35, 0.11445923163867987), (36, 0.10986435327667017), (37, 0.08868333592582435), (38, 0.0819104543080726), (39, 0.07388382716872059), (40, 0.06481617129744051), (41, 0.05576988796408946), (42, 0.05997511887321838), (43, 0.04689944634279504), (44, 0.0437855278364957), (45, 0.04716999946644131), (46, 0.04199902663310877), (47, 0.05274475281373761), (48, 0.03852709103078126), (49, 0.036368760140463946), (50, 0.03524754192834845)]\n",
      "INFO flwr 2024-08-29 17:26:36,019 | app.py:227 | app_fit: metrics_distributed_fit {}\n",
      "INFO flwr 2024-08-29 17:26:36,019 | app.py:228 | app_fit: metrics_distributed {'accuracy': [(1, 0.44089458468623055), (2, 0.44089458468623055), (3, 0.5111821105304998), (4, 0.9520767226386756), (5, 0.48562302642736954), (6, 0.718849886910984), (7, 0.5591054749184142), (8, 0.5591054749184142), (9, 0.8690096138003535), (10, 0.6964856464261064), (11, 0.632587883228692), (12, 1.0), (13, 1.0), (14, 0.9840255791005997), (15, 1.0), (16, 1.0), (17, 1.0), (18, 0.9936102443990616), (19, 1.0), (20, 0.9936102443990616), (21, 1.0), (22, 0.9872204642326307), (23, 1.0), (24, 1.0), (25, 1.0), (26, 0.9297125164312295), (27, 0.9137380509711683), (28, 0.9392971571641989), (29, 0.9840255791005997), (30, 0.9392971571641989), (31, 0.9904153691693998), (32, 0.9616613582300302), (33, 0.9936102543014307), (34, 0.9936102443990616), (35, 1.0), (36, 0.9968051394334616), (37, 1.0), (38, 1.0), (39, 1.0), (40, 1.0), (41, 1.0), (42, 0.9968051394334616), (43, 1.0), (44, 1.0), (45, 1.0), (46, 1.0), (47, 0.9936102443990616), (48, 1.0), (49, 1.0), (50, 1.0)], 'validity': [(1, 0.0), (2, 0.0), (3, 0.08306709676980972), (4, 0.536741239003861), (5, 0.04472843509988663), (6, 0.277955272422431), (7, 0.047923324338068216), (8, 0.03194888237232979), (9, 0.3865814822169539), (10, 0.20127795650936164), (11, 0.09904153502215973), (12, 0.4440894723890689), (13, 0.43450480928055396), (14, 0.4121405810784227), (15, 0.44089457478386146), (16, 0.38658148231216893), (17, 0.3961661428498765), (18, 0.38338658480217663), (19, 0.40255593291867653), (20, 0.35463259100152283), (21, 0.3099041689699069), (22, 0.35143770834508414), (23, 0.3514377132962687), (24, 0.33865816267534565), (25, 0.3897763701102223), (26, 0.38658149230975314), (27, 0.40255593291867653), (28, 0.5271565610417923), (29, 0.514377017752431), (30, 0.5942492264147383), (31, 0.6453674288984305), (32, 0.7891374251332146), (33, 0.8274760571912455), (34, 0.9009585100621842), (35, 0.8690096138003535), (36, 0.9584664929027374), (37, 0.9520767028339374), (38, 0.9329073869001371), (39, 0.9616613879371375), (40, 0.9488818177019065), (41, 0.9584664830003684), (42, 0.9361022766024921), (43, 0.9169329262008301), (44, 0.9584664830003684), (45, 0.9648562730691684), (46, 0.9265176213968295), (47, 0.9616613681323993), (48, 0.9105431705998918), (49, 0.9552715978683374), (50, 0.9520767226386756)]}\n",
      "INFO flwr 2024-08-29 17:26:36,019 | app.py:229 | app_fit: losses_centralized []\n",
      "INFO flwr 2024-08-29 17:26:36,020 | app.py:230 | app_fit: metrics_centralized {}\n"
     ]
    },
    {
     "name": "stdout",
     "output_type": "stream",
     "text": [
      "Saving round 50 aggregated_parameters...\n",
      "\u001b[90mTraining time: 3.78 minutes\u001b[0m\n",
      "Saving metrics to as .json in histories folder...\n",
      "\n",
      "\u001b[1;34mServer Side\u001b[0m \n",
      "Minimum Loss occurred at round 50 with a loss value of 0.03524754192834845 \n",
      "Maximum Accuracy occurred at round 12 with an accuracy value of 1.0 \n",
      "Maximum Validity occurred at round 45 with a validity value of 0.9648562730691684\n",
      "\n",
      "\n",
      "\n",
      "\u001b[95mVisualizing the results of the best model (random) on the test set (synthetic)...\u001b[0m\n",
      "--------------------------\n",
      "Patient 1: Diabetes level = 0\n",
      "Features to change to make the Diabetes level = 1\n",
      "Feature: x1 from 1.9820 to -1.9081\n",
      "Feature: x2 from 1.2579 to -0.6086\n",
      "--------------------------\n",
      "Patient 2: Diabetes level = 1\n",
      "Features to change to make the Diabetes level = 0\n",
      "Feature: x1 from -1.7560 to 4.2542\n",
      "Feature: x2 from -0.3023 to 3.4201\n",
      "--------------------------\n",
      "Patient 3: Diabetes level = 1\n",
      "Features to change to make the Diabetes level = 0\n",
      "Feature: x1 from -2.9390 to 0.5369\n",
      "Feature: x2 from -0.3579 to 0.2070\n",
      "--------------------------\n",
      "Patient 4: Diabetes level = 1\n",
      "Features to change to make the Diabetes level = 0\n",
      "Feature: x1 from -2.6853 to 0.8541\n",
      "Feature: x2 from -1.4114 to 1.4601\n",
      "--------------------------\n",
      "Patient 5: Diabetes level = 0\n",
      "Features to change to make the Diabetes level = 1\n",
      "Feature: x1 from 1.2113 to -2.7464\n",
      "Feature: x2 from 0.2914 to -2.7163\n",
      "--------------------------\n",
      "Patient 6: Diabetes level = 1\n",
      "Features to change to make the Diabetes level = 0\n",
      "Feature: x1 from -1.5654 to 4.0019\n",
      "Feature: x2 from -0.5017 to 4.1462\n",
      "\n",
      "\u001b[1;91mEvaluation on General Testing Set - Server\u001b[0m\n",
      "Counterfactual validity: 1.0000\n",
      "Counterfactual accuracy: 0.7154\n",
      "Counterfactual loss: 8.2067\n",
      "\u001b[1;32mDistance Evaluation - Counterfactual: Training Set\u001b[0m\n",
      "Mean distance with all training sets (proximity, hamming proximity, relative proximity): 0.1068, 2.0000, 0.0214\n",
      "Mean distance with training set 1 (proximity, hamming proximity, relative proximity): 0.4306, 2.0000, 0.1084\n",
      "Mean distance with training set 2 (proximity, hamming proximity, relative proximity): 0.2992, 2.0000, 0.0601\n",
      "\u001b[1;32mExtra metrics Evaluation - Counterfactual: Training Set\u001b[0m\n",
      "Hamming Distance: 2.00\n",
      "Euclidean Distance: 8.61\n",
      "Relative Distance: 1.73\n",
      "Intersection over Union: 0.00\n",
      "Variability: 1.00 \n",
      "\n"
     ]
    },
    {
     "name": "stderr",
     "output_type": "stream",
     "text": [
      "100%|██████████| 50/50 [00:04<00:00, 11.20it/s]\n",
      "100%|██████████| 50/50 [00:04<00:00, 10.15it/s]\n",
      "100%|██████████| 50/50 [00:03<00:00, 13.20it/s]\n",
      "100%|██████████| 50/50 [00:04<00:00, 10.68it/s]\n",
      "100%|██████████| 50/50 [00:03<00:00, 12.53it/s]"
     ]
    },
    {
     "name": "stdout",
     "output_type": "stream",
     "text": [
      "\u001b[92m\n",
      "You were lucky!\u001b[00m\n"
     ]
    },
    {
     "name": "stderr",
     "output_type": "stream",
     "text": [
      "\n"
     ]
    }
   ],
   "source": [
    "# Start server\n",
    "if not os.path.exists(f\"results/{args.model}/{args.dataset}/{args.data_type}/{args.fold}\"):\n",
    "    os.makedirs(f\"results/{args.model}/{args.dataset}/{args.data_type}/{args.fold}\")\n",
    "else:\n",
    "    # remove the directory and create a new one\n",
    "    os.system(f\"rm -r results/{args.model}/{args.dataset}/{args.data_type}/{args.fold}\")\n",
    "    os.makedirs(f\"results/{args.model}/{args.dataset}/{args.data_type}/{args.fold}\")\n",
    "\n",
    "# model and history folder\n",
    "model = utils.models[args.model]\n",
    "config = utils.config_tests[args.dataset][args.model]\n",
    "\n",
    "# Define strategy\n",
    "strategy = SaveModelStrategy(\n",
    "    model=model(config=config), # model to be trained\n",
    "    min_fit_clients=args.n_clients+args.n_attackers, # Never sample less than 10 clients for training\n",
    "    min_evaluate_clients=args.n_clients+args.n_attackers,  # Never sample less than 5 clients for evaluation\n",
    "    min_available_clients=args.n_clients+args.n_attackers, # Wait until all 10 clients are available\n",
    "    fraction_fit=1.0, # Sample 100 % of available clients for training\n",
    "    fraction_evaluate=1.0, # Sample 100 % of available clients for evaluation\n",
    "    evaluate_metrics_aggregation_fn=weighted_average,\n",
    "    on_evaluate_config_fn=fit_config,\n",
    "    on_fit_config_fn=fit_config,\n",
    "    data_type=args.data_type,\n",
    "    checkpoint_folder=config['checkpoint_folder'],\n",
    "    dataset=args.dataset,\n",
    "    fold=args.fold,\n",
    "    model_config=config,\n",
    ")\n",
    "\n",
    "print(f\"Num. min fit clients: {strategy.min_fit_clients}\")\n",
    "\n",
    "# Start time\n",
    "start_time = time.time()\n",
    "\n",
    "# Start Flower server for three rounds of federated learning\n",
    "history = fl.server.start_server(\n",
    "    # server_address=\"0.0.0.0:8098\",   # 0.0.0.0 listens to all available interfaces\n",
    "    server_address=f\"{server_ip_address}:8098\",\n",
    "    config=fl.server.ServerConfig(num_rounds=args.rounds),\n",
    "    strategy=strategy,\n",
    ")\n",
    "\n",
    "# Print training time in minutes (grey color)\n",
    "training_time = (time.time() - start_time)/60\n",
    "print(f\"\\033[90mTraining time: {round(training_time, 2)} minutes\\033[0m\")\n",
    "time.sleep(1)\n",
    "\n",
    "# convert history to list\n",
    "loss = [k[1] for k in history.losses_distributed]\n",
    "accuracy = [k[1] for k in history.metrics_distributed['accuracy']]\n",
    "validity = [k[1] for k in history.metrics_distributed['validity']]\n",
    "\n",
    "# Save loss and accuracy to a file\n",
    "print(f\"Saving metrics to as .json in histories folder...\")\n",
    "# # check if folder exists and save metrics\n",
    "if not os.path.exists(config['history_folder'] + f\"server_{args.data_type}\"):\n",
    "    os.makedirs(config['history_folder'] + f\"server_{args.data_type}\")\n",
    "with open(config['history_folder'] + f'server_{args.data_type}/metrics_{args.rounds}_{args.attack_type}_{args.n_attackers}_none_{args.fold}.json', 'w') as f:\n",
    "    json.dump({'loss': loss, 'accuracy': accuracy, 'validity':validity}, f)\n",
    "\n",
    "# Single Plot\n",
    "best_loss_round, best_acc_round = utils.plot_loss_and_accuracy(args, loss, accuracy, validity, config=config, show=False)\n",
    "\n",
    "# Evaluate the model on the test set\n",
    "if args.model == 'predictor':\n",
    "    y_test_pred, accuracy = utils.evaluation_central_test_predictor(args, best_model_round=best_loss_round, config=config)\n",
    "    print(f\"Accuracy on test set: {accuracy}\")\n",
    "    df_excel = {}\n",
    "    df_excel['accuracy'] = [accuracy]\n",
    "    df_excel = pd.DataFrame(df_excel)\n",
    "    df_excel.to_excel(f\"results_fold_{args.fold}.xlsx\")\n",
    "else:\n",
    "    utils.evaluation_central_test(args, best_model_round=best_loss_round, model=model, config=config)\n",
    "    \n",
    "    # Evaluate distance with all training sets\n",
    "    df_excel = utils.evaluate_distance(args, best_model_round=best_loss_round, model_fn=model, config=config, spec_client_val=False, training_time=training_time)\n",
    "    if args.fold != 0:\n",
    "        df_excel.to_excel(f\"results_fold_{args.fold}.xlsx\")\n",
    "\n",
    "# personalization (now done on the server but can be uqually done on the client side) \n",
    "if args.pers == 1:\n",
    "    start_time = time.time()\n",
    "    # Personalization\n",
    "    print(\"\\n\\n\\n\\n\\033[94mPersonalization\\033[0m\")\n",
    "    df_excel_list = utils.personalization(args, model_fn=model, config=config, best_model_round=best_loss_round)\n",
    "    if args.fold != 0:\n",
    "        for i in range(args.n_clients):\n",
    "            print(f\"Saving results_fold_{args.fold}_personalization_{i+1}.xlsx\")\n",
    "            df_excel_list[i].to_excel(f\"results_fold_{args.fold}_personalization_{i+1}.xlsx\")\n",
    "\n",
    "    # Print training time in minutes (grey color)\n",
    "    print(f\"\\033[90mPersonalization time: {round((time.time() - start_time)/60, 2)} minutes\\033[0m\")\n",
    "\n",
    "# Create gif\n",
    "utils.create_gif(args, config)\n",
    "\n",
    "print(f\"\\033[92m\\nYou were lucky!\\033[00m\")"
   ]
  },
  {
   "cell_type": "markdown",
   "metadata": {},
   "source": [
    "## **Malicious Client**\n",
    "Otherwise from the terminal: ```python malicious_client.py --id \"1\" --data_type \"2cluster\" --model \"net\" --dataset \"diabetes\" --attack_type 'DP_flip'```\n",
    " "
   ]
  },
  {
   "cell_type": "code",
   "execution_count": 5,
   "metadata": {},
   "outputs": [],
   "source": [
    "# Libraies and functions\n",
    "from collections import OrderedDict\n",
    "import torch\n",
    "import utils\n",
    "import flwr as fl\n",
    "import argparse\n",
    "import numpy as np\n",
    "\n",
    "# Define Flower client\n",
    "class FlowerClient(fl.client.NumPyClient):\n",
    "    def __init__(self, model, X_train, y_train, X_val, y_val, optimizer, num_examples, \n",
    "                 client_id, data_type, train_fn, evaluate_fn, attack_type, config_model):\n",
    "        self.model = model\n",
    "        self.X_train = X_train\n",
    "        self.y_train = y_train\n",
    "        self.X_val = X_val\n",
    "        self.y_val = y_val\n",
    "        self.loss_fn = utils.InvertedLoss() if attack_type==\"DP_inverted_loss\" else torch.nn.CrossEntropyLoss()\n",
    "        self.optimizer = optimizer\n",
    "        self.num_examples = num_examples\n",
    "        self.client_id = client_id \n",
    "        self.data_type = data_type\n",
    "        self.train_fn = train_fn\n",
    "        self.evaluate_fn = evaluate_fn\n",
    "        self.history_folder = config_model['history_folder']\n",
    "        self.config_model = config_model\n",
    "        self.attack_type = attack_type\n",
    "        self.saved_models = {} # Save the parameters of the previous rounds\n",
    "\n",
    "    def get_parameters(self, config):\n",
    "        params = []\n",
    "        for k, v in self.model.state_dict().items():\n",
    "            if k == 'cid':\n",
    "                params.append(np.array([self.client_id + 100]))\n",
    "                continue\n",
    "            if k == 'mask' or k=='binary_feature':\n",
    "                params.append(v.cpu().numpy())\n",
    "                continue\n",
    "            # Original parameters\n",
    "            if self.attack_type in [\"None\", \"DP_flip\", \"DP_random\", \"DP_inverted_loss\", \"DP_inverted_loss_cf\"]:\n",
    "                params.append(v.cpu().numpy())\n",
    "            # Mimic the actual parameter range by observing the mean and std of each parameter\n",
    "            elif self.attack_type == \"MP_random\":\n",
    "                v = v.cpu().numpy()\n",
    "                params.append(np.random.normal(loc=np.mean(v), scale=np.std(v), size=v.shape).astype(np.float32))\n",
    "            # Introducing random noise to the parameters\n",
    "            elif self.attack_type == \"MP_noise\":\n",
    "                v = v.cpu().numpy()\n",
    "                params.append(v + np.random.normal(0, 1.2*np.std(v), v.shape).astype(np.float32))   \n",
    "            # Gradient-based attack - flip the sign of the gradient and scale it by a factor [adaptation of Fall of Empires]\n",
    "            elif self.attack_type == \"MP_gradient\": # Fall of Empires\n",
    "                if config[\"current_round\"] == 1:\n",
    "                    params.append(v.cpu().numpy()) # Use the original parameters for the first round\n",
    "                    continue\n",
    "                else:\n",
    "                    epsilon = 0.1 # from 0 to 10 --- reverse gradient when epsilon is equal to learning rate\n",
    "                    learning_rate = 0.01\n",
    "                    prev_v = self.saved_models.get(config[\"current_round\"] - 1).get(k).cpu().numpy()\n",
    "                    current_v = v.cpu().numpy()\n",
    "                    gradient = (prev_v - current_v)/learning_rate # precisely mean gradients from all the other clients\n",
    "                    manipulated_param = current_v + epsilon * gradient  # apply gradient in the opposite direction\n",
    "                    params.append(manipulated_param.astype(np.float32))\n",
    "\n",
    "        return params\n",
    "    \n",
    "    def set_parameters(self, parameters):\n",
    "        params_dict = zip(self.model.state_dict().keys(), parameters)\n",
    "        state_dict = OrderedDict({k: torch.tensor(v) for k, v in params_dict})\n",
    "        self.model.load_state_dict(state_dict, strict=True)\n",
    "    \n",
    "    def fit(self, parameters, config):\n",
    "        self.set_parameters(parameters)\n",
    "        if self.attack_type in [\"None\", \"DP_flip\", \"DP_random\", \"DP_inverted_loss\"]:\n",
    "            try:\n",
    "                model_trained, train_loss, val_loss, acc, acc_prime, acc_val, _ = self.train_fn(\n",
    "                    self.model, self.loss_fn, self.optimizer, self.X_train, self.y_train, \n",
    "                    self.X_val, self.y_val, n_epochs=config[\"local_epochs\"], print_info=False, config=self.config_model)\n",
    "            except Exception as e:\n",
    "                # print(f\"An error occurred during training of Malicious client: {e}, returning model with error\") \n",
    "                print(f\"An error occurred during training of Malicious client, returning model with error\") \n",
    "\n",
    "        elif self.attack_type in [\"DP_inverted_loss_cf\"]:\n",
    "            try:\n",
    "                model_trained, train_loss, val_loss, acc, acc_prime, acc_val, _ = self.train_fn(\n",
    "                    self.model, self.loss_fn, self.optimizer, self.X_train, self.y_train, \n",
    "                    self.X_val, self.y_val, n_epochs=config[\"local_epochs\"], print_info=False, config=self.config_model, inv_loss_cf=True)\n",
    "            except Exception as e:\n",
    "                # print(f\"An error occurred during training of Malicious client: {e}, returning model with error\") \n",
    "                print(f\"An error occurred during training of Malicious client, returning model with error\")\n",
    "\n",
    "        elif self.attack_type == \"MP_gradient\":\n",
    "            self.saved_models[config[\"current_round\"]] = {k: v.clone() for k, v in self.model.state_dict().items()}\n",
    "            # delede previous 3-rounds model\n",
    "            if config[\"current_round\"] > 3:\n",
    "                del self.saved_models[config[\"current_round\"]-3]\n",
    "        return self.get_parameters(config), self.num_examples[\"trainset\"], {}\n",
    "\n",
    "    def evaluate(self, parameters, config):\n",
    "        self.set_parameters(parameters)\n",
    "        if self.model.__class__.__name__ == \"Predictor\":\n",
    "            try:\n",
    "                loss, accuracy = utils.evaluate_predictor(self.model, self.X_val, self.y_val, self.loss_fn, config=self.config_model)\n",
    "                # save loss and accuracy client\n",
    "                utils.save_client_metrics(config[\"current_round\"], loss, accuracy, 0, client_id=self.client_id,\n",
    "                                        data_type=self.data_type, tot_rounds=config['tot_rounds'], history_folder=self.history_folder)\n",
    "                return float(loss), self.num_examples[\"valset\"], {\"accuracy\": float(accuracy), \"mean_distance\": float(0), \"validity\": float(0)}\n",
    "            except Exception as e:\n",
    "                #print(f\"An error occurred during inference of Malicious client: {e}, returning same zero metrics\") \n",
    "                print(f\"An error occurred during inference of Malicious client, returning same zero metrics\")\n",
    "                return float(10000), self.num_examples[\"valset\"], {\"accuracy\": float(0), \"mean_distance\": float(10000), \"validity\": float(0)}\n",
    "\n",
    "        else:\n",
    "            try:\n",
    "                loss, accuracy, validity, mean_proximity, hamming_distance, euclidian_distance, iou, variability = self.evaluate_fn(self.model, self.X_val, self.y_val, self.loss_fn, self.X_train, self.y_train, config=self.config_model)\n",
    "                # save loss and accuracy client\n",
    "                utils.save_client_metrics(config[\"current_round\"], loss, accuracy, validity, mean_proximity, hamming_distance, euclidian_distance, iou, variability,\n",
    "                                        self.client_id, self.data_type, config['tot_rounds'], self.history_folder)\n",
    "                return float(loss), self.num_examples[\"valset\"], {\"accuracy\": float(accuracy), \"proximity\": float(mean_proximity), \"validity\": float(validity),\n",
    "                                                                \"hamming_distance\": float(hamming_distance), \"euclidian_distance\": float(euclidian_distance),\n",
    "                                                                \"iou\": float(iou), \"variability\": float(variability)}\n",
    "            except Exception as e:\n",
    "                # print(f\"An error occurred during inference of Malicious client: {e}, returning same zero metrics\") \n",
    "                print(f\"An error occurred during inference of Malicious client, returning same zero metrics\")\n",
    "                return float(10000), self.num_examples[\"valset\"], {\"accuracy\": float(0), \"proximity\": float(10000), \"validity\": float(0),\n",
    "                                                                \"hamming_distance\": float(10000), \"euclidian_distance\": float(10000),\n",
    "                                                                \"iou\": float(0), \"variability\": float(0)}\n",
    "\n"
   ]
  },
  {
   "cell_type": "code",
   "execution_count": 1,
   "metadata": {},
   "outputs": [],
   "source": [
    "# Define the arguments directly in the notebook\n",
    "class Args:\n",
    "    id = 1  # Example: Set the id to 1 (adjust as needed)\n",
    "    data_type = 'random'  # Choose between 'cluster', '2cluster', 'random' (i.e., non-IID and IID)\n",
    "    dataset = 'synthetic'  # Choose between 'diabetes', 'breast', 'synthetic', 'mnist', 'cifar10'\n",
    "    model = 'net'  # Choose between 'net', 'vcnet', 'predictor'\n",
    "    attack_type = 'DP_inverted_loss'  # Choose the attack type 'DP_flip', 'DP_inverted_loss', 'MP_noise', 'MP_gradient' \n",
    "\n",
    "args = Args()"
   ]
  },
  {
   "cell_type": "code",
   "execution_count": null,
   "metadata": {},
   "outputs": [],
   "source": [
    "# Start the training\n",
    "# model and history folder\n",
    "model = utils.models[args.model]\n",
    "train_fn = utils.trainings[args.model]\n",
    "evaluate_fn = utils.evaluations[args.model]\n",
    "plot_fn = utils.plot_functions[args.model]\n",
    "config = utils.config_tests[args.dataset][args.model]\n",
    "\n",
    "# check if metrics.csv exists otherwise delete it\n",
    "utils.check_and_delete_metrics_file(config['history_folder'] + f\"malicious_client_{args.data_type}_{args.attack_type}_{args.id}\", question=False)\n",
    "\n",
    "# check gpu and set manual seed\n",
    "device = utils.check_gpu(manual_seed=True)\n",
    "\n",
    "# load data\n",
    "X_train, y_train, X_val, y_val, X_test, y_test, num_examples = utils.load_data_malicious(\n",
    "    client_id=str(args.id), device=device, type=args.data_type, dataset=args.dataset, attack_type=args.attack_type)\n",
    "\n",
    "# Model\n",
    "model = model(config=config).to(device)\n",
    "\n",
    "# Optimizer and Loss function\n",
    "optimizer = torch.optim.SGD(model.parameters(), lr=config[\"learning_rate\"], momentum=0.9)\n",
    "\n",
    "# Start Flower client\n",
    "client = FlowerClient(model, X_train, y_train, X_val, y_val, optimizer, num_examples, args.id, args.data_type,\n",
    "                        train_fn, evaluate_fn, args.attack_type, config).to_client()\n",
    "fl.client.start_client(server_address=f\"{server_ip_address}:8098\", client=client) \n"
   ]
  },
  {
   "cell_type": "markdown",
   "metadata": {},
   "source": [
    "## **Honest Client**\n",
    "Otherwise from terminal: ```python client.py --id \"2\" --data_type \"2cluster\" --model \"net\" --dataset \"diabetes\"```\n",
    "\n",
    "_Remember to set a different ID from others!_"
   ]
  },
  {
   "cell_type": "code",
   "execution_count": 9,
   "metadata": {},
   "outputs": [],
   "source": [
    "# Libraies and functions\n",
    "from collections import OrderedDict\n",
    "import torch\n",
    "import utils\n",
    "import flwr as fl\n",
    "import argparse\n",
    "\n",
    "# Define Flower client )\n",
    "class FlowerClient(fl.client.NumPyClient):\n",
    "    def __init__(self, model, X_train, y_train, X_val, y_val, optimizer, num_examples, \n",
    "                 client_id, data_type, train_fn, evaluate_fn, config_model):\n",
    "        self.model = model\n",
    "        self.X_train = X_train\n",
    "        self.y_train = y_train\n",
    "        self.X_val = X_val\n",
    "        self.y_val = y_val\n",
    "        self.loss_fn = torch.nn.CrossEntropyLoss()\n",
    "        self.optimizer = optimizer\n",
    "        self.num_examples = num_examples\n",
    "        self.client_id = client_id\n",
    "        self.data_type = data_type\n",
    "        self.train_fn = train_fn\n",
    "        self.evaluate_fn = evaluate_fn\n",
    "        self.history_folder = config_model['history_folder']\n",
    "        self.config = config_model\n",
    "\n",
    "    def get_parameters(self, config):\n",
    "        self.model.set_client_id(self.client_id)\n",
    "        return [val.cpu().numpy() for _, val in self.model.state_dict().items()]\n",
    "\n",
    "    def set_parameters(self, parameters):\n",
    "        params_dict = zip(self.model.state_dict().keys(), parameters)\n",
    "        state_dict = OrderedDict({k: torch.tensor(v) for k, v in params_dict})\n",
    "        self.model.load_state_dict(state_dict, strict=True)\n",
    "\n",
    "    def fit(self, parameters, config):\n",
    "        try: \n",
    "            self.set_parameters(parameters)\n",
    "            model_trained, train_loss, val_loss, acc, acc_prime, acc_val, _ = self.train_fn(\n",
    "                self.model, self.loss_fn, self.optimizer, self.X_train, self.y_train, \n",
    "                self.X_val, self.y_val, n_epochs=config[\"local_epochs\"], print_info=False, config=self.config)\n",
    "    \n",
    "        except Exception as e:\n",
    "            print(f\"An error occurred during training of Honest client {self.client_id}: {e}, returning model with error\") \n",
    "        \n",
    "        return self.get_parameters(config), self.num_examples[\"trainset\"], {}\n",
    "    \n",
    "\n",
    "    def evaluate(self, parameters, config):\n",
    "        self.set_parameters(parameters)\n",
    "        if self.model.__class__.__name__ == \"Predictor\":\n",
    "            try:\n",
    "                loss, accuracy = utils.evaluate_predictor(self.model, self.X_val, self.y_val, self.loss_fn, config=self.config)\n",
    "                # save loss and accuracy client\n",
    "                utils.save_client_metrics(config[\"current_round\"], loss, accuracy, 0, client_id=self.client_id,\n",
    "                                        data_type=self.data_type, tot_rounds=config['tot_rounds'], history_folder=self.history_folder)\n",
    "                return float(loss), self.num_examples[\"valset\"], {\"accuracy\": float(accuracy), \"mean_distance\": float(0), \"validity\": float(0)}\n",
    "            except Exception as e:\n",
    "                print(f\"An error occurred during inference of client {self.client_id}: {e}, returning same zero metrics\") \n",
    "                return float(10000), self.num_examples[\"valset\"], {\"accuracy\": float(0), \"mean_distance\": float(10000), \"validity\": float(0)}\n",
    "\n",
    "        else:\n",
    "            try:\n",
    "                loss, accuracy, validity, mean_proximity, hamming_distance, euclidian_distance, iou, variability = self.evaluate_fn(self.model, self.X_val, self.y_val, self.loss_fn, self.X_train, self.y_train, config=self.config)\n",
    "                # save loss and accuracy client\n",
    "                utils.save_client_metrics(config[\"current_round\"], loss, accuracy, validity, mean_proximity, hamming_distance, euclidian_distance, iou, variability,\n",
    "                                        self.client_id, self.data_type, config['tot_rounds'], self.history_folder)\n",
    "                return float(loss), self.num_examples[\"valset\"], {\"accuracy\": float(accuracy), \"proximity\": float(mean_proximity), \"validity\": float(validity),\n",
    "                                                                \"hamming_distance\": float(hamming_distance), \"euclidian_distance\": float(euclidian_distance),\n",
    "                                                                \"iou\": float(iou), \"variability\": float(variability)}\n",
    "            except Exception as e:\n",
    "                print(f\"An error occurred during inference of client {self.client_id}: {e}, returning same zero metrics\") \n",
    "                return float(10000), self.num_examples[\"valset\"], {\"accuracy\": float(0), \"proximity\": float(10000), \"validity\": float(0),\n",
    "                                                                \"hamming_distance\": float(10000), \"euclidian_distance\": float(10000),\n",
    "                                                                \"iou\": float(0), \"variability\": float(0)}\n"
   ]
  },
  {
   "cell_type": "code",
   "execution_count": 11,
   "metadata": {},
   "outputs": [],
   "source": [
    "# Define the arguments directly in the notebook\n",
    "class Args:\n",
    "    id = 1  # TODO Example: Set the id to 1 (adjust as needed, within range 1-100)\n",
    "    data_type = 'random'  # Choose between 'cluster', '2cluster', 'random' (i.e., non-IID and IID)\n",
    "    dataset = 'synthetic'  # Choose between 'diabetes', 'breast', 'synthetic', 'mnist', 'cifar10'\n",
    "    model = 'net'  # Choose between 'net', 'vcnet', 'predictor'\n",
    "\n",
    "# Instantiate the Args class\n",
    "args = Args()"
   ]
  },
  {
   "cell_type": "code",
   "execution_count": null,
   "metadata": {},
   "outputs": [],
   "source": [
    "# Start training\n",
    "# model and history folder\n",
    "model = utils.models[args.model]\n",
    "train_fn = utils.trainings[args.model]\n",
    "evaluate_fn = utils.evaluations[args.model]\n",
    "plot_fn = utils.plot_functions[args.model]\n",
    "config = utils.config_tests[args.dataset][args.model]\n",
    "\n",
    "# check if metrics.csv exists otherwise delete it\n",
    "utils.check_and_delete_metrics_file(config['history_folder'] + f\"client_{args.data_type}_{args.id}\", question=False)\n",
    "\n",
    "# check gpu and set manual seed\n",
    "device = utils.check_gpu(manual_seed=True)\n",
    "\n",
    "# load data\n",
    "X_train, y_train, X_val, y_val, X_test, y_test, num_examples = utils.load_data(\n",
    "    client_id=str(args.id), device=device, type=args.data_type, dataset=args.dataset)\n",
    "\n",
    "# Model\n",
    "model = model(config=config).to(device)\n",
    "\n",
    "# Optimizer and Loss function\n",
    "optimizer = torch.optim.SGD(model.parameters(), lr=config[\"learning_rate\"], momentum=0.9)\n",
    "\n",
    "# Start Flower client\n",
    "client = FlowerClient(model, X_train, y_train, X_val, y_val, optimizer, num_examples, args.id, args.data_type,\n",
    "                        train_fn, evaluate_fn, config).to_client()\n",
    "fl.client.start_client(server_address=f\"{server_ip_address}:8098\", client=client) \n",
    "\n",
    "# read saved data and plot\n",
    "plot_fn(args.id, args.data_type, config, show=False)"
   ]
  }
 ],
 "metadata": {
  "kernelspec": {
   "display_name": "CF_FL",
   "language": "python",
   "name": "python3"
  },
  "language_info": {
   "codemirror_mode": {
    "name": "ipython",
    "version": 3
   },
   "file_extension": ".py",
   "mimetype": "text/x-python",
   "name": "python",
   "nbconvert_exporter": "python",
   "pygments_lexer": "ipython3",
   "version": "3.12.1"
  }
 },
 "nbformat": 4,
 "nbformat_minor": 2
}
