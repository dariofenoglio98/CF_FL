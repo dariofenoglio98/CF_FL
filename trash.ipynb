{
 "cells": [
  {
   "cell_type": "code",
   "execution_count": 11,
   "metadata": {},
   "outputs": [],
   "source": [
    "import torch\n",
    "loss_fn = torch.nn.CrossEntropyLoss()\n",
    "import utils\n",
    "import pandas as pd\n",
    "import numpy as np"
   ]
  },
  {
   "cell_type": "code",
   "execution_count": 2,
   "metadata": {},
   "outputs": [
    {
     "data": {
      "text/plain": [
       "CrossEntropyLoss()"
      ]
     },
     "execution_count": 2,
     "metadata": {},
     "output_type": "execute_result"
    }
   ],
   "source": [
    "loss_fn"
   ]
  },
  {
   "cell_type": "code",
   "execution_count": 2,
   "metadata": {},
   "outputs": [],
   "source": [
    "    X_train, y_train, X_val, y_val, X_test, y_test, num_examples = utils.load_data_malicious(\n",
    "        client_id=str(1), device='cpu', type='random', dataset='synthetic', attack_type='DP_inverted_loss')\n"
   ]
  },
  {
   "cell_type": "code",
   "execution_count": 3,
   "metadata": {},
   "outputs": [
    {
     "data": {
      "text/plain": [
       "torch.Size([1252, 3])"
      ]
     },
     "execution_count": 3,
     "metadata": {},
     "output_type": "execute_result"
    }
   ],
   "source": [
    "X_train.shape"
   ]
  },
  {
   "cell_type": "code",
   "execution_count": 21,
   "metadata": {},
   "outputs": [],
   "source": [
    "df_test = pd.read_csv(f\"data/df_{'synthetic'}_{'random'}_test.csv\")\n"
   ]
  },
  {
   "cell_type": "code",
   "execution_count": 22,
   "metadata": {},
   "outputs": [
    {
     "data": {
      "text/plain": [
       "(7324, 4)"
      ]
     },
     "execution_count": 22,
     "metadata": {},
     "output_type": "execute_result"
    }
   ],
   "source": [
    "df_test.shape"
   ]
  },
  {
   "cell_type": "code",
   "execution_count": 12,
   "metadata": {},
   "outputs": [],
   "source": [
    "config_tests = {\n",
    "    \"diabetes\": {\n",
    "        \"net\": {\n",
    "            \"model_name\": \"net\",\n",
    "            \"dataset\": \"diabetes\",\n",
    "            \"checkpoint_folder\": \"checkpoints/diabetes/net/\",\n",
    "            \"history_folder\": \"histories/diabetes/net/\",\n",
    "            \"image_folder\": \"images/diabetes/net/\",\n",
    "            \"input_dim\": 21,\n",
    "            \"output_dim\": 2,\n",
    "            \"drop_prob\": 0.3,\n",
    "            \"mask\": torch.nn.Parameter(torch.Tensor([0,0,0,0,0,1,0,0,0,0,0,0,0,0,0,0,0,1,1,1,1]), requires_grad=False),\n",
    "            \"binary_feature\": torch.nn.Parameter(torch.Tensor([1,1,1,0,1,1,1,1,1,1,1,1,1,0,0,0,1,1,0,0,0]).bool(), requires_grad=False),\n",
    "            \"mask_evaluation\": torch.Tensor([0,0,0,0,0,0,0,0,0,0,0,0,0,0,0,0,0,0,0,0,0]),\n",
    "            \"lambda1\": 3,\n",
    "            \"lambda2\": 12,\n",
    "            \"lambda3\": 1,\n",
    "            \"lambda4\": 1.5,\n",
    "            \"learning_rate\": 0.01,\n",
    "            \"learning_rate_personalization\": 0.01,\n",
    "            \"n_epochs_personalization\": 5,\n",
    "            \"decoder_w\": [\"decoder\"],\n",
    "            \"encoder1_w\": [\"concept_mean_predictor\", \"concept_var_predictor\"],\n",
    "            \"encoder2_w\": [\"concept_mean_z3_predictor\", \"concept_var_z3_predictor\"],\n",
    "            \"encoder3_w\": [\"concept_mean_qz3_predictor\", \"concept_var_qz3_predictor\"],\n",
    "            \"classifier_w\": [\"fc1\", \"fc2\", \"fc3\", \"fc4\", \"fc5\"], \n",
    "            \"to_freeze\": [\"concept_mean_predictor\", \"concept_var_predictor\", \"concept_mean_z3_predictor\", \"concept_var_z3_predictor\", \"concept_mean_qz3_predictor\", \"concept_var_qz3_predictor\"],\n",
    "            \"output_round\": True,\n",
    "        },\n",
    "        \"vcnet\": {\n",
    "            \"model_name\": \"vcnet\",\n",
    "            \"dataset\": \"diabetes\",\n",
    "            \"checkpoint_folder\": \"checkpoints/diabetes/vcnet/\",\n",
    "            \"history_folder\": \"histories/diabetes/vcnet/\",\n",
    "            \"image_folder\": \"images/diabetes/vcnet/\",\n",
    "            \"input_dim\": 21,\n",
    "            \"output_dim\": 2,\n",
    "            \"drop_prob\": 0.3,\n",
    "            \"mask\": torch.nn.Parameter(torch.Tensor([0,0,0,0,0,1,0,0,0,0,0,0,0,0,0,0,0,1,1,1,1]), requires_grad=False),\n",
    "            \"binary_feature\": torch.nn.Parameter(torch.Tensor([1,1,1,0,1,1,1,1,1,1,1,1,1,0,0,0,1,1,0,0,0]).bool(), requires_grad=False),\n",
    "            \"mask_evaluation\": torch.Tensor([0,0,0,0,0,0,0,0,0,0,0,0,0,0,0,0,0,0,0,0,0]),\n",
    "            \"lambda1\": 2,\n",
    "            \"lambda2\": 10,\n",
    "            \"learning_rate\": 0.01,\n",
    "            \"learning_rate_personalization\": 0.01,\n",
    "            \"n_epochs_personalization\": 5, \n",
    "            \"decoder_w\": [\"decoder\"],\n",
    "            \"encoder_w\": [\"concept_mean_predictor\", \"concept_var_predictor\"],\n",
    "            \"classifier_w\": [\"fc1\", \"fc2\", \"fc3\", \"fc4\", \"fc5\"],\n",
    "            \"to_freeze\": [\"concept_mean_predictor\", \"concept_var_predictor\"],\n",
    "            \"output_round\": True,\n",
    "        },\n",
    "        \"predictor\": {\n",
    "            \"model_name\": \"predictor\",\n",
    "            \"dataset\": \"diabetes\",\n",
    "            \"checkpoint_folder\": \"checkpoints/diabetes/predictor/\",\n",
    "            \"history_folder\": \"histories/diabetes/predictor/\",\n",
    "            \"image_folder\": \"images/diabetes/predictor/\",\n",
    "            \"input_dim\": 21,\n",
    "            \"output_dim\": 2,\n",
    "            \"learning_rate\": 0.01,\n",
    "            \"learning_rate_personalization\": 0.01,\n",
    "            \"n_epochs_personalization\": 5,\n",
    "            \"classifier_w\": [\"fc1\", \"fc2\", \"fc3\", \"fc4\", \"fc5\"],\n",
    "            \"to_freeze\": [\"fc1\", \"fc2\", \"fc3\"],\n",
    "            \"output_round\": True,\n",
    "        },\n",
    "        \"min\" : np.array([0., 0., 0., 12., 0., 0., 0., 0., 0., 0., 0., 0., 0., 1., 0., 0., 0., 0., 1., 1., 1.]),\n",
    "        \"max\" : np.array([1., 1., 1., 98., 1., 1., 1., 1., 1., 1., 1., 1., 1., 5., 30., 30., 1., 1., 13., 6., 8.]),\n",
    "    },\n",
    "    \"breast\": {\n",
    "        \"net\": {\n",
    "            \"model_name\": \"net\",\n",
    "            \"dataset\": \"breast\",\n",
    "            \"checkpoint_folder\": \"checkpoints/breast/net/\",\n",
    "            \"history_folder\": \"histories/breast/net/\",\n",
    "            \"image_folder\": \"images/breast/net/\",\n",
    "            \"input_dim\": 30,\n",
    "            \"output_dim\": 2,\n",
    "            \"drop_prob\": 0.3,\n",
    "            \"mask\": torch.nn.Parameter(torch.Tensor([0,0,0,0,0,1,0,0,0,0,0,0,0,0,0,0,0,1,1,1,1,1,1,1,1,1,1,1,1,1]), requires_grad=False),  # A CASOO\n",
    "            \"binary_feature\": torch.nn.Parameter(torch.Tensor([0,0,0,0,0,1,0,0,0,0,0,0,0,0,0,0,0,0,1,1,1,1,1,1,1,0,0,0,1,1]).bool(), requires_grad=False),\n",
    "            \"mask_evaluation\": torch.Tensor([0,0,0,0,0,0,0,0,0,0,0,0,0,0,0,0,0,0,0,0,0,0,0,0,0,0,0,0,0,0]),\n",
    "            \"lambda1\": 3,\n",
    "            \"lambda2\": 12,\n",
    "            \"lambda3\": 1,\n",
    "            \"lambda4\": 1.5,\n",
    "            \"learning_rate\": 0.01,\n",
    "            \"learning_rate_personalization\": 0.01,\n",
    "            \"n_epochs_personalization\": 5,\n",
    "            \"decoder_w\": [\"decoder\"],\n",
    "            \"encoder1_w\": [\"concept_mean_predictor\", \"concept_var_predictor\"],\n",
    "            \"encoder2_w\": [\"concept_mean_z3_predictor\", \"concept_var_z3_predictor\"],\n",
    "            \"encoder3_w\": [\"concept_mean_qz3_predictor\", \"concept_var_qz3_predictor\"],\n",
    "            \"classifier_w\": [\"fc1\", \"fc2\", \"fc3\", \"fc4\", \"fc5\"], \n",
    "            \"to_freeze\": [\"concept_mean_predictor\", \"concept_var_predictor\", \"concept_mean_z3_predictor\", \"concept_var_z3_predictor\", \"concept_mean_qz3_predictor\", \"concept_var_qz3_predictor\"],\n",
    "            \"output_round\": False,\n",
    "        },\n",
    "        \"vcnet\": {\n",
    "            \"model_name\": \"vcnet\",\n",
    "            \"dataset\": \"breast\",\n",
    "            \"checkpoint_folder\": \"checkpoints/breast/vcnet/\",\n",
    "            \"history_folder\": \"histories/breast/vcnet/\",\n",
    "            \"image_folder\": \"images/breast/vcnet/\",\n",
    "            \"input_dim\": 30,\n",
    "            \"output_dim\": 2,\n",
    "            \"drop_prob\": 0.3,\n",
    "            \"mask\": torch.nn.Parameter(torch.Tensor([0,0,0,0,0,1,0,0,0,0,0,0,0,0,0,0,0,1,1,1,1,1,1,1,1,1,1,1,1,1]), requires_grad=False),  # A CASOO\n",
    "            \"binary_feature\": torch.nn.Parameter(torch.Tensor([0,0,0,0,0,1,0,0,0,0,0,0,0,0,0,0,0,0,1,1,1,1,1,1,1,0,0,0,1,1]).bool(), requires_grad=False),\n",
    "            \"mask_evaluation\": torch.Tensor([0,0,0,0,0,0,0,0,0,0,0,0,0,0,0,0,0,0,0,0,0,0,0,0,0,0,0,0,0,0]),\n",
    "            \"lambda1\": 2,\n",
    "            \"lambda2\": 10,\n",
    "            \"learning_rate\": 0.01,\n",
    "            \"learning_rate_personalization\": 0.01,\n",
    "            \"n_epochs_personalization\": 5,\n",
    "            \"decoder_w\": [\"decoder\"],\n",
    "            \"encoder_w\": [\"concept_mean_predictor\", \"concept_var_predictor\"],\n",
    "            \"classifier_w\": [\"fc1\", \"fc2\", \"fc3\", \"fc4\", \"fc5\"],\n",
    "            \"to_freeze\": [\"concept_mean_predictor\", \"concept_var_predictor\"],\n",
    "            \"output_round\": False,\n",
    "        },\n",
    "        \"predictor\": {\n",
    "            \"model_name\": \"predictor\",\n",
    "            \"dataset\": \"breast\",\n",
    "            \"checkpoint_folder\": \"checkpoints/breast/predictor/\",\n",
    "            \"history_folder\": \"histories/breast/predictor/\",\n",
    "            \"image_folder\": \"images/breast/predictor/\",\n",
    "            \"input_dim\": 30,\n",
    "            \"output_dim\": 2,\n",
    "            \"learning_rate\": 0.01,\n",
    "            \"learning_rate_personalization\": 0.01,\n",
    "            \"n_epochs_personalization\": 5,\n",
    "            \"classifier_w\": [\"fc1\", \"fc2\", \"fc3\", \"fc4\", \"fc5\"],\n",
    "            \"to_freeze\": [\"fc1\", \"fc2\", \"fc3\"],\n",
    "            \"output_round\": False,\n",
    "        },\n",
    "        \"min\" : np.array([6.981e+00, 9.710e+00, 4.379e+01, 1.435e+02, 5.263e-02, 1.938e-02,\n",
    "                                0.000e+00, 0.000e+00, 1.060e-01, 4.996e-02, 1.115e-01, 3.602e-01,\n",
    "                                7.570e-01, 6.802e+00, 1.713e-03, 2.252e-03, 0.000e+00, 0.000e+00,\n",
    "                                7.882e-03, 8.948e-04, 7.930e+00, 1.202e+01, 5.041e+01, 1.852e+02,\n",
    "                                7.117e-02, 2.729e-02, 0.000e+00, 0.000e+00, 1.565e-01, 5.504e-02]),\n",
    "        \"max\" : np.array([2.811e+01, 3.928e+01, 1.885e+02, 2.501e+03, 1.634e-01, 3.454e-01,\n",
    "                                4.268e-01, 2.012e-01, 3.040e-01, 9.744e-02, 2.873e+00, 4.885e+00,\n",
    "                                2.198e+01, 5.422e+02, 3.113e-02, 1.354e-01, 3.960e-01, 5.279e-02,\n",
    "                                7.895e-02, 2.984e-02, 3.604e+01, 4.954e+01, 2.512e+02, 4.254e+03,\n",
    "                                2.226e-01, 1.058e+00, 1.252e+00, 2.910e-01, 6.638e-01, 2.075e-01]),\n",
    "    },\n",
    "    \"synthetic\": {\n",
    "        \"net\": {\n",
    "            \"model_name\": \"net\",\n",
    "            \"dataset\": \"synthetic\",\n",
    "            \"checkpoint_folder\": \"checkpoints/synthetic/net/\",\n",
    "            \"history_folder\": \"histories/synthetic/net/\",\n",
    "            \"image_folder\": \"images/synthetic/net/\",\n",
    "            \"input_dim\": 3,\n",
    "            \"output_dim\": 2,\n",
    "            \"drop_prob\": 0.3,\n",
    "            \"mask\": torch.nn.Parameter(torch.Tensor([0,0]), requires_grad=False),\n",
    "            \"binary_feature\": torch.nn.Parameter(torch.Tensor([0,0]).bool(), requires_grad=False),\n",
    "            \"mask_evaluation\": torch.Tensor([0,0]),\n",
    "            \"lambda1\": 3,\n",
    "            \"lambda2\": 12,\n",
    "            \"lambda3\": 3,\n",
    "            \"lambda4\": 20,\n",
    "            \"learning_rate\": 0.01,\n",
    "            \"learning_rate_personalization\": 0.01,\n",
    "            \"n_epochs_personalization\": 70,\n",
    "            \"decoder_w\": [\"decoder\"],\n",
    "            \"encoder1_w\": [\"concept_mean_predictor\", \"concept_var_predictor\"],\n",
    "            \"encoder2_w\": [\"concept_mean_z3_predictor\", \"concept_var_z3_predictor\"],\n",
    "            \"encoder3_w\": [\"concept_mean_qz3_predictor\", \"concept_var_qz3_predictor\"],\n",
    "            \"classifier_w\": [\"fc1\", \"fc2\", \"fc3\", \"fc4\", \"fc5\"],\n",
    "            \"to_freeze\": [\"fc1\", \"fc2\", \"fc3\", \"fc4\", \"fc5\", \"concept_mean_predictor\", \"concept_var_predictor\"],\n",
    "            \"output_round\": False,\n",
    "        },\n",
    "        \"vcnet\": {\n",
    "            \"model_name\": \"vcnet\",\n",
    "            \"dataset\": \"synthetic\",\n",
    "            \"checkpoint_folder\": \"checkpoints/synthetic/vcnet/\",\n",
    "            \"history_folder\": \"histories/synthetic/vcnet/\",\n",
    "            \"image_folder\": \"images/synthetic/vcnet/\",\n",
    "            \"input_dim\": 3,\n",
    "            \"output_dim\": 2,\n",
    "            \"drop_prob\": 0.3,\n",
    "            \"mask\": torch.nn.Parameter(torch.Tensor([0,0]), requires_grad=False),\n",
    "            \"binary_feature\": torch.nn.Parameter(torch.Tensor([0,0]).bool(), requires_grad=False),\n",
    "            \"mask_evaluation\": torch.Tensor([0,0]),\n",
    "            \"lambda1\": 2,\n",
    "            \"lambda2\": 10,\n",
    "            \"learning_rate\": 0.01,\n",
    "            \"learning_rate_personalization\": 0.01,\n",
    "            \"n_epochs_personalization\": 5,\n",
    "            \"decoder_w\": [\"decoder\"],\n",
    "            \"encoder_w\": [\"concept_mean_predictor\", \"concept_var_predictor\"],\n",
    "            \"classifier_w\": [\"fc1\", \"fc2\", \"fc3\", \"fc4\", \"fc5\"],\n",
    "            \"to_freeze\": [\"concept_mean_predictor\", \"concept_var_predictor\"],\n",
    "            \"output_round\": False,\n",
    "        },\n",
    "        \"predictor\": {\n",
    "            \"model_name\": \"predictor\",\n",
    "            \"dataset\": \"synthetic\",\n",
    "            \"checkpoint_folder\": \"checkpoints/synthetic/predictor/\",\n",
    "            \"history_folder\": \"histories/synthetic/predictor/\",\n",
    "            \"image_folder\": \"images/synthetic/predictor/\",\n",
    "            \"input_dim\": 3,\n",
    "            \"output_dim\": 2,\n",
    "            \"learning_rate\": 0.01,\n",
    "            \"learning_rate_personalization\": 0.01,\n",
    "            \"n_epochs_personalization\": 5,\n",
    "            \"classifier_w\": [\"fc1\", \"fc2\", \"fc3\", \"fc4\", \"fc5\"],\n",
    "            \"to_freeze\": [\"fc1\", \"fc2\", \"fc3\"],\n",
    "            \"output_round\": False,\n",
    "        },\n",
    "        \"min\" : np.array([-5., -5., -5]),\n",
    "        \"max\" : np.array([5., 5., 5.]),\n",
    "        \n",
    "    }\n",
    "}\n"
   ]
  },
  {
   "cell_type": "code",
   "execution_count": 23,
   "metadata": {},
   "outputs": [],
   "source": [
    "def min_max_scaler(X, dataset=\"diabetes\", feature_range=(0, 1)):\n",
    "    X_min = config_tests[dataset]['min']\n",
    "    X_max = config_tests[dataset]['max']\n",
    "    \n",
    "    # Scale X using its own minimum and maximum, this will produce a normalized version of X\n",
    "    X_std = (X - X_min) / (X_max - X_min)\n",
    "    \n",
    "    # Scale X_std to the feature_range\n",
    "    min, max = feature_range\n",
    "    X_scaled = X_std * (max - min) + min\n",
    "    \n",
    "    return X_scaled"
   ]
  },
  {
   "cell_type": "code",
   "execution_count": 15,
   "metadata": {},
   "outputs": [],
   "source": [
    "dataset = \"synthetic\"\n",
    "X_min = config_tests[dataset]['min']\n",
    "X_max = config_tests[dataset]['max']"
   ]
  },
  {
   "cell_type": "code",
   "execution_count": 17,
   "metadata": {},
   "outputs": [
    {
     "data": {
      "text/plain": [
       "array([5., 5., 5.])"
      ]
     },
     "execution_count": 17,
     "metadata": {},
     "output_type": "execute_result"
    }
   ],
   "source": [
    "X_max"
   ]
  },
  {
   "cell_type": "code",
   "execution_count": 14,
   "metadata": {},
   "outputs": [
    {
     "ename": "ValueError",
     "evalue": "operands could not be broadcast together with shapes (3662,2) (3,) ",
     "output_type": "error",
     "traceback": [
      "\u001b[0;31m---------------------------------------------------------------------------\u001b[0m",
      "\u001b[0;31mValueError\u001b[0m                                Traceback (most recent call last)",
      "Cell \u001b[0;32mIn[14], line 4\u001b[0m\n\u001b[1;32m      1\u001b[0m X \u001b[38;5;241m=\u001b[39m df_test\u001b[38;5;241m.\u001b[39mdrop(\u001b[38;5;124m'\u001b[39m\u001b[38;5;124mLabels\u001b[39m\u001b[38;5;124m'\u001b[39m, axis\u001b[38;5;241m=\u001b[39m\u001b[38;5;241m1\u001b[39m)\n\u001b[1;32m      2\u001b[0m y \u001b[38;5;241m=\u001b[39m df_test[\u001b[38;5;124m'\u001b[39m\u001b[38;5;124mLabels\u001b[39m\u001b[38;5;124m'\u001b[39m]\n\u001b[0;32m----> 4\u001b[0m X_test \u001b[38;5;241m=\u001b[39m \u001b[43mmin_max_scaler\u001b[49m\u001b[43m(\u001b[49m\u001b[43mX\u001b[49m\u001b[38;5;241;43m.\u001b[39;49m\u001b[43mvalues\u001b[49m\u001b[43m,\u001b[49m\u001b[43m \u001b[49m\u001b[43mdataset\u001b[49m\u001b[38;5;241;43m=\u001b[39;49m\u001b[38;5;124;43m'\u001b[39;49m\u001b[38;5;124;43msynthetic\u001b[39;49m\u001b[38;5;124;43m'\u001b[39;49m\u001b[43m)\u001b[49m\n",
      "Cell \u001b[0;32mIn[13], line 6\u001b[0m, in \u001b[0;36mmin_max_scaler\u001b[0;34m(X, dataset, feature_range)\u001b[0m\n\u001b[1;32m      3\u001b[0m X_max \u001b[38;5;241m=\u001b[39m config_tests[dataset][\u001b[38;5;124m'\u001b[39m\u001b[38;5;124mmax\u001b[39m\u001b[38;5;124m'\u001b[39m]\n\u001b[1;32m      5\u001b[0m \u001b[38;5;66;03m# Scale X using its own minimum and maximum, this will produce a normalized version of X\u001b[39;00m\n\u001b[0;32m----> 6\u001b[0m X_std \u001b[38;5;241m=\u001b[39m (\u001b[43mX\u001b[49m\u001b[43m \u001b[49m\u001b[38;5;241;43m-\u001b[39;49m\u001b[43m \u001b[49m\u001b[43mX_min\u001b[49m) \u001b[38;5;241m/\u001b[39m (X_max \u001b[38;5;241m-\u001b[39m X_min)\n\u001b[1;32m      8\u001b[0m \u001b[38;5;66;03m# Scale X_std to the feature_range\u001b[39;00m\n\u001b[1;32m      9\u001b[0m \u001b[38;5;28mmin\u001b[39m, \u001b[38;5;28mmax\u001b[39m \u001b[38;5;241m=\u001b[39m feature_range\n",
      "\u001b[0;31mValueError\u001b[0m: operands could not be broadcast together with shapes (3662,2) (3,) "
     ]
    }
   ],
   "source": [
    "X = df_test.drop('Labels', axis=1)\n",
    "y = df_test['Labels']\n",
    "\n",
    "X_test = min_max_scaler(X.values, dataset='synthetic')"
   ]
  },
  {
   "cell_type": "code",
   "execution_count": 18,
   "metadata": {},
   "outputs": [
    {
     "data": {
      "text/plain": [
       "(3662, 2)"
      ]
     },
     "execution_count": 18,
     "metadata": {},
     "output_type": "execute_result"
    }
   ],
   "source": [
    "X.shape"
   ]
  },
  {
   "cell_type": "code",
   "execution_count": null,
   "metadata": {},
   "outputs": [],
   "source": []
  },
  {
   "cell_type": "code",
   "execution_count": 24,
   "metadata": {},
   "outputs": [
    {
     "data": {
      "text/plain": [
       "(222, 2)"
      ]
     },
     "execution_count": 24,
     "metadata": {},
     "output_type": "execute_result"
    }
   ],
   "source": [
    "np.zeros((222, 2)).shape"
   ]
  },
  {
   "cell_type": "code",
   "execution_count": null,
   "metadata": {},
   "outputs": [],
   "source": []
  }
 ],
 "metadata": {
  "kernelspec": {
   "display_name": "CF_FL",
   "language": "python",
   "name": "python3"
  },
  "language_info": {
   "codemirror_mode": {
    "name": "ipython",
    "version": 3
   },
   "file_extension": ".py",
   "mimetype": "text/x-python",
   "name": "python",
   "nbconvert_exporter": "python",
   "pygments_lexer": "ipython3",
   "version": "3.12.1"
  }
 },
 "nbformat": 4,
 "nbformat_minor": 2
}
